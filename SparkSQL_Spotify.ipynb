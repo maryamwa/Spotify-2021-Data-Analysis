{
  "nbformat": 4,
  "nbformat_minor": 0,
  "metadata": {
    "colab": {
      "provenance": []
    },
    "kernelspec": {
      "name": "python3",
      "display_name": "Python 3"
    },
    "language_info": {
      "name": "python"
    }
  },
  "cells": [
    {
      "cell_type": "markdown",
      "source": [
        "we'll use our cleaned data to apply the provided tasks using SparkSQL"
      ],
      "metadata": {
        "id": "RbSf-X2F9dgp"
      }
    },
    {
      "cell_type": "code",
      "execution_count": 2,
      "metadata": {
        "id": "dTBWAelqG7GR",
        "colab": {
          "base_uri": "https://localhost:8080/"
        },
        "outputId": "14fa6211-c14f-43b9-d31d-ed594297774b"
      },
      "outputs": [
        {
          "output_type": "stream",
          "name": "stdout",
          "text": [
            "Looking in indexes: https://pypi.org/simple, https://us-python.pkg.dev/colab-wheels/public/simple/\n",
            "Collecting pyspark\n",
            "  Downloading pyspark-3.4.0.tar.gz (310.8 MB)\n",
            "\u001b[2K     \u001b[90m━━━━━━━━━━━━━━━━━━━━━━━━━━━━━━━━━━━━━━━\u001b[0m \u001b[32m310.8/310.8 MB\u001b[0m \u001b[31m4.4 MB/s\u001b[0m eta \u001b[36m0:00:00\u001b[0m\n",
            "\u001b[?25h  Preparing metadata (setup.py) ... \u001b[?25l\u001b[?25hdone\n",
            "Requirement already satisfied: py4j==0.10.9.7 in /usr/local/lib/python3.10/dist-packages (from pyspark) (0.10.9.7)\n",
            "Building wheels for collected packages: pyspark\n",
            "  Building wheel for pyspark (setup.py) ... \u001b[?25l\u001b[?25hdone\n",
            "  Created wheel for pyspark: filename=pyspark-3.4.0-py2.py3-none-any.whl size=311317130 sha256=5a5e082545f71bf5ec9f8beb535201178ff27163f5d36245af2961c3ce664026\n",
            "  Stored in directory: /root/.cache/pip/wheels/7b/1b/4b/3363a1d04368e7ff0d408e57ff57966fcdf00583774e761327\n",
            "Successfully built pyspark\n",
            "Installing collected packages: pyspark\n",
            "Successfully installed pyspark-3.4.0\n",
            "Looking in indexes: https://pypi.org/simple, https://us-python.pkg.dev/colab-wheels/public/simple/\n",
            "Collecting findspark\n",
            "  Downloading findspark-2.0.1-py2.py3-none-any.whl (4.4 kB)\n",
            "Installing collected packages: findspark\n",
            "Successfully installed findspark-2.0.1\n",
            "Looking in indexes: https://pypi.org/simple, https://us-python.pkg.dev/colab-wheels/public/simple/\n",
            "Collecting pyarrow==1.0.0\n",
            "  Downloading pyarrow-1.0.0.tar.gz (1.2 MB)\n",
            "\u001b[2K     \u001b[90m━━━━━━━━━━━━━━━━━━━━━━━━━━━━━━━━━━━━━━━━\u001b[0m \u001b[32m1.2/1.2 MB\u001b[0m \u001b[31m39.9 MB/s\u001b[0m eta \u001b[36m0:00:00\u001b[0m\n",
            "\u001b[?25h  \u001b[1;31merror\u001b[0m: \u001b[1msubprocess-exited-with-error\u001b[0m\n",
            "  \n",
            "  \u001b[31m×\u001b[0m \u001b[32mpip subprocess to install build dependencies\u001b[0m did not run successfully.\n",
            "  \u001b[31m│\u001b[0m exit code: \u001b[1;36m1\u001b[0m\n",
            "  \u001b[31m╰─>\u001b[0m See above for output.\n",
            "  \n",
            "  \u001b[1;35mnote\u001b[0m: This error originates from a subprocess, and is likely not a problem with pip.\n",
            "  Installing build dependencies ... \u001b[?25l\u001b[?25herror\n",
            "\u001b[1;31merror\u001b[0m: \u001b[1msubprocess-exited-with-error\u001b[0m\n",
            "\n",
            "\u001b[31m×\u001b[0m \u001b[32mpip subprocess to install build dependencies\u001b[0m did not run successfully.\n",
            "\u001b[31m│\u001b[0m exit code: \u001b[1;36m1\u001b[0m\n",
            "\u001b[31m╰─>\u001b[0m See above for output.\n",
            "\n",
            "\u001b[1;35mnote\u001b[0m: This error originates from a subprocess, and is likely not a problem with pip.\n",
            "Looking in indexes: https://pypi.org/simple, https://us-python.pkg.dev/colab-wheels/public/simple/\n",
            "Requirement already satisfied: pandas in /usr/local/lib/python3.10/dist-packages (1.5.3)\n",
            "Requirement already satisfied: python-dateutil>=2.8.1 in /usr/local/lib/python3.10/dist-packages (from pandas) (2.8.2)\n",
            "Requirement already satisfied: pytz>=2020.1 in /usr/local/lib/python3.10/dist-packages (from pandas) (2022.7.1)\n",
            "Requirement already satisfied: numpy>=1.21.0 in /usr/local/lib/python3.10/dist-packages (from pandas) (1.22.4)\n",
            "Requirement already satisfied: six>=1.5 in /usr/local/lib/python3.10/dist-packages (from python-dateutil>=2.8.1->pandas) (1.16.0)\n",
            "Looking in indexes: https://pypi.org/simple, https://us-python.pkg.dev/colab-wheels/public/simple/\n",
            "Collecting numpy==1.19.5\n",
            "  Downloading numpy-1.19.5.zip (7.3 MB)\n",
            "\u001b[2K     \u001b[90m━━━━━━━━━━━━━━━━━━━━━━━━━━━━━━━━━━━━━━━━\u001b[0m \u001b[32m7.3/7.3 MB\u001b[0m \u001b[31m85.5 MB/s\u001b[0m eta \u001b[36m0:00:00\u001b[0m\n",
            "\u001b[?25h  Installing build dependencies ... \u001b[?25l\u001b[?25hdone\n",
            "  Getting requirements to build wheel ... \u001b[?25l\u001b[?25hdone\n",
            "  Preparing metadata (pyproject.toml) ... \u001b[?25l\u001b[?25hdone\n",
            "Building wheels for collected packages: numpy\n",
            "  \u001b[1;31merror\u001b[0m: \u001b[1msubprocess-exited-with-error\u001b[0m\n",
            "  \n",
            "  \u001b[31m×\u001b[0m \u001b[32mBuilding wheel for numpy \u001b[0m\u001b[1;32m(\u001b[0m\u001b[32mpyproject.toml\u001b[0m\u001b[1;32m)\u001b[0m did not run successfully.\n",
            "  \u001b[31m│\u001b[0m exit code: \u001b[1;36m1\u001b[0m\n",
            "  \u001b[31m╰─>\u001b[0m See above for output.\n",
            "  \n",
            "  \u001b[1;35mnote\u001b[0m: This error originates from a subprocess, and is likely not a problem with pip.\n",
            "  Building wheel for numpy (pyproject.toml) ... \u001b[?25l\u001b[?25herror\n",
            "\u001b[31m  ERROR: Failed building wheel for numpy\u001b[0m\u001b[31m\n",
            "\u001b[0mFailed to build numpy\n",
            "\u001b[31mERROR: Could not build wheels for numpy, which is required to install pyproject.toml-based projects\u001b[0m\u001b[31m\n",
            "\u001b[0m"
          ]
        }
      ],
      "source": [
        "# Installing required packages\n",
        "!pip install pyspark\n",
        "!pip install findspark\n",
        "!pip install pyarrow==1.0.0\n",
        "!pip install pandas\n",
        "!pip install numpy==1.19.5"
      ]
    },
    {
      "cell_type": "code",
      "source": [
        "import findspark\n",
        "findspark.init()"
      ],
      "metadata": {
        "id": "S-WLf1Eb90id"
      },
      "execution_count": 3,
      "outputs": []
    },
    {
      "cell_type": "code",
      "source": [
        "import pandas as pd\n",
        "from pyspark import SparkContext, SparkConf\n",
        "from pyspark.sql import SparkSession"
      ],
      "metadata": {
        "id": "0J6PCI0H92rB"
      },
      "execution_count": 4,
      "outputs": []
    },
    {
      "cell_type": "code",
      "source": [
        "# Creating a spark context class\n",
        "sc = SparkContext()\n",
        "\n",
        "# Creating a spark session\n",
        "spark = SparkSession \\\n",
        "    .builder \\\n",
        "    .appName(\"Python Spark DataFrames basic example\") \\\n",
        "    .config(\"spark.some.config.option\", \"some-value\") \\\n",
        "    .getOrCreate()"
      ],
      "metadata": {
        "id": "W-LKFNCK96AI"
      },
      "execution_count": 5,
      "outputs": []
    },
    {
      "cell_type": "code",
      "source": [
        "spark"
      ],
      "metadata": {
        "colab": {
          "base_uri": "https://localhost:8080/",
          "height": 221
        },
        "id": "stSLIuzB98T1",
        "outputId": "55e9690a-bfb8-44e5-a992-933f28f5220c"
      },
      "execution_count": 22,
      "outputs": [
        {
          "output_type": "execute_result",
          "data": {
            "text/plain": [
              "<pyspark.sql.session.SparkSession at 0x7fdcaaaaf4f0>"
            ],
            "text/html": [
              "\n",
              "            <div>\n",
              "                <p><b>SparkSession - in-memory</b></p>\n",
              "                \n",
              "        <div>\n",
              "            <p><b>SparkContext</b></p>\n",
              "\n",
              "            <p><a href=\"http://b06f92893f3e:4040\">Spark UI</a></p>\n",
              "\n",
              "            <dl>\n",
              "              <dt>Version</dt>\n",
              "                <dd><code>v3.4.0</code></dd>\n",
              "              <dt>Master</dt>\n",
              "                <dd><code>local[*]</code></dd>\n",
              "              <dt>AppName</dt>\n",
              "                <dd><code>pyspark-shell</code></dd>\n",
              "            </dl>\n",
              "        </div>\n",
              "        \n",
              "            </div>\n",
              "        "
            ]
          },
          "metadata": {},
          "execution_count": 22
        }
      ]
    },
    {
      "cell_type": "code",
      "source": [
        "# Read the file using `read_csv` function in pandas\n",
        "data = pd.read_csv('/content/cleaned_music.csv')\n",
        "data.head()"
      ],
      "metadata": {
        "colab": {
          "base_uri": "https://localhost:8080/",
          "height": 461
        },
        "id": "5oKjjIfd99NV",
        "outputId": "de26eae6-06f4-4881-9a71-231ee0a6a34f"
      },
      "execution_count": 38,
      "outputs": [
        {
          "output_type": "execute_result",
          "data": {
            "text/plain": [
              "             Artist_Name                         Track_Name  Popularity  \\\n",
              "0                 Boston                       Hitch a Ride        54.0   \n",
              "1          The Raincoats                 No Side to Fall In        35.0   \n",
              "2  Red Hot Chili Peppers  Nobody Weird Like Me - Remastered        53.0   \n",
              "3            The Stooges  Search and Destroy - Iggy Pop Mix        53.0   \n",
              "4          Solomon Burke                None Of Us Are Free        48.0   \n",
              "\n",
              "   danceability  energy             key  loudness_in_(dB)   mode  speechiness  \\\n",
              "0         0.382   0.814  pitch D# or Eb            -7.230  Major       0.0406   \n",
              "1         0.434   0.614        F# or Gb            -8.334  Major       0.0525   \n",
              "2         0.167   0.975         pitch D            -4.279  Major       0.2160   \n",
              "3         0.235   0.977        F# or Gb             0.878  Major       0.1070   \n",
              "4         0.674   0.658         pitch F            -9.647  Minor       0.1040   \n",
              "\n",
              "   acousticness  instrumentalness  liveness  valence  tempo_(BPM)  \\\n",
              "0      0.001100          0.004010    0.1010   0.5690      116.454   \n",
              "1      0.486000          0.000196    0.3940   0.7870      147.681   \n",
              "2      0.000169          0.016100    0.1720   0.0918      199.060   \n",
              "3      0.003530          0.006040    0.1720   0.2410      152.952   \n",
              "4      0.404000          0.000001    0.0981   0.6770      143.292   \n",
              "\n",
              "   Duration_inMins      Genre  \n",
              "0         4.195550    Country  \n",
              "1         1.827783  Alt_Music  \n",
              "2         3.832667    Country  \n",
              "3         3.468883  Alt_Music  \n",
              "4         5.489783        Alt  "
            ],
            "text/html": [
              "\n",
              "  <div id=\"df-e932400d-921b-4c04-a459-a555707a7b34\">\n",
              "    <div class=\"colab-df-container\">\n",
              "      <div>\n",
              "<style scoped>\n",
              "    .dataframe tbody tr th:only-of-type {\n",
              "        vertical-align: middle;\n",
              "    }\n",
              "\n",
              "    .dataframe tbody tr th {\n",
              "        vertical-align: top;\n",
              "    }\n",
              "\n",
              "    .dataframe thead th {\n",
              "        text-align: right;\n",
              "    }\n",
              "</style>\n",
              "<table border=\"1\" class=\"dataframe\">\n",
              "  <thead>\n",
              "    <tr style=\"text-align: right;\">\n",
              "      <th></th>\n",
              "      <th>Artist_Name</th>\n",
              "      <th>Track_Name</th>\n",
              "      <th>Popularity</th>\n",
              "      <th>danceability</th>\n",
              "      <th>energy</th>\n",
              "      <th>key</th>\n",
              "      <th>loudness_in_(dB)</th>\n",
              "      <th>mode</th>\n",
              "      <th>speechiness</th>\n",
              "      <th>acousticness</th>\n",
              "      <th>instrumentalness</th>\n",
              "      <th>liveness</th>\n",
              "      <th>valence</th>\n",
              "      <th>tempo_(BPM)</th>\n",
              "      <th>Duration_inMins</th>\n",
              "      <th>Genre</th>\n",
              "    </tr>\n",
              "  </thead>\n",
              "  <tbody>\n",
              "    <tr>\n",
              "      <th>0</th>\n",
              "      <td>Boston</td>\n",
              "      <td>Hitch a Ride</td>\n",
              "      <td>54.0</td>\n",
              "      <td>0.382</td>\n",
              "      <td>0.814</td>\n",
              "      <td>pitch D# or Eb</td>\n",
              "      <td>-7.230</td>\n",
              "      <td>Major</td>\n",
              "      <td>0.0406</td>\n",
              "      <td>0.001100</td>\n",
              "      <td>0.004010</td>\n",
              "      <td>0.1010</td>\n",
              "      <td>0.5690</td>\n",
              "      <td>116.454</td>\n",
              "      <td>4.195550</td>\n",
              "      <td>Country</td>\n",
              "    </tr>\n",
              "    <tr>\n",
              "      <th>1</th>\n",
              "      <td>The Raincoats</td>\n",
              "      <td>No Side to Fall In</td>\n",
              "      <td>35.0</td>\n",
              "      <td>0.434</td>\n",
              "      <td>0.614</td>\n",
              "      <td>F# or Gb</td>\n",
              "      <td>-8.334</td>\n",
              "      <td>Major</td>\n",
              "      <td>0.0525</td>\n",
              "      <td>0.486000</td>\n",
              "      <td>0.000196</td>\n",
              "      <td>0.3940</td>\n",
              "      <td>0.7870</td>\n",
              "      <td>147.681</td>\n",
              "      <td>1.827783</td>\n",
              "      <td>Alt_Music</td>\n",
              "    </tr>\n",
              "    <tr>\n",
              "      <th>2</th>\n",
              "      <td>Red Hot Chili Peppers</td>\n",
              "      <td>Nobody Weird Like Me - Remastered</td>\n",
              "      <td>53.0</td>\n",
              "      <td>0.167</td>\n",
              "      <td>0.975</td>\n",
              "      <td>pitch D</td>\n",
              "      <td>-4.279</td>\n",
              "      <td>Major</td>\n",
              "      <td>0.2160</td>\n",
              "      <td>0.000169</td>\n",
              "      <td>0.016100</td>\n",
              "      <td>0.1720</td>\n",
              "      <td>0.0918</td>\n",
              "      <td>199.060</td>\n",
              "      <td>3.832667</td>\n",
              "      <td>Country</td>\n",
              "    </tr>\n",
              "    <tr>\n",
              "      <th>3</th>\n",
              "      <td>The Stooges</td>\n",
              "      <td>Search and Destroy - Iggy Pop Mix</td>\n",
              "      <td>53.0</td>\n",
              "      <td>0.235</td>\n",
              "      <td>0.977</td>\n",
              "      <td>F# or Gb</td>\n",
              "      <td>0.878</td>\n",
              "      <td>Major</td>\n",
              "      <td>0.1070</td>\n",
              "      <td>0.003530</td>\n",
              "      <td>0.006040</td>\n",
              "      <td>0.1720</td>\n",
              "      <td>0.2410</td>\n",
              "      <td>152.952</td>\n",
              "      <td>3.468883</td>\n",
              "      <td>Alt_Music</td>\n",
              "    </tr>\n",
              "    <tr>\n",
              "      <th>4</th>\n",
              "      <td>Solomon Burke</td>\n",
              "      <td>None Of Us Are Free</td>\n",
              "      <td>48.0</td>\n",
              "      <td>0.674</td>\n",
              "      <td>0.658</td>\n",
              "      <td>pitch F</td>\n",
              "      <td>-9.647</td>\n",
              "      <td>Minor</td>\n",
              "      <td>0.1040</td>\n",
              "      <td>0.404000</td>\n",
              "      <td>0.000001</td>\n",
              "      <td>0.0981</td>\n",
              "      <td>0.6770</td>\n",
              "      <td>143.292</td>\n",
              "      <td>5.489783</td>\n",
              "      <td>Alt</td>\n",
              "    </tr>\n",
              "  </tbody>\n",
              "</table>\n",
              "</div>\n",
              "      <button class=\"colab-df-convert\" onclick=\"convertToInteractive('df-e932400d-921b-4c04-a459-a555707a7b34')\"\n",
              "              title=\"Convert this dataframe to an interactive table.\"\n",
              "              style=\"display:none;\">\n",
              "        \n",
              "  <svg xmlns=\"http://www.w3.org/2000/svg\" height=\"24px\"viewBox=\"0 0 24 24\"\n",
              "       width=\"24px\">\n",
              "    <path d=\"M0 0h24v24H0V0z\" fill=\"none\"/>\n",
              "    <path d=\"M18.56 5.44l.94 2.06.94-2.06 2.06-.94-2.06-.94-.94-2.06-.94 2.06-2.06.94zm-11 1L8.5 8.5l.94-2.06 2.06-.94-2.06-.94L8.5 2.5l-.94 2.06-2.06.94zm10 10l.94 2.06.94-2.06 2.06-.94-2.06-.94-.94-2.06-.94 2.06-2.06.94z\"/><path d=\"M17.41 7.96l-1.37-1.37c-.4-.4-.92-.59-1.43-.59-.52 0-1.04.2-1.43.59L10.3 9.45l-7.72 7.72c-.78.78-.78 2.05 0 2.83L4 21.41c.39.39.9.59 1.41.59.51 0 1.02-.2 1.41-.59l7.78-7.78 2.81-2.81c.8-.78.8-2.07 0-2.86zM5.41 20L4 18.59l7.72-7.72 1.47 1.35L5.41 20z\"/>\n",
              "  </svg>\n",
              "      </button>\n",
              "      \n",
              "  <style>\n",
              "    .colab-df-container {\n",
              "      display:flex;\n",
              "      flex-wrap:wrap;\n",
              "      gap: 12px;\n",
              "    }\n",
              "\n",
              "    .colab-df-convert {\n",
              "      background-color: #E8F0FE;\n",
              "      border: none;\n",
              "      border-radius: 50%;\n",
              "      cursor: pointer;\n",
              "      display: none;\n",
              "      fill: #1967D2;\n",
              "      height: 32px;\n",
              "      padding: 0 0 0 0;\n",
              "      width: 32px;\n",
              "    }\n",
              "\n",
              "    .colab-df-convert:hover {\n",
              "      background-color: #E2EBFA;\n",
              "      box-shadow: 0px 1px 2px rgba(60, 64, 67, 0.3), 0px 1px 3px 1px rgba(60, 64, 67, 0.15);\n",
              "      fill: #174EA6;\n",
              "    }\n",
              "\n",
              "    [theme=dark] .colab-df-convert {\n",
              "      background-color: #3B4455;\n",
              "      fill: #D2E3FC;\n",
              "    }\n",
              "\n",
              "    [theme=dark] .colab-df-convert:hover {\n",
              "      background-color: #434B5C;\n",
              "      box-shadow: 0px 1px 3px 1px rgba(0, 0, 0, 0.15);\n",
              "      filter: drop-shadow(0px 1px 2px rgba(0, 0, 0, 0.3));\n",
              "      fill: #FFFFFF;\n",
              "    }\n",
              "  </style>\n",
              "\n",
              "      <script>\n",
              "        const buttonEl =\n",
              "          document.querySelector('#df-e932400d-921b-4c04-a459-a555707a7b34 button.colab-df-convert');\n",
              "        buttonEl.style.display =\n",
              "          google.colab.kernel.accessAllowed ? 'block' : 'none';\n",
              "\n",
              "        async function convertToInteractive(key) {\n",
              "          const element = document.querySelector('#df-e932400d-921b-4c04-a459-a555707a7b34');\n",
              "          const dataTable =\n",
              "            await google.colab.kernel.invokeFunction('convertToInteractive',\n",
              "                                                     [key], {});\n",
              "          if (!dataTable) return;\n",
              "\n",
              "          const docLinkHtml = 'Like what you see? Visit the ' +\n",
              "            '<a target=\"_blank\" href=https://colab.research.google.com/notebooks/data_table.ipynb>data table notebook</a>'\n",
              "            + ' to learn more about interactive tables.';\n",
              "          element.innerHTML = '';\n",
              "          dataTable['output_type'] = 'display_data';\n",
              "          await google.colab.output.renderOutput(dataTable, element);\n",
              "          const docLink = document.createElement('div');\n",
              "          docLink.innerHTML = docLinkHtml;\n",
              "          element.appendChild(docLink);\n",
              "        }\n",
              "      </script>\n",
              "    </div>\n",
              "  </div>\n",
              "  "
            ]
          },
          "metadata": {},
          "execution_count": 38
        }
      ]
    },
    {
      "cell_type": "code",
      "source": [
        "data['Track_Name'].count()"
      ],
      "metadata": {
        "colab": {
          "base_uri": "https://localhost:8080/"
        },
        "id": "DTKsZaxcDwz0",
        "outputId": "24732e76-3d6d-466f-b0a4-f4d85e846049"
      },
      "execution_count": 40,
      "outputs": [
        {
          "output_type": "execute_result",
          "data": {
            "text/plain": [
              "10338"
            ]
          },
          "metadata": {},
          "execution_count": 40
        }
      ]
    },
    {
      "cell_type": "code",
      "source": [
        "spark_df2 = spark.createDataFrame(data) "
      ],
      "metadata": {
        "id": "QFzMHMC1-C2t"
      },
      "execution_count": 24,
      "outputs": []
    },
    {
      "cell_type": "code",
      "source": [
        "spark_df2.printSchema()"
      ],
      "metadata": {
        "colab": {
          "base_uri": "https://localhost:8080/"
        },
        "id": "1WcsJBee-Imn",
        "outputId": "bd2ec6c4-da51-47c3-d1d1-2fb458c9cead"
      },
      "execution_count": 25,
      "outputs": [
        {
          "output_type": "stream",
          "name": "stdout",
          "text": [
            "root\n",
            " |-- Artist_Name: string (nullable = true)\n",
            " |-- Track_Name: string (nullable = true)\n",
            " |-- Popularity: double (nullable = true)\n",
            " |-- danceability: double (nullable = true)\n",
            " |-- energy: double (nullable = true)\n",
            " |-- key: string (nullable = true)\n",
            " |-- loudness_in_(dB): double (nullable = true)\n",
            " |-- mode: string (nullable = true)\n",
            " |-- speechiness: double (nullable = true)\n",
            " |-- acousticness: double (nullable = true)\n",
            " |-- instrumentalness: double (nullable = true)\n",
            " |-- liveness: double (nullable = true)\n",
            " |-- valence: double (nullable = true)\n",
            " |-- tempo_(BPM): double (nullable = true)\n",
            " |-- Duration_inMins: double (nullable = true)\n",
            " |-- Genre: string (nullable = true)\n",
            "\n"
          ]
        }
      ]
    },
    {
      "cell_type": "code",
      "source": [
        "spark_df2.createTempView(\"music\") # already exist "
      ],
      "metadata": {
        "id": "FGBIh-qw-KwF"
      },
      "execution_count": null,
      "outputs": []
    },
    {
      "cell_type": "code",
      "source": [
        "# Showing the whole table\n",
        "spark.sql(\"SELECT * FROM music\").show()"
      ],
      "metadata": {
        "colab": {
          "base_uri": "https://localhost:8080/"
        },
        "id": "21b1gtuA-RTp",
        "outputId": "78eaabf1-96f4-4e2e-d812-3c2795483cd6"
      },
      "execution_count": 39,
      "outputs": [
        {
          "output_type": "stream",
          "name": "stdout",
          "text": [
            "+--------------------+--------------------+----------+------------+------+--------------+----------------+-----+-----------+------------+----------------+--------+-------+-----------+------------------+-------------+\n",
            "|         Artist_Name|          Track_Name|Popularity|danceability|energy|           key|loudness_in_(dB)| mode|speechiness|acousticness|instrumentalness|liveness|valence|tempo_(BPM)|   Duration_inMins|        Genre|\n",
            "+--------------------+--------------------+----------+------------+------+--------------+----------------+-----+-----------+------------+----------------+--------+-------+-----------+------------------+-------------+\n",
            "|              Boston|        Hitch a Ride|      54.0|       0.382| 0.814|pitch D# or Eb|           -7.23|Major|     0.0406|      0.0011|         0.00401|   0.101|  0.569|    116.454|           4.19555|      Country|\n",
            "|       The Raincoats|  No Side to Fall In|      35.0|       0.434| 0.614|      F# or Gb|          -8.334|Major|     0.0525|       0.486|         1.96E-4|   0.394|  0.787|    147.681| 1.827783333333333|    Alt_Music|\n",
            "|Red Hot Chili Pep...|Nobody Weird Like...|      53.0|       0.167| 0.975|       pitch D|          -4.279|Major|      0.216|     1.69E-4|          0.0161|   0.172| 0.0918|     199.06| 3.832666666666667|      Country|\n",
            "|         The Stooges|Search and Destro...|      53.0|       0.235| 0.977|      F# or Gb|           0.878|Major|      0.107|     0.00353|         0.00604|   0.172|  0.241|    152.952|3.4688833333333333|    Alt_Music|\n",
            "|       Solomon Burke| None Of Us Are Free|      48.0|       0.674| 0.658|       pitch F|          -9.647|Minor|      0.104|       0.404|         1.34E-6|  0.0981|  0.677|    143.292|5.4897833333333335|          Alt|\n",
            "|        Randy Travis|   On the Other Hand|      55.0|       0.657| 0.415|       pitch F|          -9.915|Major|      0.025|       0.175|         5.65E-6|   0.132|  0.347|      96.03|       3.105783333|        Metal|\n",
            "|Professional Murd...|                Slow|      29.0|       0.431| 0.776|pitch A# or Bb|          -5.403|Major|     0.0527|     2.21E-5|          0.0013|   0.179|  0.318|    120.857|           3.96445|Acoustic/Folk|\n",
            "|       Mohammed Rafi|Meri Dosti Mera Pyar|      11.0|       0.491| 0.563|       pitch G|          -8.588|Minor|     0.0331|       0.957|          0.0023|   0.263|  0.843|     95.558|           4.33045|          Pop|\n",
            "|Harald Lassen, Br...|  How it feels pt. 2|      34.0|       0.462| 0.374|       pitch B|         -12.069|Minor|     0.0331|       0.949|           0.929|   0.131|  0.174|    122.939|           4.44025|        Blues|\n",
            "| Buffalo Springfield| For What It's Worth|      76.0|       0.653| 0.519|       pitch D|         -10.164|Major|     0.0497|       0.406|          0.0209|   0.101|  0.822|     98.883|           2.56155|      Country|\n",
            "|        Elmore James|       Madison Blues|      37.0|       0.431| 0.852|       pitch D|          -6.522|Major|     0.0431|       0.564|           0.208|   0.254|  0.794|     67.601|2.4466666666666668|          Alt|\n",
            "|  Velvet Two Stripes|              Drinks|      31.0|       0.564| 0.801|pitch C# or Db|           -4.73|Minor|     0.0473|     0.00233|          0.0078|   0.067|  0.401|     105.01|           2.57155|      Country|\n",
            "|           Mura Masa|Teenage Headache ...|      48.0|       0.347| 0.411|      F# or Gb|          -8.071|Major|     0.0414|      0.0181|           0.636|  0.0975|  0.395|    171.991|4.7168833333333335|    Alt_Music|\n",
            "|Clairmont The Second|         intres-ting|      44.0|       0.796| 0.441|       pitch G|           -9.83|Major|      0.292|        0.16|         2.89E-5|   0.118|  0.371|    158.105|2.2978666666666667|        Indie|\n",
            "|           Krankhead|          Cut Throat|      29.0|       0.805| 0.448|       pitch G|          -9.452|Major|      0.112|      0.0602|         1.79E-6|   0.113|  0.775|    160.018|               2.3|       HipHop|\n",
            "|     The Stone Roses|       Driving South|      44.0|       0.472| 0.947|       pitch A|          -6.128|Major|     0.0774|     9.43E-6|          0.0155|   0.364|   0.75|     98.784|           5.16445|      Country|\n",
            "|           MC Hammer|  U Can't Touch This|      73.0|       0.867| 0.517|       pitch B|         -13.222|Minor|     0.0875|     0.00456|         3.39E-4|  0.0864|  0.866|    133.148| 4.289333333333333| Instrumental|\n",
            "|            duendita|           Open Eyes|      35.0|       0.341|  0.47|       pitch F|         -10.144|Major|      0.037|       0.226|           0.105|   0.518|  0.203|    144.109|3.4046666666666665|        Indie|\n",
            "|             Rainbow| Since You Been Gone|      66.0|       0.733| 0.726|       pitch G|          -6.514|Major|     0.0371|       0.379|         2.58E-6|   0.471|  0.915|    120.814|             3.286|Acoustic/Folk|\n",
            "|            fijitrip|Private Social Ne...|      30.0|       0.696| 0.661|      F# or Gb|          -5.996|Major|     0.0877|     0.00103|         3.21E-5|   0.114|  0.397|    121.032|            3.0137|    Alt_Music|\n",
            "+--------------------+--------------------+----------+------------+------+--------------+----------------+-----+-----------+------------+----------------+--------+-------+-----------+------------------+-------------+\n",
            "only showing top 20 rows\n",
            "\n"
          ]
        }
      ]
    },
    {
      "cell_type": "markdown",
      "source": [
        "**Part B:**  \n",
        "**Remove any songs that exceed 5 minutes**"
      ],
      "metadata": {
        "id": "wCwl5zvdAEVO"
      }
    },
    {
      "cell_type": "markdown",
      "source": [
        "to do that, we'll select all the column from the music table where the condition : duration < = 5 min , and then, we'll save this query in the variable spark_df2. As shown below: "
      ],
      "metadata": {
        "id": "8rJ-rER_AcSx"
      }
    },
    {
      "cell_type": "code",
      "source": [
        "spark_df2 = spark.sql(\"SELECT * FROM music WHERE Duration_inMins <= 5\")\n",
        "spark_df2.show()"
      ],
      "metadata": {
        "colab": {
          "base_uri": "https://localhost:8080/"
        },
        "id": "yN_0esx2-gJQ",
        "outputId": "5c480eba-8d5e-4183-ace7-aa2dee134552"
      },
      "execution_count": 28,
      "outputs": [
        {
          "output_type": "stream",
          "name": "stdout",
          "text": [
            "+--------------------+--------------------+----------+------------+------+--------------+----------------+-----+-----------+------------+----------------+--------+-------+-----------+------------------+-------------+\n",
            "|         Artist_Name|          Track_Name|Popularity|danceability|energy|           key|loudness_in_(dB)| mode|speechiness|acousticness|instrumentalness|liveness|valence|tempo_(BPM)|   Duration_inMins|        Genre|\n",
            "+--------------------+--------------------+----------+------------+------+--------------+----------------+-----+-----------+------------+----------------+--------+-------+-----------+------------------+-------------+\n",
            "|              Boston|        Hitch a Ride|      54.0|       0.382| 0.814|pitch D# or Eb|           -7.23|Major|     0.0406|      0.0011|         0.00401|   0.101|  0.569|    116.454|           4.19555|      Country|\n",
            "|       The Raincoats|  No Side to Fall In|      35.0|       0.434| 0.614|      F# or Gb|          -8.334|Major|     0.0525|       0.486|         1.96E-4|   0.394|  0.787|    147.681| 1.827783333333333|    Alt_Music|\n",
            "|Red Hot Chili Pep...|Nobody Weird Like...|      53.0|       0.167| 0.975|       pitch D|          -4.279|Major|      0.216|     1.69E-4|          0.0161|   0.172| 0.0918|     199.06| 3.832666666666667|      Country|\n",
            "|         The Stooges|Search and Destro...|      53.0|       0.235| 0.977|      F# or Gb|           0.878|Major|      0.107|     0.00353|         0.00604|   0.172|  0.241|    152.952|3.4688833333333333|    Alt_Music|\n",
            "|        Randy Travis|   On the Other Hand|      55.0|       0.657| 0.415|       pitch F|          -9.915|Major|      0.025|       0.175|         5.65E-6|   0.132|  0.347|      96.03|       3.105783333|        Metal|\n",
            "|Professional Murd...|                Slow|      29.0|       0.431| 0.776|pitch A# or Bb|          -5.403|Major|     0.0527|     2.21E-5|          0.0013|   0.179|  0.318|    120.857|           3.96445|Acoustic/Folk|\n",
            "|       Mohammed Rafi|Meri Dosti Mera Pyar|      11.0|       0.491| 0.563|       pitch G|          -8.588|Minor|     0.0331|       0.957|          0.0023|   0.263|  0.843|     95.558|           4.33045|          Pop|\n",
            "|Harald Lassen, Br...|  How it feels pt. 2|      34.0|       0.462| 0.374|       pitch B|         -12.069|Minor|     0.0331|       0.949|           0.929|   0.131|  0.174|    122.939|           4.44025|        Blues|\n",
            "| Buffalo Springfield| For What It's Worth|      76.0|       0.653| 0.519|       pitch D|         -10.164|Major|     0.0497|       0.406|          0.0209|   0.101|  0.822|     98.883|           2.56155|      Country|\n",
            "|        Elmore James|       Madison Blues|      37.0|       0.431| 0.852|       pitch D|          -6.522|Major|     0.0431|       0.564|           0.208|   0.254|  0.794|     67.601|2.4466666666666668|          Alt|\n",
            "|  Velvet Two Stripes|              Drinks|      31.0|       0.564| 0.801|pitch C# or Db|           -4.73|Minor|     0.0473|     0.00233|          0.0078|   0.067|  0.401|     105.01|           2.57155|      Country|\n",
            "|           Mura Masa|Teenage Headache ...|      48.0|       0.347| 0.411|      F# or Gb|          -8.071|Major|     0.0414|      0.0181|           0.636|  0.0975|  0.395|    171.991|4.7168833333333335|    Alt_Music|\n",
            "|Clairmont The Second|         intres-ting|      44.0|       0.796| 0.441|       pitch G|           -9.83|Major|      0.292|        0.16|         2.89E-5|   0.118|  0.371|    158.105|2.2978666666666667|        Indie|\n",
            "|           Krankhead|          Cut Throat|      29.0|       0.805| 0.448|       pitch G|          -9.452|Major|      0.112|      0.0602|         1.79E-6|   0.113|  0.775|    160.018|               2.3|       HipHop|\n",
            "|           MC Hammer|  U Can't Touch This|      73.0|       0.867| 0.517|       pitch B|         -13.222|Minor|     0.0875|     0.00456|         3.39E-4|  0.0864|  0.866|    133.148| 4.289333333333333| Instrumental|\n",
            "|            duendita|           Open Eyes|      35.0|       0.341|  0.47|       pitch F|         -10.144|Major|      0.037|       0.226|           0.105|   0.518|  0.203|    144.109|3.4046666666666665|        Indie|\n",
            "|             Rainbow| Since You Been Gone|      66.0|       0.733| 0.726|       pitch G|          -6.514|Major|     0.0371|       0.379|         2.58E-6|   0.471|  0.915|    120.814|             3.286|Acoustic/Folk|\n",
            "|            fijitrip|Private Social Ne...|      30.0|       0.696| 0.661|      F# or Gb|          -5.996|Major|     0.0877|     0.00103|         3.21E-5|   0.114|  0.397|    121.032|            3.0137|    Alt_Music|\n",
            "|            Tetrarch|      Negative Noise|      49.0|       0.384| 0.974|pitch C# or Db|          -3.647|Minor|      0.141|     1.53E-4|         2.47E-4|   0.226|  0.155|    194.842| 4.122833333333333|Acoustic/Folk|\n",
            "|Brandon Jack & Th...|           four days|      29.0|       0.516| 0.948|       pitch D|          -3.994|Major|     0.0644|      0.0279|          0.0564|    0.15|  0.957|    170.087|           2.17215|        Indie|\n",
            "+--------------------+--------------------+----------+------------+------+--------------+----------------+-----+-----------+------------+----------------+--------+-------+-----------+------------------+-------------+\n",
            "only showing top 20 rows\n",
            "\n"
          ]
        }
      ]
    },
    {
      "cell_type": "markdown",
      "source": [
        "however, this change will not reflect on spark itself, to make this change on spark we'll apply the following :  "
      ],
      "metadata": {
        "id": "pMCuKmR3BN1q"
      }
    },
    {
      "cell_type": "code",
      "source": [
        "spark_df2.createOrReplaceTempView(\"songs\")\n",
        "# by using this function, we'll save the changes in a new tempview that called songs,\n",
        "# and this is gonna be our updated table and we'll be using it to solve the rest of the questions"
      ],
      "metadata": {
        "id": "fbBc-6kSv2_e"
      },
      "execution_count": 29,
      "outputs": []
    },
    {
      "cell_type": "code",
      "source": [
        "spark.sql(\"SELECT * FROM songs \").show()\n",
        "# display the updated table (songs)"
      ],
      "metadata": {
        "colab": {
          "base_uri": "https://localhost:8080/"
        },
        "id": "S7QQzsxoukKw",
        "outputId": "66c7eb5c-1593-43f8-da3a-d322bc86a62d"
      },
      "execution_count": 30,
      "outputs": [
        {
          "output_type": "stream",
          "name": "stdout",
          "text": [
            "+--------------------+--------------------+----------+------------+------+--------------+----------------+-----+-----------+------------+----------------+--------+-------+-----------+------------------+-------------+\n",
            "|         Artist_Name|          Track_Name|Popularity|danceability|energy|           key|loudness_in_(dB)| mode|speechiness|acousticness|instrumentalness|liveness|valence|tempo_(BPM)|   Duration_inMins|        Genre|\n",
            "+--------------------+--------------------+----------+------------+------+--------------+----------------+-----+-----------+------------+----------------+--------+-------+-----------+------------------+-------------+\n",
            "|              Boston|        Hitch a Ride|      54.0|       0.382| 0.814|pitch D# or Eb|           -7.23|Major|     0.0406|      0.0011|         0.00401|   0.101|  0.569|    116.454|           4.19555|      Country|\n",
            "|       The Raincoats|  No Side to Fall In|      35.0|       0.434| 0.614|      F# or Gb|          -8.334|Major|     0.0525|       0.486|         1.96E-4|   0.394|  0.787|    147.681| 1.827783333333333|    Alt_Music|\n",
            "|Red Hot Chili Pep...|Nobody Weird Like...|      53.0|       0.167| 0.975|       pitch D|          -4.279|Major|      0.216|     1.69E-4|          0.0161|   0.172| 0.0918|     199.06| 3.832666666666667|      Country|\n",
            "|         The Stooges|Search and Destro...|      53.0|       0.235| 0.977|      F# or Gb|           0.878|Major|      0.107|     0.00353|         0.00604|   0.172|  0.241|    152.952|3.4688833333333333|    Alt_Music|\n",
            "|        Randy Travis|   On the Other Hand|      55.0|       0.657| 0.415|       pitch F|          -9.915|Major|      0.025|       0.175|         5.65E-6|   0.132|  0.347|      96.03|       3.105783333|        Metal|\n",
            "|Professional Murd...|                Slow|      29.0|       0.431| 0.776|pitch A# or Bb|          -5.403|Major|     0.0527|     2.21E-5|          0.0013|   0.179|  0.318|    120.857|           3.96445|Acoustic/Folk|\n",
            "|       Mohammed Rafi|Meri Dosti Mera Pyar|      11.0|       0.491| 0.563|       pitch G|          -8.588|Minor|     0.0331|       0.957|          0.0023|   0.263|  0.843|     95.558|           4.33045|          Pop|\n",
            "|Harald Lassen, Br...|  How it feels pt. 2|      34.0|       0.462| 0.374|       pitch B|         -12.069|Minor|     0.0331|       0.949|           0.929|   0.131|  0.174|    122.939|           4.44025|        Blues|\n",
            "| Buffalo Springfield| For What It's Worth|      76.0|       0.653| 0.519|       pitch D|         -10.164|Major|     0.0497|       0.406|          0.0209|   0.101|  0.822|     98.883|           2.56155|      Country|\n",
            "|        Elmore James|       Madison Blues|      37.0|       0.431| 0.852|       pitch D|          -6.522|Major|     0.0431|       0.564|           0.208|   0.254|  0.794|     67.601|2.4466666666666668|          Alt|\n",
            "|  Velvet Two Stripes|              Drinks|      31.0|       0.564| 0.801|pitch C# or Db|           -4.73|Minor|     0.0473|     0.00233|          0.0078|   0.067|  0.401|     105.01|           2.57155|      Country|\n",
            "|           Mura Masa|Teenage Headache ...|      48.0|       0.347| 0.411|      F# or Gb|          -8.071|Major|     0.0414|      0.0181|           0.636|  0.0975|  0.395|    171.991|4.7168833333333335|    Alt_Music|\n",
            "|Clairmont The Second|         intres-ting|      44.0|       0.796| 0.441|       pitch G|           -9.83|Major|      0.292|        0.16|         2.89E-5|   0.118|  0.371|    158.105|2.2978666666666667|        Indie|\n",
            "|           Krankhead|          Cut Throat|      29.0|       0.805| 0.448|       pitch G|          -9.452|Major|      0.112|      0.0602|         1.79E-6|   0.113|  0.775|    160.018|               2.3|       HipHop|\n",
            "|           MC Hammer|  U Can't Touch This|      73.0|       0.867| 0.517|       pitch B|         -13.222|Minor|     0.0875|     0.00456|         3.39E-4|  0.0864|  0.866|    133.148| 4.289333333333333| Instrumental|\n",
            "|            duendita|           Open Eyes|      35.0|       0.341|  0.47|       pitch F|         -10.144|Major|      0.037|       0.226|           0.105|   0.518|  0.203|    144.109|3.4046666666666665|        Indie|\n",
            "|             Rainbow| Since You Been Gone|      66.0|       0.733| 0.726|       pitch G|          -6.514|Major|     0.0371|       0.379|         2.58E-6|   0.471|  0.915|    120.814|             3.286|Acoustic/Folk|\n",
            "|            fijitrip|Private Social Ne...|      30.0|       0.696| 0.661|      F# or Gb|          -5.996|Major|     0.0877|     0.00103|         3.21E-5|   0.114|  0.397|    121.032|            3.0137|    Alt_Music|\n",
            "|            Tetrarch|      Negative Noise|      49.0|       0.384| 0.974|pitch C# or Db|          -3.647|Minor|      0.141|     1.53E-4|         2.47E-4|   0.226|  0.155|    194.842| 4.122833333333333|Acoustic/Folk|\n",
            "|Brandon Jack & Th...|           four days|      29.0|       0.516| 0.948|       pitch D|          -3.994|Major|     0.0644|      0.0279|          0.0564|    0.15|  0.957|    170.087|           2.17215|        Indie|\n",
            "+--------------------+--------------------+----------+------------+------+--------------+----------------+-----+-----------+------------+----------------+--------+-------+-----------+------------------+-------------+\n",
            "only showing top 20 rows\n",
            "\n"
          ]
        }
      ]
    },
    {
      "cell_type": "markdown",
      "source": [
        "**c) Display songs by J. Cole, Novo Amor and Anson Seabra** "
      ],
      "metadata": {
        "id": "VUDsGQd8FA-4"
      }
    },
    {
      "cell_type": "markdown",
      "source": [
        "to display these songs, we'll apply the quesries separately to display a clear result as we tried to do it individually but it didn’t work, we'll simply select the artist name and track name and setting the condition by initializing the artist name to what's required in the question ."
      ],
      "metadata": {
        "id": "YVRpzqFaBvDx"
      }
    },
    {
      "cell_type": "code",
      "source": [
        "spark.sql(\"SELECT Artist_Name, Track_Name FROM songs WHERE Artist_Name = 'J. Cole'\").show()"
      ],
      "metadata": {
        "colab": {
          "base_uri": "https://localhost:8080/"
        },
        "id": "TE597eO0ERdy",
        "outputId": "22bddba4-1c32-4aea-b8c5-524a8c497498"
      },
      "execution_count": 31,
      "outputs": [
        {
          "output_type": "stream",
          "name": "stdout",
          "text": [
            "+-----------+----------+\n",
            "|Artist_Name|Track_Name|\n",
            "+-----------+----------+\n",
            "+-----------+----------+\n",
            "\n"
          ]
        }
      ]
    },
    {
      "cell_type": "code",
      "source": [
        "spark.sql(\"SELECT Artist_Name, Track_Name FROM songs WHERE Artist_Name = 'Novo Amor'\").show(truncate=False)"
      ],
      "metadata": {
        "colab": {
          "base_uri": "https://localhost:8080/"
        },
        "id": "gsc2mFa6GDyS",
        "outputId": "790f18ff-1694-4c78-ddae-a70c7534f538"
      },
      "execution_count": 41,
      "outputs": [
        {
          "output_type": "stream",
          "name": "stdout",
          "text": [
            "+-----------+----------+\n",
            "|Artist_Name|Track_Name|\n",
            "+-----------+----------+\n",
            "|Novo Amor  |Birdcage  |\n",
            "+-----------+----------+\n",
            "\n"
          ]
        }
      ]
    },
    {
      "cell_type": "code",
      "source": [
        "spark.sql(\"SELECT Artist_Name, Track_Name FROM songs WHERE Artist_Name = 'Anson Seabra'\").show(truncate=False)"
      ],
      "metadata": {
        "colab": {
          "base_uri": "https://localhost:8080/"
        },
        "id": "cNVMDyH2GEF5",
        "outputId": "0a81a06e-8dd2-4ebd-e1f6-25ae389001c5"
      },
      "execution_count": 42,
      "outputs": [
        {
          "output_type": "stream",
          "name": "stdout",
          "text": [
            "+------------+--------------------------+\n",
            "|Artist_Name |Track_Name                |\n",
            "+------------+--------------------------+\n",
            "|Anson Seabra|It's Raining, It's Pouring|\n",
            "+------------+--------------------------+\n",
            "\n"
          ]
        }
      ]
    },
    {
      "cell_type": "markdown",
      "source": [
        "**d) How many songs are included in every category?**"
      ],
      "metadata": {
        "id": "TqKcEOqvGWQU"
      }
    },
    {
      "cell_type": "markdown",
      "source": [
        "to display the (count / total number) of songs in each genre/category, we'll use the count method the result will be displayed in a new column called( SongCount) to calculate the total number of songs in each genre where the condition will be grouping by the genre to display the final result. As shown below: "
      ],
      "metadata": {
        "id": "Ttoiyt_zCPIY"
      }
    },
    {
      "cell_type": "code",
      "source": [
        "spark.sql(\"SELECT Genre, COUNT(*) as SongCount FROM songs GROUP BY Genre\").show()"
      ],
      "metadata": {
        "colab": {
          "base_uri": "https://localhost:8080/"
        },
        "id": "8WEgM0ZtGVtq",
        "outputId": "5cd6a244-a960-49ac-eced-117ed55e5a08"
      },
      "execution_count": 34,
      "outputs": [
        {
          "output_type": "stream",
          "name": "stdout",
          "text": [
            "+-------------+---------+\n",
            "|        Genre|SongCount|\n",
            "+-------------+---------+\n",
            "|          Alt|      714|\n",
            "| Instrumental|      800|\n",
            "|    Alt_Music|     1548|\n",
            "|        Metal|      137|\n",
            "|         Rock|      297|\n",
            "|        Blues|      275|\n",
            "|Acoustic/Folk|      985|\n",
            "|          Pop|      139|\n",
            "|      Country|     2405|\n",
            "|       HipHop|      373|\n",
            "|        Indie|      851|\n",
            "+-------------+---------+\n",
            "\n"
          ]
        }
      ]
    },
    {
      "cell_type": "markdown",
      "source": [
        "**e) Which artists dominated the charts?**"
      ],
      "metadata": {
        "id": "BMHhdVGhG1UA"
      }
    },
    {
      "cell_type": "markdown",
      "source": [
        "same concept of spark dataframe will be applied here, first, we'll select the artist name. Then, we'll find the max popularity of each song and we will be grouping by the artist name with their corresponding max popularity but it will be sorted in a descending order. As shown below:"
      ],
      "metadata": {
        "id": "bhNF-RsAGFZo"
      }
    },
    {
      "cell_type": "code",
      "source": [
        "spark.sql(\"SELECT Artist_Name, MAX(Popularity) as MaxPopularity FROM songs GROUP BY Artist_Name ORDER BY MaxPopularity DESC\").show()"
      ],
      "metadata": {
        "colab": {
          "base_uri": "https://localhost:8080/"
        },
        "id": "dVrXQVVuHl1L",
        "outputId": "6d83723e-d029-49e1-b023-47972c357682"
      },
      "execution_count": 35,
      "outputs": [
        {
          "output_type": "stream",
          "name": "stdout",
          "text": [
            "+--------------------+-------------+\n",
            "|         Artist_Name|MaxPopularity|\n",
            "+--------------------+-------------+\n",
            "|            Doja Cat|         98.0|\n",
            "|          Ed Sheeran|         97.0|\n",
            "|       Doja Cat, SZA|         95.0|\n",
            "|      Olivia Rodrigo|         95.0|\n",
            "|      Rauw Alejandro|         95.0|\n",
            "|               Riton|         94.0|\n",
            "|       Billie Eilish|         93.0|\n",
            "|          Nio Garcia|         93.0|\n",
            "|Riton, Nightcrawl...|         92.0|\n",
            "|                 ATB|         91.0|\n",
            "|        Bella Poarch|         90.0|\n",
            "|          Joel Corry|         90.0|\n",
            "|         Post Malone|         90.0|\n",
            "|             Cardi B|         90.0|\n",
            "|              AURORA|         89.0|\n",
            "|            Lil Tjay|         89.0|\n",
            "|  Majestic, Boney M.|         89.0|\n",
            "|                 SZA|         89.0|\n",
            "|            Saweetie|         89.0|\n",
            "|            Majestic|         88.0|\n",
            "+--------------------+-------------+\n",
            "only showing top 20 rows\n",
            "\n"
          ]
        }
      ]
    },
    {
      "cell_type": "markdown",
      "source": [
        "**f) What songs would be considered for the “Billboard Top 10 Songs of the Year”? (mention their artists as well)**"
      ],
      "metadata": {
        "id": "nbhRjC-KIAI0"
      }
    },
    {
      "cell_type": "markdown",
      "source": [
        "to find the top 10 songs, we'll select the track name, artist name, and popularity where we'll be grouping by the popularity in a desceding order with setting a limit to be = 10 as we just want the top 10 songs ."
      ],
      "metadata": {
        "id": "1-sbZPF4HZ32"
      }
    },
    {
      "cell_type": "markdown",
      "source": [
        "the reason of choosing the popularity to be our attribute that will sort the songs based on it is because these top songs are actually top because they're popular/ most trending . "
      ],
      "metadata": {
        "id": "2JisNJ7zIRf9"
      }
    },
    {
      "cell_type": "code",
      "source": [
        "spark.sql(\"SELECT Artist_Name, Track_Name, Popularity FROM songs ORDER BY Popularity DESC LIMIT 10\").show(truncate=False)\n"
      ],
      "metadata": {
        "colab": {
          "base_uri": "https://localhost:8080/"
        },
        "id": "ZuCRsOzsH_19",
        "outputId": "5170e41a-b3ed-44d2-aa78-940029caad80"
      },
      "execution_count": 43,
      "outputs": [
        {
          "output_type": "stream",
          "name": "stdout",
          "text": [
            "+--------------+--------------------------------------------------+----------+\n",
            "|Artist_Name   |Track_Name                                        |Popularity|\n",
            "+--------------+--------------------------------------------------+----------+\n",
            "|Doja Cat      |Kiss Me More (feat. SZA)                          |98.0      |\n",
            "|Ed Sheeran    |Bad Habits                                        |97.0      |\n",
            "|Doja Cat, SZA |Kiss Me More (feat. SZA)                          |95.0      |\n",
            "|Rauw Alejandro|Todo De Ti                                        |95.0      |\n",
            "|Olivia Rodrigo|deja vu                                           |95.0      |\n",
            "|Olivia Rodrigo|drivers license                                   |95.0      |\n",
            "|Doja Cat, SZA |Kiss Me More (feat. SZA)                          |95.0      |\n",
            "|Riton         |Friday (feat. Mufasa & Hypeman) - Dopamine Re-Edit|94.0      |\n",
            "|Nio Garcia    |Am                                                |93.0      |\n",
            "|Billie Eilish |Your Power                                        |93.0      |\n",
            "+--------------+--------------------------------------------------+----------+\n",
            "\n"
          ]
        }
      ]
    },
    {
      "cell_type": "markdown",
      "source": [
        "**g) Recommend at least 5 songs that can be played at a party**\n"
      ],
      "metadata": {
        "id": "1pcxRhmJIFkT"
      }
    },
    {
      "cell_type": "markdown",
      "source": [
        "we can apply the same query here as the same concept goes here with the only different fel limit to be = 5. Meaning that, to recommend songs in a party, we'll think of how the song is popular/ trending between people so they can really have fun :) \n",
        "\n",
        "( as the goal of a party is to dance and have fun with something we really like) "
      ],
      "metadata": {
        "id": "RVQnAm2lItyk"
      }
    },
    {
      "cell_type": "code",
      "source": [
        "spark.sql(\"SELECT Track_Name, Artist_Name, Popularity FROM songs ORDER BY Popularity DESC LIMIT 5\").show(truncate=False)"
      ],
      "metadata": {
        "colab": {
          "base_uri": "https://localhost:8080/"
        },
        "id": "29sguJAJIFwC",
        "outputId": "5fa37a17-5d48-4da6-b338-97d5c13cedb9"
      },
      "execution_count": 44,
      "outputs": [
        {
          "output_type": "stream",
          "name": "stdout",
          "text": [
            "+------------------------+--------------+----------+\n",
            "|Track_Name              |Artist_Name   |Popularity|\n",
            "+------------------------+--------------+----------+\n",
            "|Kiss Me More (feat. SZA)|Doja Cat      |98.0      |\n",
            "|Bad Habits              |Ed Sheeran    |97.0      |\n",
            "|deja vu                 |Olivia Rodrigo|95.0      |\n",
            "|drivers license         |Olivia Rodrigo|95.0      |\n",
            "|Kiss Me More (feat. SZA)|Doja Cat, SZA |95.0      |\n",
            "+------------------------+--------------+----------+\n",
            "\n"
          ]
        }
      ]
    }
  ]
}