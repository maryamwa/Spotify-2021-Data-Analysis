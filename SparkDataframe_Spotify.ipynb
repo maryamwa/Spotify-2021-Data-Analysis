{
  "cells": [
    {
      "cell_type": "code",
      "execution_count": 1,
      "metadata": {
        "colab": {
          "base_uri": "https://localhost:8080/"
        },
        "id": "1h_2a0Rx7I9X",
        "outputId": "e9843612-9697-48d8-8196-717fc3130efb"
      },
      "outputs": [
        {
          "output_type": "stream",
          "name": "stdout",
          "text": [
            "Looking in indexes: https://pypi.org/simple, https://us-python.pkg.dev/colab-wheels/public/simple/\n",
            "Collecting pyspark\n",
            "  Downloading pyspark-3.4.0.tar.gz (310.8 MB)\n",
            "\u001b[2K     \u001b[90m━━━━━━━━━━━━━━━━━━━━━━━━━━━━━━━━━━━━━━━\u001b[0m \u001b[32m310.8/310.8 MB\u001b[0m \u001b[31m2.8 MB/s\u001b[0m eta \u001b[36m0:00:00\u001b[0m\n",
            "\u001b[?25h  Preparing metadata (setup.py) ... \u001b[?25l\u001b[?25hdone\n",
            "Requirement already satisfied: py4j==0.10.9.7 in /usr/local/lib/python3.10/dist-packages (from pyspark) (0.10.9.7)\n",
            "Building wheels for collected packages: pyspark\n",
            "  Building wheel for pyspark (setup.py) ... \u001b[?25l\u001b[?25hdone\n",
            "  Created wheel for pyspark: filename=pyspark-3.4.0-py2.py3-none-any.whl size=311317130 sha256=0ad9dabf674509e2446ef83c78f95ba2605797da91bda66c8438333ff1c0ded2\n",
            "  Stored in directory: /root/.cache/pip/wheels/7b/1b/4b/3363a1d04368e7ff0d408e57ff57966fcdf00583774e761327\n",
            "Successfully built pyspark\n",
            "Installing collected packages: pyspark\n",
            "Successfully installed pyspark-3.4.0\n",
            "Looking in indexes: https://pypi.org/simple, https://us-python.pkg.dev/colab-wheels/public/simple/\n",
            "Collecting findspark\n",
            "  Downloading findspark-2.0.1-py2.py3-none-any.whl (4.4 kB)\n",
            "Installing collected packages: findspark\n",
            "Successfully installed findspark-2.0.1\n",
            "Looking in indexes: https://pypi.org/simple, https://us-python.pkg.dev/colab-wheels/public/simple/\n",
            "Collecting pyarrow==1.0.0\n",
            "  Downloading pyarrow-1.0.0.tar.gz (1.2 MB)\n",
            "\u001b[2K     \u001b[90m━━━━━━━━━━━━━━━━━━━━━━━━━━━━━━━━━━━━━━━━\u001b[0m \u001b[32m1.2/1.2 MB\u001b[0m \u001b[31m25.7 MB/s\u001b[0m eta \u001b[36m0:00:00\u001b[0m\n",
            "\u001b[?25h  \u001b[1;31merror\u001b[0m: \u001b[1msubprocess-exited-with-error\u001b[0m\n",
            "  \n",
            "  \u001b[31m×\u001b[0m \u001b[32mpip subprocess to install build dependencies\u001b[0m did not run successfully.\n",
            "  \u001b[31m│\u001b[0m exit code: \u001b[1;36m1\u001b[0m\n",
            "  \u001b[31m╰─>\u001b[0m See above for output.\n",
            "  \n",
            "  \u001b[1;35mnote\u001b[0m: This error originates from a subprocess, and is likely not a problem with pip.\n",
            "  Installing build dependencies ... \u001b[?25l\u001b[?25herror\n",
            "\u001b[1;31merror\u001b[0m: \u001b[1msubprocess-exited-with-error\u001b[0m\n",
            "\n",
            "\u001b[31m×\u001b[0m \u001b[32mpip subprocess to install build dependencies\u001b[0m did not run successfully.\n",
            "\u001b[31m│\u001b[0m exit code: \u001b[1;36m1\u001b[0m\n",
            "\u001b[31m╰─>\u001b[0m See above for output.\n",
            "\n",
            "\u001b[1;35mnote\u001b[0m: This error originates from a subprocess, and is likely not a problem with pip.\n",
            "Looking in indexes: https://pypi.org/simple, https://us-python.pkg.dev/colab-wheels/public/simple/\n",
            "Requirement already satisfied: pandas in /usr/local/lib/python3.10/dist-packages (1.5.3)\n",
            "Requirement already satisfied: python-dateutil>=2.8.1 in /usr/local/lib/python3.10/dist-packages (from pandas) (2.8.2)\n",
            "Requirement already satisfied: pytz>=2020.1 in /usr/local/lib/python3.10/dist-packages (from pandas) (2022.7.1)\n",
            "Requirement already satisfied: numpy>=1.21.0 in /usr/local/lib/python3.10/dist-packages (from pandas) (1.22.4)\n",
            "Requirement already satisfied: six>=1.5 in /usr/local/lib/python3.10/dist-packages (from python-dateutil>=2.8.1->pandas) (1.16.0)\n",
            "Looking in indexes: https://pypi.org/simple, https://us-python.pkg.dev/colab-wheels/public/simple/\n",
            "Collecting numpy==1.19.5\n",
            "  Downloading numpy-1.19.5.zip (7.3 MB)\n",
            "\u001b[2K     \u001b[90m━━━━━━━━━━━━━━━━━━━━━━━━━━━━━━━━━━━━━━━━\u001b[0m \u001b[32m7.3/7.3 MB\u001b[0m \u001b[31m30.1 MB/s\u001b[0m eta \u001b[36m0:00:00\u001b[0m\n",
            "\u001b[?25h  Installing build dependencies ... \u001b[?25l\u001b[?25hdone\n",
            "  Getting requirements to build wheel ... \u001b[?25l\u001b[?25hdone\n",
            "  Preparing metadata (pyproject.toml) ... \u001b[?25l\u001b[?25hdone\n",
            "Building wheels for collected packages: numpy\n",
            "  \u001b[1;31merror\u001b[0m: \u001b[1msubprocess-exited-with-error\u001b[0m\n",
            "  \n",
            "  \u001b[31m×\u001b[0m \u001b[32mBuilding wheel for numpy \u001b[0m\u001b[1;32m(\u001b[0m\u001b[32mpyproject.toml\u001b[0m\u001b[1;32m)\u001b[0m did not run successfully.\n",
            "  \u001b[31m│\u001b[0m exit code: \u001b[1;36m1\u001b[0m\n",
            "  \u001b[31m╰─>\u001b[0m See above for output.\n",
            "  \n",
            "  \u001b[1;35mnote\u001b[0m: This error originates from a subprocess, and is likely not a problem with pip.\n",
            "  Building wheel for numpy (pyproject.toml) ... \u001b[?25l\u001b[?25herror\n",
            "\u001b[31m  ERROR: Failed building wheel for numpy\u001b[0m\u001b[31m\n",
            "\u001b[0mFailed to build numpy\n",
            "\u001b[31mERROR: Could not build wheels for numpy, which is required to install pyproject.toml-based projects\u001b[0m\u001b[31m\n",
            "\u001b[0m"
          ]
        }
      ],
      "source": [
        "# Installing required packages\n",
        "!pip install pyspark\n",
        "!pip install findspark\n",
        "!pip install pyarrow==1.0.0\n",
        "!pip install pandas\n",
        "!pip install numpy==1.19.5"
      ]
    },
    {
      "cell_type": "code",
      "execution_count": 6,
      "metadata": {
        "id": "GqWeR7Pq67la"
      },
      "outputs": [],
      "source": [
        "import findspark\n",
        "findspark.init()"
      ]
    },
    {
      "cell_type": "code",
      "execution_count": 7,
      "metadata": {
        "id": "kJsK_SMF82nF"
      },
      "outputs": [],
      "source": [
        "import pandas as pd\n",
        "from pyspark import SparkContext, SparkConf\n",
        "from pyspark.sql import SparkSession"
      ]
    },
    {
      "cell_type": "code",
      "execution_count": null,
      "metadata": {
        "id": "I9ysDvkw88TN"
      },
      "outputs": [],
      "source": [
        "# Creating a spark context class\n",
        "sc = SparkContext()\n",
        "\n",
        "# Creating a spark session\n",
        "spark = SparkSession \\\n",
        "    .builder \\\n",
        "    .appName(\"Python Spark DataFrames basic example\") \\\n",
        "    .config(\"spark.some.config.option\", \"some-value\") \\\n",
        "    .getOrCreate()"
      ]
    },
    {
      "cell_type": "code",
      "execution_count": 10,
      "metadata": {
        "colab": {
          "base_uri": "https://localhost:8080/",
          "height": 221
        },
        "id": "zGC-hnLa8-mj",
        "outputId": "e487102f-e9e6-4d51-d479-76b93913433f"
      },
      "outputs": [
        {
          "output_type": "execute_result",
          "data": {
            "text/plain": [
              "<pyspark.sql.session.SparkSession at 0x7f7e0e377880>"
            ],
            "text/html": [
              "\n",
              "            <div>\n",
              "                <p><b>SparkSession - in-memory</b></p>\n",
              "                \n",
              "        <div>\n",
              "            <p><b>SparkContext</b></p>\n",
              "\n",
              "            <p><a href=\"http://7dd6e62278cb:4040\">Spark UI</a></p>\n",
              "\n",
              "            <dl>\n",
              "              <dt>Version</dt>\n",
              "                <dd><code>v3.4.0</code></dd>\n",
              "              <dt>Master</dt>\n",
              "                <dd><code>local[*]</code></dd>\n",
              "              <dt>AppName</dt>\n",
              "                <dd><code>pyspark-shell</code></dd>\n",
              "            </dl>\n",
              "        </div>\n",
              "        \n",
              "            </div>\n",
              "        "
            ]
          },
          "metadata": {},
          "execution_count": 10
        }
      ],
      "source": [
        "spark"
      ]
    },
    {
      "cell_type": "code",
      "execution_count": 11,
      "metadata": {
        "colab": {
          "base_uri": "https://localhost:8080/",
          "height": 444
        },
        "id": "TzljERG48-2U",
        "outputId": "4c72b125-fa94-42da-b0fc-c109e183cfbc"
      },
      "outputs": [
        {
          "output_type": "execute_result",
          "data": {
            "text/plain": [
              "             Artist Name                             Track Name  Popularity  \\\n",
              "0             Bruno Mars  That's What I Like (feat. Gucci Mane)        60.0   \n",
              "1                 Boston                           Hitch a Ride        54.0   \n",
              "2          The Raincoats                     No Side to Fall In        35.0   \n",
              "3                   Deno             Lingo (feat. J.I & Chunkz)        66.0   \n",
              "4  Red Hot Chili Peppers      Nobody Weird Like Me - Remastered        53.0   \n",
              "\n",
              "   danceability  energy   key  loudness  mode  speechiness  acousticness  \\\n",
              "0         0.854   0.564   1.0    -4.964     1       0.0485      0.017100   \n",
              "1         0.382   0.814   3.0    -7.230     1       0.0406      0.001100   \n",
              "2         0.434   0.614   6.0    -8.334     1       0.0525      0.486000   \n",
              "3         0.853   0.597  10.0    -6.528     0       0.0555      0.021200   \n",
              "4         0.167   0.975   2.0    -4.279     1       0.2160      0.000169   \n",
              "\n",
              "   instrumentalness  liveness  valence    tempo  duration_in min/ms  \\\n",
              "0               NaN    0.0849   0.8990  134.071            234596.0   \n",
              "1          0.004010    0.1010   0.5690  116.454            251733.0   \n",
              "2          0.000196    0.3940   0.7870  147.681            109667.0   \n",
              "3               NaN    0.1220   0.5690  107.033            173968.0   \n",
              "4          0.016100    0.1720   0.0918  199.060            229960.0   \n",
              "\n",
              "   time_signature  Genre  \n",
              "0               4      5  \n",
              "1               4     10  \n",
              "2               4      6  \n",
              "3               4      5  \n",
              "4               4     10  "
            ],
            "text/html": [
              "\n",
              "  <div id=\"df-4dd5d2cc-2739-4798-9d55-e5720ae683f4\">\n",
              "    <div class=\"colab-df-container\">\n",
              "      <div>\n",
              "<style scoped>\n",
              "    .dataframe tbody tr th:only-of-type {\n",
              "        vertical-align: middle;\n",
              "    }\n",
              "\n",
              "    .dataframe tbody tr th {\n",
              "        vertical-align: top;\n",
              "    }\n",
              "\n",
              "    .dataframe thead th {\n",
              "        text-align: right;\n",
              "    }\n",
              "</style>\n",
              "<table border=\"1\" class=\"dataframe\">\n",
              "  <thead>\n",
              "    <tr style=\"text-align: right;\">\n",
              "      <th></th>\n",
              "      <th>Artist Name</th>\n",
              "      <th>Track Name</th>\n",
              "      <th>Popularity</th>\n",
              "      <th>danceability</th>\n",
              "      <th>energy</th>\n",
              "      <th>key</th>\n",
              "      <th>loudness</th>\n",
              "      <th>mode</th>\n",
              "      <th>speechiness</th>\n",
              "      <th>acousticness</th>\n",
              "      <th>instrumentalness</th>\n",
              "      <th>liveness</th>\n",
              "      <th>valence</th>\n",
              "      <th>tempo</th>\n",
              "      <th>duration_in min/ms</th>\n",
              "      <th>time_signature</th>\n",
              "      <th>Genre</th>\n",
              "    </tr>\n",
              "  </thead>\n",
              "  <tbody>\n",
              "    <tr>\n",
              "      <th>0</th>\n",
              "      <td>Bruno Mars</td>\n",
              "      <td>That's What I Like (feat. Gucci Mane)</td>\n",
              "      <td>60.0</td>\n",
              "      <td>0.854</td>\n",
              "      <td>0.564</td>\n",
              "      <td>1.0</td>\n",
              "      <td>-4.964</td>\n",
              "      <td>1</td>\n",
              "      <td>0.0485</td>\n",
              "      <td>0.017100</td>\n",
              "      <td>NaN</td>\n",
              "      <td>0.0849</td>\n",
              "      <td>0.8990</td>\n",
              "      <td>134.071</td>\n",
              "      <td>234596.0</td>\n",
              "      <td>4</td>\n",
              "      <td>5</td>\n",
              "    </tr>\n",
              "    <tr>\n",
              "      <th>1</th>\n",
              "      <td>Boston</td>\n",
              "      <td>Hitch a Ride</td>\n",
              "      <td>54.0</td>\n",
              "      <td>0.382</td>\n",
              "      <td>0.814</td>\n",
              "      <td>3.0</td>\n",
              "      <td>-7.230</td>\n",
              "      <td>1</td>\n",
              "      <td>0.0406</td>\n",
              "      <td>0.001100</td>\n",
              "      <td>0.004010</td>\n",
              "      <td>0.1010</td>\n",
              "      <td>0.5690</td>\n",
              "      <td>116.454</td>\n",
              "      <td>251733.0</td>\n",
              "      <td>4</td>\n",
              "      <td>10</td>\n",
              "    </tr>\n",
              "    <tr>\n",
              "      <th>2</th>\n",
              "      <td>The Raincoats</td>\n",
              "      <td>No Side to Fall In</td>\n",
              "      <td>35.0</td>\n",
              "      <td>0.434</td>\n",
              "      <td>0.614</td>\n",
              "      <td>6.0</td>\n",
              "      <td>-8.334</td>\n",
              "      <td>1</td>\n",
              "      <td>0.0525</td>\n",
              "      <td>0.486000</td>\n",
              "      <td>0.000196</td>\n",
              "      <td>0.3940</td>\n",
              "      <td>0.7870</td>\n",
              "      <td>147.681</td>\n",
              "      <td>109667.0</td>\n",
              "      <td>4</td>\n",
              "      <td>6</td>\n",
              "    </tr>\n",
              "    <tr>\n",
              "      <th>3</th>\n",
              "      <td>Deno</td>\n",
              "      <td>Lingo (feat. J.I &amp; Chunkz)</td>\n",
              "      <td>66.0</td>\n",
              "      <td>0.853</td>\n",
              "      <td>0.597</td>\n",
              "      <td>10.0</td>\n",
              "      <td>-6.528</td>\n",
              "      <td>0</td>\n",
              "      <td>0.0555</td>\n",
              "      <td>0.021200</td>\n",
              "      <td>NaN</td>\n",
              "      <td>0.1220</td>\n",
              "      <td>0.5690</td>\n",
              "      <td>107.033</td>\n",
              "      <td>173968.0</td>\n",
              "      <td>4</td>\n",
              "      <td>5</td>\n",
              "    </tr>\n",
              "    <tr>\n",
              "      <th>4</th>\n",
              "      <td>Red Hot Chili Peppers</td>\n",
              "      <td>Nobody Weird Like Me - Remastered</td>\n",
              "      <td>53.0</td>\n",
              "      <td>0.167</td>\n",
              "      <td>0.975</td>\n",
              "      <td>2.0</td>\n",
              "      <td>-4.279</td>\n",
              "      <td>1</td>\n",
              "      <td>0.2160</td>\n",
              "      <td>0.000169</td>\n",
              "      <td>0.016100</td>\n",
              "      <td>0.1720</td>\n",
              "      <td>0.0918</td>\n",
              "      <td>199.060</td>\n",
              "      <td>229960.0</td>\n",
              "      <td>4</td>\n",
              "      <td>10</td>\n",
              "    </tr>\n",
              "  </tbody>\n",
              "</table>\n",
              "</div>\n",
              "      <button class=\"colab-df-convert\" onclick=\"convertToInteractive('df-4dd5d2cc-2739-4798-9d55-e5720ae683f4')\"\n",
              "              title=\"Convert this dataframe to an interactive table.\"\n",
              "              style=\"display:none;\">\n",
              "        \n",
              "  <svg xmlns=\"http://www.w3.org/2000/svg\" height=\"24px\"viewBox=\"0 0 24 24\"\n",
              "       width=\"24px\">\n",
              "    <path d=\"M0 0h24v24H0V0z\" fill=\"none\"/>\n",
              "    <path d=\"M18.56 5.44l.94 2.06.94-2.06 2.06-.94-2.06-.94-.94-2.06-.94 2.06-2.06.94zm-11 1L8.5 8.5l.94-2.06 2.06-.94-2.06-.94L8.5 2.5l-.94 2.06-2.06.94zm10 10l.94 2.06.94-2.06 2.06-.94-2.06-.94-.94-2.06-.94 2.06-2.06.94z\"/><path d=\"M17.41 7.96l-1.37-1.37c-.4-.4-.92-.59-1.43-.59-.52 0-1.04.2-1.43.59L10.3 9.45l-7.72 7.72c-.78.78-.78 2.05 0 2.83L4 21.41c.39.39.9.59 1.41.59.51 0 1.02-.2 1.41-.59l7.78-7.78 2.81-2.81c.8-.78.8-2.07 0-2.86zM5.41 20L4 18.59l7.72-7.72 1.47 1.35L5.41 20z\"/>\n",
              "  </svg>\n",
              "      </button>\n",
              "      \n",
              "  <style>\n",
              "    .colab-df-container {\n",
              "      display:flex;\n",
              "      flex-wrap:wrap;\n",
              "      gap: 12px;\n",
              "    }\n",
              "\n",
              "    .colab-df-convert {\n",
              "      background-color: #E8F0FE;\n",
              "      border: none;\n",
              "      border-radius: 50%;\n",
              "      cursor: pointer;\n",
              "      display: none;\n",
              "      fill: #1967D2;\n",
              "      height: 32px;\n",
              "      padding: 0 0 0 0;\n",
              "      width: 32px;\n",
              "    }\n",
              "\n",
              "    .colab-df-convert:hover {\n",
              "      background-color: #E2EBFA;\n",
              "      box-shadow: 0px 1px 2px rgba(60, 64, 67, 0.3), 0px 1px 3px 1px rgba(60, 64, 67, 0.15);\n",
              "      fill: #174EA6;\n",
              "    }\n",
              "\n",
              "    [theme=dark] .colab-df-convert {\n",
              "      background-color: #3B4455;\n",
              "      fill: #D2E3FC;\n",
              "    }\n",
              "\n",
              "    [theme=dark] .colab-df-convert:hover {\n",
              "      background-color: #434B5C;\n",
              "      box-shadow: 0px 1px 3px 1px rgba(0, 0, 0, 0.15);\n",
              "      filter: drop-shadow(0px 1px 2px rgba(0, 0, 0, 0.3));\n",
              "      fill: #FFFFFF;\n",
              "    }\n",
              "  </style>\n",
              "\n",
              "      <script>\n",
              "        const buttonEl =\n",
              "          document.querySelector('#df-4dd5d2cc-2739-4798-9d55-e5720ae683f4 button.colab-df-convert');\n",
              "        buttonEl.style.display =\n",
              "          google.colab.kernel.accessAllowed ? 'block' : 'none';\n",
              "\n",
              "        async function convertToInteractive(key) {\n",
              "          const element = document.querySelector('#df-4dd5d2cc-2739-4798-9d55-e5720ae683f4');\n",
              "          const dataTable =\n",
              "            await google.colab.kernel.invokeFunction('convertToInteractive',\n",
              "                                                     [key], {});\n",
              "          if (!dataTable) return;\n",
              "\n",
              "          const docLinkHtml = 'Like what you see? Visit the ' +\n",
              "            '<a target=\"_blank\" href=https://colab.research.google.com/notebooks/data_table.ipynb>data table notebook</a>'\n",
              "            + ' to learn more about interactive tables.';\n",
              "          element.innerHTML = '';\n",
              "          dataTable['output_type'] = 'display_data';\n",
              "          await google.colab.output.renderOutput(dataTable, element);\n",
              "          const docLink = document.createElement('div');\n",
              "          docLink.innerHTML = docLinkHtml;\n",
              "          element.appendChild(docLink);\n",
              "        }\n",
              "      </script>\n",
              "    </div>\n",
              "  </div>\n",
              "  "
            ]
          },
          "metadata": {},
          "execution_count": 11
        }
      ],
      "source": [
        "df1 = pd.read_csv('/content/music_streaming.csv')\n",
        "df1.head()"
      ]
    },
    {
      "cell_type": "markdown",
      "metadata": {
        "id": "pdrLh2DO90Sk"
      },
      "source": [
        "\n",
        "**a) Perform any necessary data cleaning & engineering that renders your data useable (i.e. handling missing values, duplicates, classification, transformation...etc.)**\n"
      ]
    },
    {
      "cell_type": "markdown",
      "metadata": {
        "id": "8dfBbIWO-CGA"
      },
      "source": [
        "First, we need to check on the columns that contain null values. To do that, we will use pandas library for data cleaning because it contains lot of functions and its an easier/ faster way to clean the data. Then , we can save the cleaned data into spark to apply the provided tasks . "
      ]
    },
    {
      "cell_type": "code",
      "execution_count": 12,
      "metadata": {
        "colab": {
          "base_uri": "https://localhost:8080/"
        },
        "id": "d9uxImw49XcZ",
        "outputId": "688d4977-ef4c-480f-c277-9a50093168c5"
      },
      "outputs": [
        {
          "output_type": "execute_result",
          "data": {
            "text/plain": [
              "Artist Name              0\n",
              "Track Name               0\n",
              "Popularity             394\n",
              "danceability             0\n",
              "energy                   0\n",
              "key                   1743\n",
              "loudness                 0\n",
              "mode                     0\n",
              "speechiness              0\n",
              "acousticness             0\n",
              "instrumentalness      3587\n",
              "liveness                 0\n",
              "valence                  0\n",
              "tempo                    0\n",
              "duration_in min/ms       0\n",
              "time_signature           0\n",
              "Genre                    0\n",
              "dtype: int64"
            ]
          },
          "metadata": {},
          "execution_count": 12
        }
      ],
      "source": [
        "df1.isnull().sum()"
      ]
    },
    {
      "cell_type": "markdown",
      "metadata": {
        "id": "NnGQwhRBaX8R"
      },
      "source": [
        "As we can see here that the columns that have null values are : **popularity** , **key**, and **instrumentalness**"
      ]
    },
    {
      "cell_type": "markdown",
      "metadata": {
        "id": "LaenZO0UbILb"
      },
      "source": [
        "Therefore, we'll remove the null values in these attributes by applying the function ( dropna() ) that drops the 'NA' values and setting the axis to be = 0 because we want to drop the null values in each row . We have a function called ( fillna() ) that fills the null values in our dataset however, we'll not use it because our attributes are actually such a unique or we can say that we cannot replace a key of a song by any random number because it'll not be reasonable . Same goes for the attributes ( popularity and instrumentalness) . We'll remove the entire row from our dataset as it'll be useless info to have it in our dataset . \n",
        "\n",
        "**FYI**\n",
        "\n",
        "axis = 1 --> columns \n",
        "\n",
        "axis = 0 --> rows"
      ]
    },
    {
      "cell_type": "markdown",
      "metadata": {
        "id": "KE2RaYvWei7c"
      },
      "source": [
        "To do that, we'll initialize a value that called **'columns_with_na'** that holds all the attributes ( **popularity** , **key**, and **instrumentalness** ) and using this initialized value, we'll apply what we mentioned earlier . "
      ]
    },
    {
      "cell_type": "code",
      "execution_count": 13,
      "metadata": {
        "id": "4wCE44nRbIbC"
      },
      "outputs": [],
      "source": [
        "columns_with_na = ['Popularity' , 'key', 'instrumentalness']"
      ]
    },
    {
      "cell_type": "code",
      "execution_count": 14,
      "metadata": {
        "id": "m2GY9_68fQht",
        "colab": {
          "base_uri": "https://localhost:8080/"
        },
        "outputId": "03a5ed23-c35d-435b-c56c-57c181fa791c"
      },
      "outputs": [
        {
          "output_type": "stream",
          "name": "stdout",
          "text": [
            "<class 'pandas.core.frame.DataFrame'>\n",
            "Int64Index: 10338 entries, 1 to 15515\n",
            "Data columns (total 17 columns):\n",
            " #   Column              Non-Null Count  Dtype  \n",
            "---  ------              --------------  -----  \n",
            " 0   Artist Name         10338 non-null  object \n",
            " 1   Track Name          10338 non-null  object \n",
            " 2   Popularity          10338 non-null  float64\n",
            " 3   danceability        10338 non-null  float64\n",
            " 4   energy              10338 non-null  float64\n",
            " 5   key                 10338 non-null  float64\n",
            " 6   loudness            10338 non-null  float64\n",
            " 7   mode                10338 non-null  int64  \n",
            " 8   speechiness         10338 non-null  float64\n",
            " 9   acousticness        10338 non-null  float64\n",
            " 10  instrumentalness    10338 non-null  float64\n",
            " 11  liveness            10338 non-null  float64\n",
            " 12  valence             10338 non-null  float64\n",
            " 13  tempo               10338 non-null  float64\n",
            " 14  duration_in min/ms  10338 non-null  float64\n",
            " 15  time_signature      10338 non-null  int64  \n",
            " 16  Genre               10338 non-null  int64  \n",
            "dtypes: float64(12), int64(3), object(2)\n",
            "memory usage: 1.4+ MB\n"
          ]
        }
      ],
      "source": [
        "cleaned_df1 = df1.dropna(axis=0, how = 'any', subset = columns_with_na, inplace = False)\n",
        "cleaned_df1.info()"
      ]
    },
    {
      "cell_type": "code",
      "execution_count": 15,
      "metadata": {
        "colab": {
          "base_uri": "https://localhost:8080/"
        },
        "id": "lHH1qIEtghVe",
        "outputId": "d09c3c8c-2bc4-4833-afb2-9fd6b07b6d3f"
      },
      "outputs": [
        {
          "output_type": "execute_result",
          "data": {
            "text/plain": [
              "Artist Name           0\n",
              "Track Name            0\n",
              "Popularity            0\n",
              "danceability          0\n",
              "energy                0\n",
              "key                   0\n",
              "loudness              0\n",
              "mode                  0\n",
              "speechiness           0\n",
              "acousticness          0\n",
              "instrumentalness      0\n",
              "liveness              0\n",
              "valence               0\n",
              "tempo                 0\n",
              "duration_in min/ms    0\n",
              "time_signature        0\n",
              "Genre                 0\n",
              "dtype: int64"
            ]
          },
          "metadata": {},
          "execution_count": 15
        }
      ],
      "source": [
        "cleaned_df1.isnull().sum()"
      ]
    },
    {
      "cell_type": "code",
      "execution_count": 16,
      "metadata": {
        "colab": {
          "base_uri": "https://localhost:8080/",
          "height": 426
        },
        "id": "s5wLkpXvhGHL",
        "outputId": "5654a01c-2706-4b41-cb5d-4ef0797ce61e"
      },
      "outputs": [
        {
          "output_type": "execute_result",
          "data": {
            "text/plain": [
              "             Artist Name                         Track Name  Popularity  \\\n",
              "1                 Boston                       Hitch a Ride        54.0   \n",
              "2          The Raincoats                 No Side to Fall In        35.0   \n",
              "4  Red Hot Chili Peppers  Nobody Weird Like Me - Remastered        53.0   \n",
              "5            The Stooges  Search and Destroy - Iggy Pop Mix        53.0   \n",
              "6          Solomon Burke                None Of Us Are Free        48.0   \n",
              "\n",
              "   danceability  energy  key  loudness  mode  speechiness  acousticness  \\\n",
              "1         0.382   0.814  3.0    -7.230     1       0.0406      0.001100   \n",
              "2         0.434   0.614  6.0    -8.334     1       0.0525      0.486000   \n",
              "4         0.167   0.975  2.0    -4.279     1       0.2160      0.000169   \n",
              "5         0.235   0.977  6.0     0.878     1       0.1070      0.003530   \n",
              "6         0.674   0.658  5.0    -9.647     0       0.1040      0.404000   \n",
              "\n",
              "   instrumentalness  liveness  valence    tempo  duration_in min/ms  \\\n",
              "1          0.004010    0.1010   0.5690  116.454            251733.0   \n",
              "2          0.000196    0.3940   0.7870  147.681            109667.0   \n",
              "4          0.016100    0.1720   0.0918  199.060            229960.0   \n",
              "5          0.006040    0.1720   0.2410  152.952            208133.0   \n",
              "6          0.000001    0.0981   0.6770  143.292            329387.0   \n",
              "\n",
              "   time_signature  Genre  \n",
              "1               4     10  \n",
              "2               4      6  \n",
              "4               4     10  \n",
              "5               4      6  \n",
              "6               4      2  "
            ],
            "text/html": [
              "\n",
              "  <div id=\"df-f337dca7-bcd7-4e6a-86ea-f5bf18ebb92d\">\n",
              "    <div class=\"colab-df-container\">\n",
              "      <div>\n",
              "<style scoped>\n",
              "    .dataframe tbody tr th:only-of-type {\n",
              "        vertical-align: middle;\n",
              "    }\n",
              "\n",
              "    .dataframe tbody tr th {\n",
              "        vertical-align: top;\n",
              "    }\n",
              "\n",
              "    .dataframe thead th {\n",
              "        text-align: right;\n",
              "    }\n",
              "</style>\n",
              "<table border=\"1\" class=\"dataframe\">\n",
              "  <thead>\n",
              "    <tr style=\"text-align: right;\">\n",
              "      <th></th>\n",
              "      <th>Artist Name</th>\n",
              "      <th>Track Name</th>\n",
              "      <th>Popularity</th>\n",
              "      <th>danceability</th>\n",
              "      <th>energy</th>\n",
              "      <th>key</th>\n",
              "      <th>loudness</th>\n",
              "      <th>mode</th>\n",
              "      <th>speechiness</th>\n",
              "      <th>acousticness</th>\n",
              "      <th>instrumentalness</th>\n",
              "      <th>liveness</th>\n",
              "      <th>valence</th>\n",
              "      <th>tempo</th>\n",
              "      <th>duration_in min/ms</th>\n",
              "      <th>time_signature</th>\n",
              "      <th>Genre</th>\n",
              "    </tr>\n",
              "  </thead>\n",
              "  <tbody>\n",
              "    <tr>\n",
              "      <th>1</th>\n",
              "      <td>Boston</td>\n",
              "      <td>Hitch a Ride</td>\n",
              "      <td>54.0</td>\n",
              "      <td>0.382</td>\n",
              "      <td>0.814</td>\n",
              "      <td>3.0</td>\n",
              "      <td>-7.230</td>\n",
              "      <td>1</td>\n",
              "      <td>0.0406</td>\n",
              "      <td>0.001100</td>\n",
              "      <td>0.004010</td>\n",
              "      <td>0.1010</td>\n",
              "      <td>0.5690</td>\n",
              "      <td>116.454</td>\n",
              "      <td>251733.0</td>\n",
              "      <td>4</td>\n",
              "      <td>10</td>\n",
              "    </tr>\n",
              "    <tr>\n",
              "      <th>2</th>\n",
              "      <td>The Raincoats</td>\n",
              "      <td>No Side to Fall In</td>\n",
              "      <td>35.0</td>\n",
              "      <td>0.434</td>\n",
              "      <td>0.614</td>\n",
              "      <td>6.0</td>\n",
              "      <td>-8.334</td>\n",
              "      <td>1</td>\n",
              "      <td>0.0525</td>\n",
              "      <td>0.486000</td>\n",
              "      <td>0.000196</td>\n",
              "      <td>0.3940</td>\n",
              "      <td>0.7870</td>\n",
              "      <td>147.681</td>\n",
              "      <td>109667.0</td>\n",
              "      <td>4</td>\n",
              "      <td>6</td>\n",
              "    </tr>\n",
              "    <tr>\n",
              "      <th>4</th>\n",
              "      <td>Red Hot Chili Peppers</td>\n",
              "      <td>Nobody Weird Like Me - Remastered</td>\n",
              "      <td>53.0</td>\n",
              "      <td>0.167</td>\n",
              "      <td>0.975</td>\n",
              "      <td>2.0</td>\n",
              "      <td>-4.279</td>\n",
              "      <td>1</td>\n",
              "      <td>0.2160</td>\n",
              "      <td>0.000169</td>\n",
              "      <td>0.016100</td>\n",
              "      <td>0.1720</td>\n",
              "      <td>0.0918</td>\n",
              "      <td>199.060</td>\n",
              "      <td>229960.0</td>\n",
              "      <td>4</td>\n",
              "      <td>10</td>\n",
              "    </tr>\n",
              "    <tr>\n",
              "      <th>5</th>\n",
              "      <td>The Stooges</td>\n",
              "      <td>Search and Destroy - Iggy Pop Mix</td>\n",
              "      <td>53.0</td>\n",
              "      <td>0.235</td>\n",
              "      <td>0.977</td>\n",
              "      <td>6.0</td>\n",
              "      <td>0.878</td>\n",
              "      <td>1</td>\n",
              "      <td>0.1070</td>\n",
              "      <td>0.003530</td>\n",
              "      <td>0.006040</td>\n",
              "      <td>0.1720</td>\n",
              "      <td>0.2410</td>\n",
              "      <td>152.952</td>\n",
              "      <td>208133.0</td>\n",
              "      <td>4</td>\n",
              "      <td>6</td>\n",
              "    </tr>\n",
              "    <tr>\n",
              "      <th>6</th>\n",
              "      <td>Solomon Burke</td>\n",
              "      <td>None Of Us Are Free</td>\n",
              "      <td>48.0</td>\n",
              "      <td>0.674</td>\n",
              "      <td>0.658</td>\n",
              "      <td>5.0</td>\n",
              "      <td>-9.647</td>\n",
              "      <td>0</td>\n",
              "      <td>0.1040</td>\n",
              "      <td>0.404000</td>\n",
              "      <td>0.000001</td>\n",
              "      <td>0.0981</td>\n",
              "      <td>0.6770</td>\n",
              "      <td>143.292</td>\n",
              "      <td>329387.0</td>\n",
              "      <td>4</td>\n",
              "      <td>2</td>\n",
              "    </tr>\n",
              "  </tbody>\n",
              "</table>\n",
              "</div>\n",
              "      <button class=\"colab-df-convert\" onclick=\"convertToInteractive('df-f337dca7-bcd7-4e6a-86ea-f5bf18ebb92d')\"\n",
              "              title=\"Convert this dataframe to an interactive table.\"\n",
              "              style=\"display:none;\">\n",
              "        \n",
              "  <svg xmlns=\"http://www.w3.org/2000/svg\" height=\"24px\"viewBox=\"0 0 24 24\"\n",
              "       width=\"24px\">\n",
              "    <path d=\"M0 0h24v24H0V0z\" fill=\"none\"/>\n",
              "    <path d=\"M18.56 5.44l.94 2.06.94-2.06 2.06-.94-2.06-.94-.94-2.06-.94 2.06-2.06.94zm-11 1L8.5 8.5l.94-2.06 2.06-.94-2.06-.94L8.5 2.5l-.94 2.06-2.06.94zm10 10l.94 2.06.94-2.06 2.06-.94-2.06-.94-.94-2.06-.94 2.06-2.06.94z\"/><path d=\"M17.41 7.96l-1.37-1.37c-.4-.4-.92-.59-1.43-.59-.52 0-1.04.2-1.43.59L10.3 9.45l-7.72 7.72c-.78.78-.78 2.05 0 2.83L4 21.41c.39.39.9.59 1.41.59.51 0 1.02-.2 1.41-.59l7.78-7.78 2.81-2.81c.8-.78.8-2.07 0-2.86zM5.41 20L4 18.59l7.72-7.72 1.47 1.35L5.41 20z\"/>\n",
              "  </svg>\n",
              "      </button>\n",
              "      \n",
              "  <style>\n",
              "    .colab-df-container {\n",
              "      display:flex;\n",
              "      flex-wrap:wrap;\n",
              "      gap: 12px;\n",
              "    }\n",
              "\n",
              "    .colab-df-convert {\n",
              "      background-color: #E8F0FE;\n",
              "      border: none;\n",
              "      border-radius: 50%;\n",
              "      cursor: pointer;\n",
              "      display: none;\n",
              "      fill: #1967D2;\n",
              "      height: 32px;\n",
              "      padding: 0 0 0 0;\n",
              "      width: 32px;\n",
              "    }\n",
              "\n",
              "    .colab-df-convert:hover {\n",
              "      background-color: #E2EBFA;\n",
              "      box-shadow: 0px 1px 2px rgba(60, 64, 67, 0.3), 0px 1px 3px 1px rgba(60, 64, 67, 0.15);\n",
              "      fill: #174EA6;\n",
              "    }\n",
              "\n",
              "    [theme=dark] .colab-df-convert {\n",
              "      background-color: #3B4455;\n",
              "      fill: #D2E3FC;\n",
              "    }\n",
              "\n",
              "    [theme=dark] .colab-df-convert:hover {\n",
              "      background-color: #434B5C;\n",
              "      box-shadow: 0px 1px 3px 1px rgba(0, 0, 0, 0.15);\n",
              "      filter: drop-shadow(0px 1px 2px rgba(0, 0, 0, 0.3));\n",
              "      fill: #FFFFFF;\n",
              "    }\n",
              "  </style>\n",
              "\n",
              "      <script>\n",
              "        const buttonEl =\n",
              "          document.querySelector('#df-f337dca7-bcd7-4e6a-86ea-f5bf18ebb92d button.colab-df-convert');\n",
              "        buttonEl.style.display =\n",
              "          google.colab.kernel.accessAllowed ? 'block' : 'none';\n",
              "\n",
              "        async function convertToInteractive(key) {\n",
              "          const element = document.querySelector('#df-f337dca7-bcd7-4e6a-86ea-f5bf18ebb92d');\n",
              "          const dataTable =\n",
              "            await google.colab.kernel.invokeFunction('convertToInteractive',\n",
              "                                                     [key], {});\n",
              "          if (!dataTable) return;\n",
              "\n",
              "          const docLinkHtml = 'Like what you see? Visit the ' +\n",
              "            '<a target=\"_blank\" href=https://colab.research.google.com/notebooks/data_table.ipynb>data table notebook</a>'\n",
              "            + ' to learn more about interactive tables.';\n",
              "          element.innerHTML = '';\n",
              "          dataTable['output_type'] = 'display_data';\n",
              "          await google.colab.output.renderOutput(dataTable, element);\n",
              "          const docLink = document.createElement('div');\n",
              "          docLink.innerHTML = docLinkHtml;\n",
              "          element.appendChild(docLink);\n",
              "        }\n",
              "      </script>\n",
              "    </div>\n",
              "  </div>\n",
              "  "
            ]
          },
          "metadata": {},
          "execution_count": 16
        }
      ],
      "source": [
        "cleaned_df1.head()"
      ]
    },
    {
      "cell_type": "markdown",
      "metadata": {
        "id": "IFa1e-vFgovL"
      },
      "source": [
        "as we can see from the above results. We dropped the NA values sucessfully from the dataset.\n",
        "\n",
        "**------------------------------------------------------------------------------------------------------------------------------------------------------------------**"
      ]
    },
    {
      "cell_type": "markdown",
      "metadata": {
        "id": "RpjdZfuAlxi0"
      },
      "source": [
        "***Checking for duplicates***"
      ]
    },
    {
      "cell_type": "code",
      "execution_count": 17,
      "metadata": {
        "colab": {
          "base_uri": "https://localhost:8080/"
        },
        "id": "CBtEXzTLlnbA",
        "outputId": "752fe7ed-655d-4542-feeb-c05e2e657961"
      },
      "outputs": [
        {
          "output_type": "execute_result",
          "data": {
            "text/plain": [
              "0"
            ]
          },
          "metadata": {},
          "execution_count": 17
        }
      ],
      "source": [
        "cleaned_df1.duplicated().sum()"
      ]
    },
    {
      "cell_type": "markdown",
      "metadata": {
        "id": "0ZqxVIiUl1nT"
      },
      "source": [
        "As we can see that there's no duplicates in our dataset\n",
        "\n",
        "**------------------------------------------------------------------------------------------------------------------------------------------------------------------**"
      ]
    },
    {
      "cell_type": "markdown",
      "metadata": {
        "id": "gKXmuN2lrxYW"
      },
      "source": [
        "**Track name and Artist name :** \n",
        "We'll change the name of the attribute \" Track name \" to Track_name and the attribute \"artist name\" to \"Artist_name\" by adding underscore between the two words\n",
        "\n",
        "\n",
        " **for example :** \n",
        "\n",
        "**instead of :** Artist Name \n",
        "\n",
        "**Going to be :** Artist_Name\n",
        "\n",
        "( the reason of doing this is to avoid the problems that could happen (fel spaces) when starting to work in spark DataFrame and SQL\n",
        "\n"
      ]
    },
    {
      "cell_type": "code",
      "execution_count": 18,
      "metadata": {
        "colab": {
          "base_uri": "https://localhost:8080/",
          "height": 588
        },
        "id": "GzrMWgVerwR-",
        "outputId": "4be4e0f7-4627-4a5d-9279-92136cf0a109"
      },
      "outputs": [
        {
          "output_type": "stream",
          "name": "stderr",
          "text": [
            "<ipython-input-18-4433c24f8f9d>:1: SettingWithCopyWarning: \n",
            "A value is trying to be set on a copy of a slice from a DataFrame\n",
            "\n",
            "See the caveats in the documentation: https://pandas.pydata.org/pandas-docs/stable/user_guide/indexing.html#returning-a-view-versus-a-copy\n",
            "  cleaned_df1.rename(columns={'Artist Name': \"Artist_Name\"}, inplace=True)\n",
            "<ipython-input-18-4433c24f8f9d>:2: SettingWithCopyWarning: \n",
            "A value is trying to be set on a copy of a slice from a DataFrame\n",
            "\n",
            "See the caveats in the documentation: https://pandas.pydata.org/pandas-docs/stable/user_guide/indexing.html#returning-a-view-versus-a-copy\n",
            "  cleaned_df1.rename(columns={'Track Name': \"Track_Name\"}, inplace=True)\n"
          ]
        },
        {
          "output_type": "execute_result",
          "data": {
            "text/plain": [
              "             Artist_Name                         Track_Name  Popularity  \\\n",
              "1                 Boston                       Hitch a Ride        54.0   \n",
              "2          The Raincoats                 No Side to Fall In        35.0   \n",
              "4  Red Hot Chili Peppers  Nobody Weird Like Me - Remastered        53.0   \n",
              "5            The Stooges  Search and Destroy - Iggy Pop Mix        53.0   \n",
              "6          Solomon Burke                None Of Us Are Free        48.0   \n",
              "\n",
              "   danceability  energy  key  loudness  mode  speechiness  acousticness  \\\n",
              "1         0.382   0.814  3.0    -7.230     1       0.0406      0.001100   \n",
              "2         0.434   0.614  6.0    -8.334     1       0.0525      0.486000   \n",
              "4         0.167   0.975  2.0    -4.279     1       0.2160      0.000169   \n",
              "5         0.235   0.977  6.0     0.878     1       0.1070      0.003530   \n",
              "6         0.674   0.658  5.0    -9.647     0       0.1040      0.404000   \n",
              "\n",
              "   instrumentalness  liveness  valence    tempo  duration_in min/ms  \\\n",
              "1          0.004010    0.1010   0.5690  116.454            251733.0   \n",
              "2          0.000196    0.3940   0.7870  147.681            109667.0   \n",
              "4          0.016100    0.1720   0.0918  199.060            229960.0   \n",
              "5          0.006040    0.1720   0.2410  152.952            208133.0   \n",
              "6          0.000001    0.0981   0.6770  143.292            329387.0   \n",
              "\n",
              "   time_signature  Genre  \n",
              "1               4     10  \n",
              "2               4      6  \n",
              "4               4     10  \n",
              "5               4      6  \n",
              "6               4      2  "
            ],
            "text/html": [
              "\n",
              "  <div id=\"df-8a2771a0-f6ba-41df-932b-444fd5849901\">\n",
              "    <div class=\"colab-df-container\">\n",
              "      <div>\n",
              "<style scoped>\n",
              "    .dataframe tbody tr th:only-of-type {\n",
              "        vertical-align: middle;\n",
              "    }\n",
              "\n",
              "    .dataframe tbody tr th {\n",
              "        vertical-align: top;\n",
              "    }\n",
              "\n",
              "    .dataframe thead th {\n",
              "        text-align: right;\n",
              "    }\n",
              "</style>\n",
              "<table border=\"1\" class=\"dataframe\">\n",
              "  <thead>\n",
              "    <tr style=\"text-align: right;\">\n",
              "      <th></th>\n",
              "      <th>Artist_Name</th>\n",
              "      <th>Track_Name</th>\n",
              "      <th>Popularity</th>\n",
              "      <th>danceability</th>\n",
              "      <th>energy</th>\n",
              "      <th>key</th>\n",
              "      <th>loudness</th>\n",
              "      <th>mode</th>\n",
              "      <th>speechiness</th>\n",
              "      <th>acousticness</th>\n",
              "      <th>instrumentalness</th>\n",
              "      <th>liveness</th>\n",
              "      <th>valence</th>\n",
              "      <th>tempo</th>\n",
              "      <th>duration_in min/ms</th>\n",
              "      <th>time_signature</th>\n",
              "      <th>Genre</th>\n",
              "    </tr>\n",
              "  </thead>\n",
              "  <tbody>\n",
              "    <tr>\n",
              "      <th>1</th>\n",
              "      <td>Boston</td>\n",
              "      <td>Hitch a Ride</td>\n",
              "      <td>54.0</td>\n",
              "      <td>0.382</td>\n",
              "      <td>0.814</td>\n",
              "      <td>3.0</td>\n",
              "      <td>-7.230</td>\n",
              "      <td>1</td>\n",
              "      <td>0.0406</td>\n",
              "      <td>0.001100</td>\n",
              "      <td>0.004010</td>\n",
              "      <td>0.1010</td>\n",
              "      <td>0.5690</td>\n",
              "      <td>116.454</td>\n",
              "      <td>251733.0</td>\n",
              "      <td>4</td>\n",
              "      <td>10</td>\n",
              "    </tr>\n",
              "    <tr>\n",
              "      <th>2</th>\n",
              "      <td>The Raincoats</td>\n",
              "      <td>No Side to Fall In</td>\n",
              "      <td>35.0</td>\n",
              "      <td>0.434</td>\n",
              "      <td>0.614</td>\n",
              "      <td>6.0</td>\n",
              "      <td>-8.334</td>\n",
              "      <td>1</td>\n",
              "      <td>0.0525</td>\n",
              "      <td>0.486000</td>\n",
              "      <td>0.000196</td>\n",
              "      <td>0.3940</td>\n",
              "      <td>0.7870</td>\n",
              "      <td>147.681</td>\n",
              "      <td>109667.0</td>\n",
              "      <td>4</td>\n",
              "      <td>6</td>\n",
              "    </tr>\n",
              "    <tr>\n",
              "      <th>4</th>\n",
              "      <td>Red Hot Chili Peppers</td>\n",
              "      <td>Nobody Weird Like Me - Remastered</td>\n",
              "      <td>53.0</td>\n",
              "      <td>0.167</td>\n",
              "      <td>0.975</td>\n",
              "      <td>2.0</td>\n",
              "      <td>-4.279</td>\n",
              "      <td>1</td>\n",
              "      <td>0.2160</td>\n",
              "      <td>0.000169</td>\n",
              "      <td>0.016100</td>\n",
              "      <td>0.1720</td>\n",
              "      <td>0.0918</td>\n",
              "      <td>199.060</td>\n",
              "      <td>229960.0</td>\n",
              "      <td>4</td>\n",
              "      <td>10</td>\n",
              "    </tr>\n",
              "    <tr>\n",
              "      <th>5</th>\n",
              "      <td>The Stooges</td>\n",
              "      <td>Search and Destroy - Iggy Pop Mix</td>\n",
              "      <td>53.0</td>\n",
              "      <td>0.235</td>\n",
              "      <td>0.977</td>\n",
              "      <td>6.0</td>\n",
              "      <td>0.878</td>\n",
              "      <td>1</td>\n",
              "      <td>0.1070</td>\n",
              "      <td>0.003530</td>\n",
              "      <td>0.006040</td>\n",
              "      <td>0.1720</td>\n",
              "      <td>0.2410</td>\n",
              "      <td>152.952</td>\n",
              "      <td>208133.0</td>\n",
              "      <td>4</td>\n",
              "      <td>6</td>\n",
              "    </tr>\n",
              "    <tr>\n",
              "      <th>6</th>\n",
              "      <td>Solomon Burke</td>\n",
              "      <td>None Of Us Are Free</td>\n",
              "      <td>48.0</td>\n",
              "      <td>0.674</td>\n",
              "      <td>0.658</td>\n",
              "      <td>5.0</td>\n",
              "      <td>-9.647</td>\n",
              "      <td>0</td>\n",
              "      <td>0.1040</td>\n",
              "      <td>0.404000</td>\n",
              "      <td>0.000001</td>\n",
              "      <td>0.0981</td>\n",
              "      <td>0.6770</td>\n",
              "      <td>143.292</td>\n",
              "      <td>329387.0</td>\n",
              "      <td>4</td>\n",
              "      <td>2</td>\n",
              "    </tr>\n",
              "  </tbody>\n",
              "</table>\n",
              "</div>\n",
              "      <button class=\"colab-df-convert\" onclick=\"convertToInteractive('df-8a2771a0-f6ba-41df-932b-444fd5849901')\"\n",
              "              title=\"Convert this dataframe to an interactive table.\"\n",
              "              style=\"display:none;\">\n",
              "        \n",
              "  <svg xmlns=\"http://www.w3.org/2000/svg\" height=\"24px\"viewBox=\"0 0 24 24\"\n",
              "       width=\"24px\">\n",
              "    <path d=\"M0 0h24v24H0V0z\" fill=\"none\"/>\n",
              "    <path d=\"M18.56 5.44l.94 2.06.94-2.06 2.06-.94-2.06-.94-.94-2.06-.94 2.06-2.06.94zm-11 1L8.5 8.5l.94-2.06 2.06-.94-2.06-.94L8.5 2.5l-.94 2.06-2.06.94zm10 10l.94 2.06.94-2.06 2.06-.94-2.06-.94-.94-2.06-.94 2.06-2.06.94z\"/><path d=\"M17.41 7.96l-1.37-1.37c-.4-.4-.92-.59-1.43-.59-.52 0-1.04.2-1.43.59L10.3 9.45l-7.72 7.72c-.78.78-.78 2.05 0 2.83L4 21.41c.39.39.9.59 1.41.59.51 0 1.02-.2 1.41-.59l7.78-7.78 2.81-2.81c.8-.78.8-2.07 0-2.86zM5.41 20L4 18.59l7.72-7.72 1.47 1.35L5.41 20z\"/>\n",
              "  </svg>\n",
              "      </button>\n",
              "      \n",
              "  <style>\n",
              "    .colab-df-container {\n",
              "      display:flex;\n",
              "      flex-wrap:wrap;\n",
              "      gap: 12px;\n",
              "    }\n",
              "\n",
              "    .colab-df-convert {\n",
              "      background-color: #E8F0FE;\n",
              "      border: none;\n",
              "      border-radius: 50%;\n",
              "      cursor: pointer;\n",
              "      display: none;\n",
              "      fill: #1967D2;\n",
              "      height: 32px;\n",
              "      padding: 0 0 0 0;\n",
              "      width: 32px;\n",
              "    }\n",
              "\n",
              "    .colab-df-convert:hover {\n",
              "      background-color: #E2EBFA;\n",
              "      box-shadow: 0px 1px 2px rgba(60, 64, 67, 0.3), 0px 1px 3px 1px rgba(60, 64, 67, 0.15);\n",
              "      fill: #174EA6;\n",
              "    }\n",
              "\n",
              "    [theme=dark] .colab-df-convert {\n",
              "      background-color: #3B4455;\n",
              "      fill: #D2E3FC;\n",
              "    }\n",
              "\n",
              "    [theme=dark] .colab-df-convert:hover {\n",
              "      background-color: #434B5C;\n",
              "      box-shadow: 0px 1px 3px 1px rgba(0, 0, 0, 0.15);\n",
              "      filter: drop-shadow(0px 1px 2px rgba(0, 0, 0, 0.3));\n",
              "      fill: #FFFFFF;\n",
              "    }\n",
              "  </style>\n",
              "\n",
              "      <script>\n",
              "        const buttonEl =\n",
              "          document.querySelector('#df-8a2771a0-f6ba-41df-932b-444fd5849901 button.colab-df-convert');\n",
              "        buttonEl.style.display =\n",
              "          google.colab.kernel.accessAllowed ? 'block' : 'none';\n",
              "\n",
              "        async function convertToInteractive(key) {\n",
              "          const element = document.querySelector('#df-8a2771a0-f6ba-41df-932b-444fd5849901');\n",
              "          const dataTable =\n",
              "            await google.colab.kernel.invokeFunction('convertToInteractive',\n",
              "                                                     [key], {});\n",
              "          if (!dataTable) return;\n",
              "\n",
              "          const docLinkHtml = 'Like what you see? Visit the ' +\n",
              "            '<a target=\"_blank\" href=https://colab.research.google.com/notebooks/data_table.ipynb>data table notebook</a>'\n",
              "            + ' to learn more about interactive tables.';\n",
              "          element.innerHTML = '';\n",
              "          dataTable['output_type'] = 'display_data';\n",
              "          await google.colab.output.renderOutput(dataTable, element);\n",
              "          const docLink = document.createElement('div');\n",
              "          docLink.innerHTML = docLinkHtml;\n",
              "          element.appendChild(docLink);\n",
              "        }\n",
              "      </script>\n",
              "    </div>\n",
              "  </div>\n",
              "  "
            ]
          },
          "metadata": {},
          "execution_count": 18
        }
      ],
      "source": [
        "cleaned_df1.rename(columns={'Artist Name': \"Artist_Name\"}, inplace=True)\n",
        "cleaned_df1.rename(columns={'Track Name': \"Track_Name\"}, inplace=True)\n",
        "cleaned_df1.head()"
      ]
    },
    {
      "cell_type": "markdown",
      "metadata": {
        "id": "fT0M2k3Jt294"
      },
      "source": [
        "**------------------------------------------------------------------------------------------------------------------------------------------------------------------**"
      ]
    },
    {
      "cell_type": "markdown",
      "metadata": {
        "id": "HXpP-cU0S-VI"
      },
      "source": [
        "**Danceability attribute :** As explained in the description\n",
        "\n",
        "it is a measure that describes how suitable the track is for dancing based on the combination of musical elements mentioned earlier, such as tempo, rhythm stability, beat strength, and overall regularity.\n",
        "\n",
        "Based on our researches, on spotify, it ranges from 0 to 1, and based on the below cell of code, the danceability values range from 0.0644 to 0.989 (approximately 1) , with 0 indicating a song that is least suitable for dancing and 1 representing a highly danceable song. Meaning that, the closer the value is to 1, the more suitable the song is for dancing based on the combination of musical elements mentioned earlier . (elly homa tempo, rhythm , etc ..)"
      ]
    },
    {
      "cell_type": "code",
      "execution_count": 19,
      "metadata": {
        "colab": {
          "base_uri": "https://localhost:8080/"
        },
        "id": "RGLUbe4BglIW",
        "outputId": "f88ae8f4-564c-4162-d66e-965c8beca998"
      },
      "outputs": [
        {
          "output_type": "stream",
          "name": "stdout",
          "text": [
            "Minimum value: 0.0644\n",
            "Maximum value: 0.989\n"
          ]
        }
      ],
      "source": [
        "min_value = min(cleaned_df1['danceability'])\n",
        "max_value = max(cleaned_df1['danceability'])\n",
        "\n",
        "print(\"Minimum value:\", min_value)\n",
        "print(\"Maximum value:\", max_value)"
      ]
    },
    {
      "cell_type": "markdown",
      "metadata": {
        "id": "dhrRChy5cdvf"
      },
      "source": [
        "To understand more, we can take a look on the first song that called : \n",
        "\n",
        "**\"Hitch a Ride\",**  by Boston has a danceability value of 0.382, indicating it is moderately danceable. ( nos nos)\n",
        "\n",
        "So far, we'll not do anything regarding this attribute based on our outcomes. You can take these details as FYI\n",
        "\n",
        "**------------------------------------------------------------------------------------------------------------------------------------------------------------------** "
      ]
    },
    {
      "cell_type": "markdown",
      "metadata": {
        "id": "bzSkzZuOdyFn"
      },
      "source": [
        "**Energy attribute:** As explained in the description, \n",
        "it describes how energetic and dynamic a song feels to the listener. Based on our researches, on spotify, it ranges from 0 to 1,and based on the below cell of code,  it shows the range from 0.00124 ( approximately 0) to 1 .\n"
      ]
    },
    {
      "cell_type": "code",
      "execution_count": 20,
      "metadata": {
        "colab": {
          "base_uri": "https://localhost:8080/"
        },
        "id": "oHejlCw9ipn_",
        "outputId": "d30e0c57-0eb1-4807-bfee-fa454cac3bd7"
      },
      "outputs": [
        {
          "output_type": "stream",
          "name": "stdout",
          "text": [
            "Minimum value: 0.00124\n",
            "Maximum value: 1.0\n"
          ]
        }
      ],
      "source": [
        "min_value = min(cleaned_df1['energy'])\n",
        "max_value = max(cleaned_df1['energy'])\n",
        "\n",
        "print(\"Minimum value:\", min_value)\n",
        "print(\"Maximum value:\", max_value)"
      ]
    },
    {
      "cell_type": "markdown",
      "metadata": {
        "id": "QGlvpJUCiqhS"
      },
      "source": [
        "These values quantify the level of energy for each respective song, with 0 indicating low energy and 1 representing high energy. \n",
        "For example, if we took a look on the fiest song: \n",
        "\n",
        " **\"Hitch a Ride\"**  by Boston has an energy value of 0.814, indicating it is highly energetic.\n",
        "\n",
        " So far, we'll not do anything regarding this attribute based on our outcomes. You can take these details as FYI\n",
        " \n",
        " **------------------------------------------------------------------------------------------------------------------------------------------------------------------**"
      ]
    },
    {
      "cell_type": "markdown",
      "metadata": {
        "id": "Duqa8GeojU3G"
      },
      "source": [
        "**Popularity attribute:** as we understood from the dataset, it refers to the measure of how popular a song is on Spotify. It represents the relative popularity of a song based on its streaming and listener engagement on the platform. \n",
        "\n",
        " Based on our researches, on spotify, it ranges from 1 to 100, and based on the below cell of code, it shows the range from 1 to 98 \n",
        " \n",
        " (approximately 100)"
      ]
    },
    {
      "cell_type": "code",
      "execution_count": 21,
      "metadata": {
        "colab": {
          "base_uri": "https://localhost:8080/"
        },
        "id": "anvUeYqekNpR",
        "outputId": "aed30a14-ab75-4343-9826-6776d61ceee5"
      },
      "outputs": [
        {
          "output_type": "stream",
          "name": "stdout",
          "text": [
            "Minimum value: 1.0\n",
            "Maximum value: 98.0\n"
          ]
        }
      ],
      "source": [
        "min_value = min(cleaned_df1['Popularity'])\n",
        "max_value = max(cleaned_df1['Popularity'])\n",
        "\n",
        "print(\"Minimum value:\", min_value)\n",
        "print(\"Maximum value:\", max_value)"
      ]
    },
    {
      "cell_type": "markdown",
      "metadata": {
        "id": "TOK_E2jGkN6w"
      },
      "source": [
        "**For example:** if we picked the second song : **\"No Side to Fall In\"** by The Raincoats has a popularity value of 35.0, suggesting a lower level of popularity.\n",
        "\n",
        "So far, we'll not do anything regarding this attribute based on our outcomes. You can take these details as FYI\n",
        " \n",
        " **------------------------------------------------------------------------------------------------------------------------------------------------------------------**"
      ]
    },
    {
      "cell_type": "markdown",
      "metadata": {
        "id": "_SC0lcCrk34h"
      },
      "source": [
        "**Key attribute:** As explained in the description, it is the estimated overall key of a particular track. the key itself means the lines if the musical note as shown in the below images:  ![1.webp](data:image/webp;base64,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)\n"
      ]
    },
    {
      "cell_type": "markdown",
      "metadata": {
        "id": "eujM2-KHu2Co"
      },
      "source": [
        "![2.jpeg](data:image/jpeg;base64,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)"
      ]
    },
    {
      "cell_type": "markdown",
      "metadata": {
        "id": "ulc0eBcYvAj9"
      },
      "source": [
        "**To understand it more,** let's take an example: \n",
        "\n",
        "the Piano keys ( black and white things) are known as keys, and every key is referred to a name in music ( based on our researches):\n",
        "\n",
        "0 represents the pitch C\n",
        "\n",
        "1 represents the pitch C# or Db (C sharp or D flat)\n",
        "\n",
        "2 represents the pitch D\n",
        "\n",
        "3 represents the pitch D# or Eb (D sharp or E flat)\n",
        "\n",
        "4 represents the pitch E\n",
        "\n",
        "5 represents the pitch F\n",
        "\n",
        "6 represents the pitch F# or Gb (F sharp or G flat)\n",
        "\n",
        "7 represents the pitch G\n",
        "\n",
        "8 represents the pitch G# or Ab (G sharp or A flat)\n",
        "\n",
        "9 represents the pitch A\n",
        "\n",
        "10 represents the pitch A# or Bb (A sharp or B flat)\n",
        "\n",
        "11 represents the pitch B"
      ]
    },
    {
      "cell_type": "markdown",
      "metadata": {
        "id": "0Bvnv9a6vxBg"
      },
      "source": [
        "**And here an example as shown in the following image:** \n",
        "![keys.jpeg](data:image/jpeg;base64,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)"
      ]
    },
    {
      "cell_type": "markdown",
      "metadata": {
        "id": "6_sfAoZ6wNtv"
      },
      "source": [
        "in our dataset, we can determine the estimated overall key of a song.\n",
        " For example, if a song has a \"Key\" value of 2, it indicates that the track is estimated to be in the key of D.\n",
        "\n",
        " We'll replace each number to its corresponding key value in order to be more clear and reasonable : "
      ]
    },
    {
      "cell_type": "code",
      "execution_count": 22,
      "metadata": {
        "colab": {
          "base_uri": "https://localhost:8080/"
        },
        "id": "eumcRNzwAiwG",
        "outputId": "db42ea11-c0ae-49ef-969a-1c22b697dbd8"
      },
      "outputs": [
        {
          "output_type": "execute_result",
          "data": {
            "text/plain": [
              "array([ 3.,  6.,  2.,  5., 10.,  7., 11.,  1.,  9.,  4.,  8.])"
            ]
          },
          "metadata": {},
          "execution_count": 22
        }
      ],
      "source": [
        "# first, we need to check the unique values in the key attribute\n",
        "cleaned_df1['key'].unique()"
      ]
    },
    {
      "cell_type": "code",
      "execution_count": 23,
      "metadata": {
        "id": "8vdCfCBnwqeF",
        "colab": {
          "base_uri": "https://localhost:8080/"
        },
        "outputId": "4c78b990-a258-4268-b3bc-f40c924f36f8"
      },
      "outputs": [
        {
          "output_type": "stream",
          "name": "stderr",
          "text": [
            "<ipython-input-23-ad93d7b8ae56>:3: SettingWithCopyWarning: \n",
            "A value is trying to be set on a copy of a slice from a DataFrame.\n",
            "Try using .loc[row_indexer,col_indexer] = value instead\n",
            "\n",
            "See the caveats in the documentation: https://pandas.pydata.org/pandas-docs/stable/user_guide/indexing.html#returning-a-view-versus-a-copy\n",
            "  cleaned_df1['key'] = cleaned_df1['key'].replace(1,'pitch C# or Db')\n",
            "<ipython-input-23-ad93d7b8ae56>:4: SettingWithCopyWarning: \n",
            "A value is trying to be set on a copy of a slice from a DataFrame.\n",
            "Try using .loc[row_indexer,col_indexer] = value instead\n",
            "\n",
            "See the caveats in the documentation: https://pandas.pydata.org/pandas-docs/stable/user_guide/indexing.html#returning-a-view-versus-a-copy\n",
            "  cleaned_df1['key'] = cleaned_df1['key'].replace(2,'pitch D')\n",
            "<ipython-input-23-ad93d7b8ae56>:5: SettingWithCopyWarning: \n",
            "A value is trying to be set on a copy of a slice from a DataFrame.\n",
            "Try using .loc[row_indexer,col_indexer] = value instead\n",
            "\n",
            "See the caveats in the documentation: https://pandas.pydata.org/pandas-docs/stable/user_guide/indexing.html#returning-a-view-versus-a-copy\n",
            "  cleaned_df1['key'] = cleaned_df1['key'].replace(3,'pitch D# or Eb')\n",
            "<ipython-input-23-ad93d7b8ae56>:6: SettingWithCopyWarning: \n",
            "A value is trying to be set on a copy of a slice from a DataFrame.\n",
            "Try using .loc[row_indexer,col_indexer] = value instead\n",
            "\n",
            "See the caveats in the documentation: https://pandas.pydata.org/pandas-docs/stable/user_guide/indexing.html#returning-a-view-versus-a-copy\n",
            "  cleaned_df1['key'] = cleaned_df1['key'].replace(4,'pitch E')\n",
            "<ipython-input-23-ad93d7b8ae56>:7: SettingWithCopyWarning: \n",
            "A value is trying to be set on a copy of a slice from a DataFrame.\n",
            "Try using .loc[row_indexer,col_indexer] = value instead\n",
            "\n",
            "See the caveats in the documentation: https://pandas.pydata.org/pandas-docs/stable/user_guide/indexing.html#returning-a-view-versus-a-copy\n",
            "  cleaned_df1['key'] = cleaned_df1['key'].replace(5,'pitch F')\n",
            "<ipython-input-23-ad93d7b8ae56>:8: SettingWithCopyWarning: \n",
            "A value is trying to be set on a copy of a slice from a DataFrame.\n",
            "Try using .loc[row_indexer,col_indexer] = value instead\n",
            "\n",
            "See the caveats in the documentation: https://pandas.pydata.org/pandas-docs/stable/user_guide/indexing.html#returning-a-view-versus-a-copy\n",
            "  cleaned_df1['key'] = cleaned_df1['key'].replace(6,'F# or Gb')\n",
            "<ipython-input-23-ad93d7b8ae56>:9: SettingWithCopyWarning: \n",
            "A value is trying to be set on a copy of a slice from a DataFrame.\n",
            "Try using .loc[row_indexer,col_indexer] = value instead\n",
            "\n",
            "See the caveats in the documentation: https://pandas.pydata.org/pandas-docs/stable/user_guide/indexing.html#returning-a-view-versus-a-copy\n",
            "  cleaned_df1['key'] = cleaned_df1['key'].replace(7,'pitch G')\n",
            "<ipython-input-23-ad93d7b8ae56>:10: SettingWithCopyWarning: \n",
            "A value is trying to be set on a copy of a slice from a DataFrame.\n",
            "Try using .loc[row_indexer,col_indexer] = value instead\n",
            "\n",
            "See the caveats in the documentation: https://pandas.pydata.org/pandas-docs/stable/user_guide/indexing.html#returning-a-view-versus-a-copy\n",
            "  cleaned_df1['key'] = cleaned_df1['key'].replace(8,'pitch G# or Ab')\n",
            "<ipython-input-23-ad93d7b8ae56>:11: SettingWithCopyWarning: \n",
            "A value is trying to be set on a copy of a slice from a DataFrame.\n",
            "Try using .loc[row_indexer,col_indexer] = value instead\n",
            "\n",
            "See the caveats in the documentation: https://pandas.pydata.org/pandas-docs/stable/user_guide/indexing.html#returning-a-view-versus-a-copy\n",
            "  cleaned_df1['key'] = cleaned_df1['key'].replace(9,' pitch A')\n",
            "<ipython-input-23-ad93d7b8ae56>:12: SettingWithCopyWarning: \n",
            "A value is trying to be set on a copy of a slice from a DataFrame.\n",
            "Try using .loc[row_indexer,col_indexer] = value instead\n",
            "\n",
            "See the caveats in the documentation: https://pandas.pydata.org/pandas-docs/stable/user_guide/indexing.html#returning-a-view-versus-a-copy\n",
            "  cleaned_df1['key'] = cleaned_df1['key'].replace(10,'pitch A# or Bb')\n",
            "<ipython-input-23-ad93d7b8ae56>:13: SettingWithCopyWarning: \n",
            "A value is trying to be set on a copy of a slice from a DataFrame.\n",
            "Try using .loc[row_indexer,col_indexer] = value instead\n",
            "\n",
            "See the caveats in the documentation: https://pandas.pydata.org/pandas-docs/stable/user_guide/indexing.html#returning-a-view-versus-a-copy\n",
            "  cleaned_df1['key'] = cleaned_df1['key'].replace(11,'pitch B')\n"
          ]
        }
      ],
      "source": [
        " # since the values of the key started from 1, we'll replace each number starting from 1 to its corresponding \n",
        " # key value : \n",
        "cleaned_df1['key'] = cleaned_df1['key'].replace(1,'pitch C# or Db')\n",
        "cleaned_df1['key'] = cleaned_df1['key'].replace(2,'pitch D')\n",
        "cleaned_df1['key'] = cleaned_df1['key'].replace(3,'pitch D# or Eb')\n",
        "cleaned_df1['key'] = cleaned_df1['key'].replace(4,'pitch E')\n",
        "cleaned_df1['key'] = cleaned_df1['key'].replace(5,'pitch F')\n",
        "cleaned_df1['key'] = cleaned_df1['key'].replace(6,'F# or Gb')\n",
        "cleaned_df1['key'] = cleaned_df1['key'].replace(7,'pitch G')\n",
        "cleaned_df1['key'] = cleaned_df1['key'].replace(8,'pitch G# or Ab')\n",
        "cleaned_df1['key'] = cleaned_df1['key'].replace(9,' pitch A')\n",
        "cleaned_df1['key'] = cleaned_df1['key'].replace(10,'pitch A# or Bb')\n",
        "cleaned_df1['key'] = cleaned_df1['key'].replace(11,'pitch B')"
      ]
    },
    {
      "cell_type": "code",
      "execution_count": 24,
      "metadata": {
        "colab": {
          "base_uri": "https://localhost:8080/",
          "height": 478
        },
        "id": "BZN3K6hHFn2e",
        "outputId": "b49602a6-7eff-4395-81b7-a78b7febb727"
      },
      "outputs": [
        {
          "output_type": "execute_result",
          "data": {
            "text/plain": [
              "             Artist_Name                         Track_Name  Popularity  \\\n",
              "1                 Boston                       Hitch a Ride        54.0   \n",
              "2          The Raincoats                 No Side to Fall In        35.0   \n",
              "4  Red Hot Chili Peppers  Nobody Weird Like Me - Remastered        53.0   \n",
              "5            The Stooges  Search and Destroy - Iggy Pop Mix        53.0   \n",
              "6          Solomon Burke                None Of Us Are Free        48.0   \n",
              "\n",
              "   danceability  energy             key  loudness  mode  speechiness  \\\n",
              "1         0.382   0.814  pitch D# or Eb    -7.230     1       0.0406   \n",
              "2         0.434   0.614        F# or Gb    -8.334     1       0.0525   \n",
              "4         0.167   0.975         pitch D    -4.279     1       0.2160   \n",
              "5         0.235   0.977        F# or Gb     0.878     1       0.1070   \n",
              "6         0.674   0.658         pitch F    -9.647     0       0.1040   \n",
              "\n",
              "   acousticness  instrumentalness  liveness  valence    tempo  \\\n",
              "1      0.001100          0.004010    0.1010   0.5690  116.454   \n",
              "2      0.486000          0.000196    0.3940   0.7870  147.681   \n",
              "4      0.000169          0.016100    0.1720   0.0918  199.060   \n",
              "5      0.003530          0.006040    0.1720   0.2410  152.952   \n",
              "6      0.404000          0.000001    0.0981   0.6770  143.292   \n",
              "\n",
              "   duration_in min/ms  time_signature  Genre  \n",
              "1            251733.0               4     10  \n",
              "2            109667.0               4      6  \n",
              "4            229960.0               4     10  \n",
              "5            208133.0               4      6  \n",
              "6            329387.0               4      2  "
            ],
            "text/html": [
              "\n",
              "  <div id=\"df-d4517209-e362-4710-9dd0-754759a2cba5\">\n",
              "    <div class=\"colab-df-container\">\n",
              "      <div>\n",
              "<style scoped>\n",
              "    .dataframe tbody tr th:only-of-type {\n",
              "        vertical-align: middle;\n",
              "    }\n",
              "\n",
              "    .dataframe tbody tr th {\n",
              "        vertical-align: top;\n",
              "    }\n",
              "\n",
              "    .dataframe thead th {\n",
              "        text-align: right;\n",
              "    }\n",
              "</style>\n",
              "<table border=\"1\" class=\"dataframe\">\n",
              "  <thead>\n",
              "    <tr style=\"text-align: right;\">\n",
              "      <th></th>\n",
              "      <th>Artist_Name</th>\n",
              "      <th>Track_Name</th>\n",
              "      <th>Popularity</th>\n",
              "      <th>danceability</th>\n",
              "      <th>energy</th>\n",
              "      <th>key</th>\n",
              "      <th>loudness</th>\n",
              "      <th>mode</th>\n",
              "      <th>speechiness</th>\n",
              "      <th>acousticness</th>\n",
              "      <th>instrumentalness</th>\n",
              "      <th>liveness</th>\n",
              "      <th>valence</th>\n",
              "      <th>tempo</th>\n",
              "      <th>duration_in min/ms</th>\n",
              "      <th>time_signature</th>\n",
              "      <th>Genre</th>\n",
              "    </tr>\n",
              "  </thead>\n",
              "  <tbody>\n",
              "    <tr>\n",
              "      <th>1</th>\n",
              "      <td>Boston</td>\n",
              "      <td>Hitch a Ride</td>\n",
              "      <td>54.0</td>\n",
              "      <td>0.382</td>\n",
              "      <td>0.814</td>\n",
              "      <td>pitch D# or Eb</td>\n",
              "      <td>-7.230</td>\n",
              "      <td>1</td>\n",
              "      <td>0.0406</td>\n",
              "      <td>0.001100</td>\n",
              "      <td>0.004010</td>\n",
              "      <td>0.1010</td>\n",
              "      <td>0.5690</td>\n",
              "      <td>116.454</td>\n",
              "      <td>251733.0</td>\n",
              "      <td>4</td>\n",
              "      <td>10</td>\n",
              "    </tr>\n",
              "    <tr>\n",
              "      <th>2</th>\n",
              "      <td>The Raincoats</td>\n",
              "      <td>No Side to Fall In</td>\n",
              "      <td>35.0</td>\n",
              "      <td>0.434</td>\n",
              "      <td>0.614</td>\n",
              "      <td>F# or Gb</td>\n",
              "      <td>-8.334</td>\n",
              "      <td>1</td>\n",
              "      <td>0.0525</td>\n",
              "      <td>0.486000</td>\n",
              "      <td>0.000196</td>\n",
              "      <td>0.3940</td>\n",
              "      <td>0.7870</td>\n",
              "      <td>147.681</td>\n",
              "      <td>109667.0</td>\n",
              "      <td>4</td>\n",
              "      <td>6</td>\n",
              "    </tr>\n",
              "    <tr>\n",
              "      <th>4</th>\n",
              "      <td>Red Hot Chili Peppers</td>\n",
              "      <td>Nobody Weird Like Me - Remastered</td>\n",
              "      <td>53.0</td>\n",
              "      <td>0.167</td>\n",
              "      <td>0.975</td>\n",
              "      <td>pitch D</td>\n",
              "      <td>-4.279</td>\n",
              "      <td>1</td>\n",
              "      <td>0.2160</td>\n",
              "      <td>0.000169</td>\n",
              "      <td>0.016100</td>\n",
              "      <td>0.1720</td>\n",
              "      <td>0.0918</td>\n",
              "      <td>199.060</td>\n",
              "      <td>229960.0</td>\n",
              "      <td>4</td>\n",
              "      <td>10</td>\n",
              "    </tr>\n",
              "    <tr>\n",
              "      <th>5</th>\n",
              "      <td>The Stooges</td>\n",
              "      <td>Search and Destroy - Iggy Pop Mix</td>\n",
              "      <td>53.0</td>\n",
              "      <td>0.235</td>\n",
              "      <td>0.977</td>\n",
              "      <td>F# or Gb</td>\n",
              "      <td>0.878</td>\n",
              "      <td>1</td>\n",
              "      <td>0.1070</td>\n",
              "      <td>0.003530</td>\n",
              "      <td>0.006040</td>\n",
              "      <td>0.1720</td>\n",
              "      <td>0.2410</td>\n",
              "      <td>152.952</td>\n",
              "      <td>208133.0</td>\n",
              "      <td>4</td>\n",
              "      <td>6</td>\n",
              "    </tr>\n",
              "    <tr>\n",
              "      <th>6</th>\n",
              "      <td>Solomon Burke</td>\n",
              "      <td>None Of Us Are Free</td>\n",
              "      <td>48.0</td>\n",
              "      <td>0.674</td>\n",
              "      <td>0.658</td>\n",
              "      <td>pitch F</td>\n",
              "      <td>-9.647</td>\n",
              "      <td>0</td>\n",
              "      <td>0.1040</td>\n",
              "      <td>0.404000</td>\n",
              "      <td>0.000001</td>\n",
              "      <td>0.0981</td>\n",
              "      <td>0.6770</td>\n",
              "      <td>143.292</td>\n",
              "      <td>329387.0</td>\n",
              "      <td>4</td>\n",
              "      <td>2</td>\n",
              "    </tr>\n",
              "  </tbody>\n",
              "</table>\n",
              "</div>\n",
              "      <button class=\"colab-df-convert\" onclick=\"convertToInteractive('df-d4517209-e362-4710-9dd0-754759a2cba5')\"\n",
              "              title=\"Convert this dataframe to an interactive table.\"\n",
              "              style=\"display:none;\">\n",
              "        \n",
              "  <svg xmlns=\"http://www.w3.org/2000/svg\" height=\"24px\"viewBox=\"0 0 24 24\"\n",
              "       width=\"24px\">\n",
              "    <path d=\"M0 0h24v24H0V0z\" fill=\"none\"/>\n",
              "    <path d=\"M18.56 5.44l.94 2.06.94-2.06 2.06-.94-2.06-.94-.94-2.06-.94 2.06-2.06.94zm-11 1L8.5 8.5l.94-2.06 2.06-.94-2.06-.94L8.5 2.5l-.94 2.06-2.06.94zm10 10l.94 2.06.94-2.06 2.06-.94-2.06-.94-.94-2.06-.94 2.06-2.06.94z\"/><path d=\"M17.41 7.96l-1.37-1.37c-.4-.4-.92-.59-1.43-.59-.52 0-1.04.2-1.43.59L10.3 9.45l-7.72 7.72c-.78.78-.78 2.05 0 2.83L4 21.41c.39.39.9.59 1.41.59.51 0 1.02-.2 1.41-.59l7.78-7.78 2.81-2.81c.8-.78.8-2.07 0-2.86zM5.41 20L4 18.59l7.72-7.72 1.47 1.35L5.41 20z\"/>\n",
              "  </svg>\n",
              "      </button>\n",
              "      \n",
              "  <style>\n",
              "    .colab-df-container {\n",
              "      display:flex;\n",
              "      flex-wrap:wrap;\n",
              "      gap: 12px;\n",
              "    }\n",
              "\n",
              "    .colab-df-convert {\n",
              "      background-color: #E8F0FE;\n",
              "      border: none;\n",
              "      border-radius: 50%;\n",
              "      cursor: pointer;\n",
              "      display: none;\n",
              "      fill: #1967D2;\n",
              "      height: 32px;\n",
              "      padding: 0 0 0 0;\n",
              "      width: 32px;\n",
              "    }\n",
              "\n",
              "    .colab-df-convert:hover {\n",
              "      background-color: #E2EBFA;\n",
              "      box-shadow: 0px 1px 2px rgba(60, 64, 67, 0.3), 0px 1px 3px 1px rgba(60, 64, 67, 0.15);\n",
              "      fill: #174EA6;\n",
              "    }\n",
              "\n",
              "    [theme=dark] .colab-df-convert {\n",
              "      background-color: #3B4455;\n",
              "      fill: #D2E3FC;\n",
              "    }\n",
              "\n",
              "    [theme=dark] .colab-df-convert:hover {\n",
              "      background-color: #434B5C;\n",
              "      box-shadow: 0px 1px 3px 1px rgba(0, 0, 0, 0.15);\n",
              "      filter: drop-shadow(0px 1px 2px rgba(0, 0, 0, 0.3));\n",
              "      fill: #FFFFFF;\n",
              "    }\n",
              "  </style>\n",
              "\n",
              "      <script>\n",
              "        const buttonEl =\n",
              "          document.querySelector('#df-d4517209-e362-4710-9dd0-754759a2cba5 button.colab-df-convert');\n",
              "        buttonEl.style.display =\n",
              "          google.colab.kernel.accessAllowed ? 'block' : 'none';\n",
              "\n",
              "        async function convertToInteractive(key) {\n",
              "          const element = document.querySelector('#df-d4517209-e362-4710-9dd0-754759a2cba5');\n",
              "          const dataTable =\n",
              "            await google.colab.kernel.invokeFunction('convertToInteractive',\n",
              "                                                     [key], {});\n",
              "          if (!dataTable) return;\n",
              "\n",
              "          const docLinkHtml = 'Like what you see? Visit the ' +\n",
              "            '<a target=\"_blank\" href=https://colab.research.google.com/notebooks/data_table.ipynb>data table notebook</a>'\n",
              "            + ' to learn more about interactive tables.';\n",
              "          element.innerHTML = '';\n",
              "          dataTable['output_type'] = 'display_data';\n",
              "          await google.colab.output.renderOutput(dataTable, element);\n",
              "          const docLink = document.createElement('div');\n",
              "          docLink.innerHTML = docLinkHtml;\n",
              "          element.appendChild(docLink);\n",
              "        }\n",
              "      </script>\n",
              "    </div>\n",
              "  </div>\n",
              "  "
            ]
          },
          "metadata": {},
          "execution_count": 24
        }
      ],
      "source": [
        "cleaned_df1.head()\n",
        "# beautiful result :)"
      ]
    },
    {
      "cell_type": "markdown",
      "metadata": {
        "id": "wobTu-mYt9GC"
      },
      "source": [
        "**------------------------------------------------------------------------------------------------------------------------------------------------------------------**"
      ]
    },
    {
      "cell_type": "markdown",
      "metadata": {
        "id": "xamshWyJF1do"
      },
      "source": [
        "**Loudness attribute:** As explained in the description , \n",
        "represents the overall loudness of a song. \n",
        "\n",
        "**Based on our researches ,**\n",
        "\n",
        "a higher positive value indicates a louder song, while a lower negative value indicates a quieter song. The loudness values can range from negative infinity to 0 dB, with 0 dB representing the maximum loudness.\n",
        "\n",
        "**For example:** \n",
        "the first song \" Hitch a Ride \" by Boston has a loudness value of -7.230, indicating that the song is relatively quieter."
      ]
    },
    {
      "cell_type": "markdown",
      "metadata": {
        "id": "LK2MgvkeHo0c"
      },
      "source": [
        "However, loudness is measured in decibels (dB), so we can simply add (dB) next to the name of the attribute by renaming it .There's another option that we can add the measurement of the loudness next to each value but this is gonna be a waste of time :) fa to be smart we'll do the first suggestion . \n",
        "\n",
        "( just to be more clear )"
      ]
    },
    {
      "cell_type": "code",
      "execution_count": 25,
      "metadata": {
        "colab": {
          "base_uri": "https://localhost:8080/",
          "height": 568
        },
        "id": "as5R4m9lIj3O",
        "outputId": "ebe7f93e-df72-45f6-b2ce-d8582d6149ec"
      },
      "outputs": [
        {
          "output_type": "stream",
          "name": "stderr",
          "text": [
            "<ipython-input-25-fa8ae5f1400e>:1: SettingWithCopyWarning: \n",
            "A value is trying to be set on a copy of a slice from a DataFrame\n",
            "\n",
            "See the caveats in the documentation: https://pandas.pydata.org/pandas-docs/stable/user_guide/indexing.html#returning-a-view-versus-a-copy\n",
            "  cleaned_df1.rename(columns={'loudness': \"loudness_in_(dB)\"}, inplace=True)\n"
          ]
        },
        {
          "output_type": "execute_result",
          "data": {
            "text/plain": [
              "             Artist_Name                         Track_Name  Popularity  \\\n",
              "1                 Boston                       Hitch a Ride        54.0   \n",
              "2          The Raincoats                 No Side to Fall In        35.0   \n",
              "4  Red Hot Chili Peppers  Nobody Weird Like Me - Remastered        53.0   \n",
              "5            The Stooges  Search and Destroy - Iggy Pop Mix        53.0   \n",
              "6          Solomon Burke                None Of Us Are Free        48.0   \n",
              "\n",
              "   danceability  energy             key  loudness_in_(dB)  mode  speechiness  \\\n",
              "1         0.382   0.814  pitch D# or Eb            -7.230     1       0.0406   \n",
              "2         0.434   0.614        F# or Gb            -8.334     1       0.0525   \n",
              "4         0.167   0.975         pitch D            -4.279     1       0.2160   \n",
              "5         0.235   0.977        F# or Gb             0.878     1       0.1070   \n",
              "6         0.674   0.658         pitch F            -9.647     0       0.1040   \n",
              "\n",
              "   acousticness  instrumentalness  liveness  valence    tempo  \\\n",
              "1      0.001100          0.004010    0.1010   0.5690  116.454   \n",
              "2      0.486000          0.000196    0.3940   0.7870  147.681   \n",
              "4      0.000169          0.016100    0.1720   0.0918  199.060   \n",
              "5      0.003530          0.006040    0.1720   0.2410  152.952   \n",
              "6      0.404000          0.000001    0.0981   0.6770  143.292   \n",
              "\n",
              "   duration_in min/ms  time_signature  Genre  \n",
              "1            251733.0               4     10  \n",
              "2            109667.0               4      6  \n",
              "4            229960.0               4     10  \n",
              "5            208133.0               4      6  \n",
              "6            329387.0               4      2  "
            ],
            "text/html": [
              "\n",
              "  <div id=\"df-d11c93bb-67c4-4075-91a5-421faf75a7b5\">\n",
              "    <div class=\"colab-df-container\">\n",
              "      <div>\n",
              "<style scoped>\n",
              "    .dataframe tbody tr th:only-of-type {\n",
              "        vertical-align: middle;\n",
              "    }\n",
              "\n",
              "    .dataframe tbody tr th {\n",
              "        vertical-align: top;\n",
              "    }\n",
              "\n",
              "    .dataframe thead th {\n",
              "        text-align: right;\n",
              "    }\n",
              "</style>\n",
              "<table border=\"1\" class=\"dataframe\">\n",
              "  <thead>\n",
              "    <tr style=\"text-align: right;\">\n",
              "      <th></th>\n",
              "      <th>Artist_Name</th>\n",
              "      <th>Track_Name</th>\n",
              "      <th>Popularity</th>\n",
              "      <th>danceability</th>\n",
              "      <th>energy</th>\n",
              "      <th>key</th>\n",
              "      <th>loudness_in_(dB)</th>\n",
              "      <th>mode</th>\n",
              "      <th>speechiness</th>\n",
              "      <th>acousticness</th>\n",
              "      <th>instrumentalness</th>\n",
              "      <th>liveness</th>\n",
              "      <th>valence</th>\n",
              "      <th>tempo</th>\n",
              "      <th>duration_in min/ms</th>\n",
              "      <th>time_signature</th>\n",
              "      <th>Genre</th>\n",
              "    </tr>\n",
              "  </thead>\n",
              "  <tbody>\n",
              "    <tr>\n",
              "      <th>1</th>\n",
              "      <td>Boston</td>\n",
              "      <td>Hitch a Ride</td>\n",
              "      <td>54.0</td>\n",
              "      <td>0.382</td>\n",
              "      <td>0.814</td>\n",
              "      <td>pitch D# or Eb</td>\n",
              "      <td>-7.230</td>\n",
              "      <td>1</td>\n",
              "      <td>0.0406</td>\n",
              "      <td>0.001100</td>\n",
              "      <td>0.004010</td>\n",
              "      <td>0.1010</td>\n",
              "      <td>0.5690</td>\n",
              "      <td>116.454</td>\n",
              "      <td>251733.0</td>\n",
              "      <td>4</td>\n",
              "      <td>10</td>\n",
              "    </tr>\n",
              "    <tr>\n",
              "      <th>2</th>\n",
              "      <td>The Raincoats</td>\n",
              "      <td>No Side to Fall In</td>\n",
              "      <td>35.0</td>\n",
              "      <td>0.434</td>\n",
              "      <td>0.614</td>\n",
              "      <td>F# or Gb</td>\n",
              "      <td>-8.334</td>\n",
              "      <td>1</td>\n",
              "      <td>0.0525</td>\n",
              "      <td>0.486000</td>\n",
              "      <td>0.000196</td>\n",
              "      <td>0.3940</td>\n",
              "      <td>0.7870</td>\n",
              "      <td>147.681</td>\n",
              "      <td>109667.0</td>\n",
              "      <td>4</td>\n",
              "      <td>6</td>\n",
              "    </tr>\n",
              "    <tr>\n",
              "      <th>4</th>\n",
              "      <td>Red Hot Chili Peppers</td>\n",
              "      <td>Nobody Weird Like Me - Remastered</td>\n",
              "      <td>53.0</td>\n",
              "      <td>0.167</td>\n",
              "      <td>0.975</td>\n",
              "      <td>pitch D</td>\n",
              "      <td>-4.279</td>\n",
              "      <td>1</td>\n",
              "      <td>0.2160</td>\n",
              "      <td>0.000169</td>\n",
              "      <td>0.016100</td>\n",
              "      <td>0.1720</td>\n",
              "      <td>0.0918</td>\n",
              "      <td>199.060</td>\n",
              "      <td>229960.0</td>\n",
              "      <td>4</td>\n",
              "      <td>10</td>\n",
              "    </tr>\n",
              "    <tr>\n",
              "      <th>5</th>\n",
              "      <td>The Stooges</td>\n",
              "      <td>Search and Destroy - Iggy Pop Mix</td>\n",
              "      <td>53.0</td>\n",
              "      <td>0.235</td>\n",
              "      <td>0.977</td>\n",
              "      <td>F# or Gb</td>\n",
              "      <td>0.878</td>\n",
              "      <td>1</td>\n",
              "      <td>0.1070</td>\n",
              "      <td>0.003530</td>\n",
              "      <td>0.006040</td>\n",
              "      <td>0.1720</td>\n",
              "      <td>0.2410</td>\n",
              "      <td>152.952</td>\n",
              "      <td>208133.0</td>\n",
              "      <td>4</td>\n",
              "      <td>6</td>\n",
              "    </tr>\n",
              "    <tr>\n",
              "      <th>6</th>\n",
              "      <td>Solomon Burke</td>\n",
              "      <td>None Of Us Are Free</td>\n",
              "      <td>48.0</td>\n",
              "      <td>0.674</td>\n",
              "      <td>0.658</td>\n",
              "      <td>pitch F</td>\n",
              "      <td>-9.647</td>\n",
              "      <td>0</td>\n",
              "      <td>0.1040</td>\n",
              "      <td>0.404000</td>\n",
              "      <td>0.000001</td>\n",
              "      <td>0.0981</td>\n",
              "      <td>0.6770</td>\n",
              "      <td>143.292</td>\n",
              "      <td>329387.0</td>\n",
              "      <td>4</td>\n",
              "      <td>2</td>\n",
              "    </tr>\n",
              "  </tbody>\n",
              "</table>\n",
              "</div>\n",
              "      <button class=\"colab-df-convert\" onclick=\"convertToInteractive('df-d11c93bb-67c4-4075-91a5-421faf75a7b5')\"\n",
              "              title=\"Convert this dataframe to an interactive table.\"\n",
              "              style=\"display:none;\">\n",
              "        \n",
              "  <svg xmlns=\"http://www.w3.org/2000/svg\" height=\"24px\"viewBox=\"0 0 24 24\"\n",
              "       width=\"24px\">\n",
              "    <path d=\"M0 0h24v24H0V0z\" fill=\"none\"/>\n",
              "    <path d=\"M18.56 5.44l.94 2.06.94-2.06 2.06-.94-2.06-.94-.94-2.06-.94 2.06-2.06.94zm-11 1L8.5 8.5l.94-2.06 2.06-.94-2.06-.94L8.5 2.5l-.94 2.06-2.06.94zm10 10l.94 2.06.94-2.06 2.06-.94-2.06-.94-.94-2.06-.94 2.06-2.06.94z\"/><path d=\"M17.41 7.96l-1.37-1.37c-.4-.4-.92-.59-1.43-.59-.52 0-1.04.2-1.43.59L10.3 9.45l-7.72 7.72c-.78.78-.78 2.05 0 2.83L4 21.41c.39.39.9.59 1.41.59.51 0 1.02-.2 1.41-.59l7.78-7.78 2.81-2.81c.8-.78.8-2.07 0-2.86zM5.41 20L4 18.59l7.72-7.72 1.47 1.35L5.41 20z\"/>\n",
              "  </svg>\n",
              "      </button>\n",
              "      \n",
              "  <style>\n",
              "    .colab-df-container {\n",
              "      display:flex;\n",
              "      flex-wrap:wrap;\n",
              "      gap: 12px;\n",
              "    }\n",
              "\n",
              "    .colab-df-convert {\n",
              "      background-color: #E8F0FE;\n",
              "      border: none;\n",
              "      border-radius: 50%;\n",
              "      cursor: pointer;\n",
              "      display: none;\n",
              "      fill: #1967D2;\n",
              "      height: 32px;\n",
              "      padding: 0 0 0 0;\n",
              "      width: 32px;\n",
              "    }\n",
              "\n",
              "    .colab-df-convert:hover {\n",
              "      background-color: #E2EBFA;\n",
              "      box-shadow: 0px 1px 2px rgba(60, 64, 67, 0.3), 0px 1px 3px 1px rgba(60, 64, 67, 0.15);\n",
              "      fill: #174EA6;\n",
              "    }\n",
              "\n",
              "    [theme=dark] .colab-df-convert {\n",
              "      background-color: #3B4455;\n",
              "      fill: #D2E3FC;\n",
              "    }\n",
              "\n",
              "    [theme=dark] .colab-df-convert:hover {\n",
              "      background-color: #434B5C;\n",
              "      box-shadow: 0px 1px 3px 1px rgba(0, 0, 0, 0.15);\n",
              "      filter: drop-shadow(0px 1px 2px rgba(0, 0, 0, 0.3));\n",
              "      fill: #FFFFFF;\n",
              "    }\n",
              "  </style>\n",
              "\n",
              "      <script>\n",
              "        const buttonEl =\n",
              "          document.querySelector('#df-d11c93bb-67c4-4075-91a5-421faf75a7b5 button.colab-df-convert');\n",
              "        buttonEl.style.display =\n",
              "          google.colab.kernel.accessAllowed ? 'block' : 'none';\n",
              "\n",
              "        async function convertToInteractive(key) {\n",
              "          const element = document.querySelector('#df-d11c93bb-67c4-4075-91a5-421faf75a7b5');\n",
              "          const dataTable =\n",
              "            await google.colab.kernel.invokeFunction('convertToInteractive',\n",
              "                                                     [key], {});\n",
              "          if (!dataTable) return;\n",
              "\n",
              "          const docLinkHtml = 'Like what you see? Visit the ' +\n",
              "            '<a target=\"_blank\" href=https://colab.research.google.com/notebooks/data_table.ipynb>data table notebook</a>'\n",
              "            + ' to learn more about interactive tables.';\n",
              "          element.innerHTML = '';\n",
              "          dataTable['output_type'] = 'display_data';\n",
              "          await google.colab.output.renderOutput(dataTable, element);\n",
              "          const docLink = document.createElement('div');\n",
              "          docLink.innerHTML = docLinkHtml;\n",
              "          element.appendChild(docLink);\n",
              "        }\n",
              "      </script>\n",
              "    </div>\n",
              "  </div>\n",
              "  "
            ]
          },
          "metadata": {},
          "execution_count": 25
        }
      ],
      "source": [
        "cleaned_df1.rename(columns={'loudness': \"loudness_in_(dB)\"}, inplace=True)\n",
        "cleaned_df1.head()"
      ]
    },
    {
      "cell_type": "markdown",
      "metadata": {
        "id": "c2bmYhPZHmmY"
      },
      "source": [
        "**------------------------------------------------------------------------------------------------------------------------------------------------------------------**"
      ]
    },
    {
      "cell_type": "markdown",
      "metadata": {
        "id": "agvVZYRv-TOA"
      },
      "source": [
        "**Mode attribute:** As explained in the description, it indicates the modality (major or minor) of a song. \n",
        "\n",
        "**Based on our researches,** \n",
        "\n",
        "in music theory, major and minor are two of the most common modes or tonalities. The major mode generally conveys a more positive, uplifting, or happier mood, while the minor mode tends to evoke a sadder, darker, or more melancholic sound.\n",
        "\n",
        "**based on our dataset,** we have the 2 binary values ( 0/1) and based on the description that 1 refers to the Major mode while 0 refers to the Minor mode, we'll convert these two numbers to their corresponding values ( major and minor) .\n",
        "\n",
        "\n",
        "**For example:** \n",
        "\n",
        "**Major = 1**\n",
        "\n",
        "**Minor = 0**\n",
        "\n",
        "To learn more about it , please check the provided link 😊 ! : https://www.youtube.com/watch?v=jFguFm7hdho\n",
        "\n",
        "To do that, we'll also use the replace function "
      ]
    },
    {
      "cell_type": "code",
      "execution_count": 26,
      "metadata": {
        "colab": {
          "base_uri": "https://localhost:8080/",
          "height": 693
        },
        "id": "M4lzJVPQJgis",
        "outputId": "63dd8c1e-3f4d-45d1-b01d-9af529544984"
      },
      "outputs": [
        {
          "output_type": "stream",
          "name": "stderr",
          "text": [
            "<ipython-input-26-edb3551fd7a8>:1: SettingWithCopyWarning: \n",
            "A value is trying to be set on a copy of a slice from a DataFrame.\n",
            "Try using .loc[row_indexer,col_indexer] = value instead\n",
            "\n",
            "See the caveats in the documentation: https://pandas.pydata.org/pandas-docs/stable/user_guide/indexing.html#returning-a-view-versus-a-copy\n",
            "  cleaned_df1['mode'] = cleaned_df1['mode'].replace(0,'Minor')\n",
            "<ipython-input-26-edb3551fd7a8>:2: SettingWithCopyWarning: \n",
            "A value is trying to be set on a copy of a slice from a DataFrame.\n",
            "Try using .loc[row_indexer,col_indexer] = value instead\n",
            "\n",
            "See the caveats in the documentation: https://pandas.pydata.org/pandas-docs/stable/user_guide/indexing.html#returning-a-view-versus-a-copy\n",
            "  cleaned_df1['mode'] = cleaned_df1['mode'].replace(1,'Major')\n"
          ]
        },
        {
          "output_type": "execute_result",
          "data": {
            "text/plain": [
              "             Artist_Name                         Track_Name  Popularity  \\\n",
              "1                 Boston                       Hitch a Ride        54.0   \n",
              "2          The Raincoats                 No Side to Fall In        35.0   \n",
              "4  Red Hot Chili Peppers  Nobody Weird Like Me - Remastered        53.0   \n",
              "5            The Stooges  Search and Destroy - Iggy Pop Mix        53.0   \n",
              "6          Solomon Burke                None Of Us Are Free        48.0   \n",
              "\n",
              "   danceability  energy             key  loudness_in_(dB)   mode  speechiness  \\\n",
              "1         0.382   0.814  pitch D# or Eb            -7.230  Major       0.0406   \n",
              "2         0.434   0.614        F# or Gb            -8.334  Major       0.0525   \n",
              "4         0.167   0.975         pitch D            -4.279  Major       0.2160   \n",
              "5         0.235   0.977        F# or Gb             0.878  Major       0.1070   \n",
              "6         0.674   0.658         pitch F            -9.647  Minor       0.1040   \n",
              "\n",
              "   acousticness  instrumentalness  liveness  valence    tempo  \\\n",
              "1      0.001100          0.004010    0.1010   0.5690  116.454   \n",
              "2      0.486000          0.000196    0.3940   0.7870  147.681   \n",
              "4      0.000169          0.016100    0.1720   0.0918  199.060   \n",
              "5      0.003530          0.006040    0.1720   0.2410  152.952   \n",
              "6      0.404000          0.000001    0.0981   0.6770  143.292   \n",
              "\n",
              "   duration_in min/ms  time_signature  Genre  \n",
              "1            251733.0               4     10  \n",
              "2            109667.0               4      6  \n",
              "4            229960.0               4     10  \n",
              "5            208133.0               4      6  \n",
              "6            329387.0               4      2  "
            ],
            "text/html": [
              "\n",
              "  <div id=\"df-c086e04f-858d-4d0e-a16b-4e309dea284f\">\n",
              "    <div class=\"colab-df-container\">\n",
              "      <div>\n",
              "<style scoped>\n",
              "    .dataframe tbody tr th:only-of-type {\n",
              "        vertical-align: middle;\n",
              "    }\n",
              "\n",
              "    .dataframe tbody tr th {\n",
              "        vertical-align: top;\n",
              "    }\n",
              "\n",
              "    .dataframe thead th {\n",
              "        text-align: right;\n",
              "    }\n",
              "</style>\n",
              "<table border=\"1\" class=\"dataframe\">\n",
              "  <thead>\n",
              "    <tr style=\"text-align: right;\">\n",
              "      <th></th>\n",
              "      <th>Artist_Name</th>\n",
              "      <th>Track_Name</th>\n",
              "      <th>Popularity</th>\n",
              "      <th>danceability</th>\n",
              "      <th>energy</th>\n",
              "      <th>key</th>\n",
              "      <th>loudness_in_(dB)</th>\n",
              "      <th>mode</th>\n",
              "      <th>speechiness</th>\n",
              "      <th>acousticness</th>\n",
              "      <th>instrumentalness</th>\n",
              "      <th>liveness</th>\n",
              "      <th>valence</th>\n",
              "      <th>tempo</th>\n",
              "      <th>duration_in min/ms</th>\n",
              "      <th>time_signature</th>\n",
              "      <th>Genre</th>\n",
              "    </tr>\n",
              "  </thead>\n",
              "  <tbody>\n",
              "    <tr>\n",
              "      <th>1</th>\n",
              "      <td>Boston</td>\n",
              "      <td>Hitch a Ride</td>\n",
              "      <td>54.0</td>\n",
              "      <td>0.382</td>\n",
              "      <td>0.814</td>\n",
              "      <td>pitch D# or Eb</td>\n",
              "      <td>-7.230</td>\n",
              "      <td>Major</td>\n",
              "      <td>0.0406</td>\n",
              "      <td>0.001100</td>\n",
              "      <td>0.004010</td>\n",
              "      <td>0.1010</td>\n",
              "      <td>0.5690</td>\n",
              "      <td>116.454</td>\n",
              "      <td>251733.0</td>\n",
              "      <td>4</td>\n",
              "      <td>10</td>\n",
              "    </tr>\n",
              "    <tr>\n",
              "      <th>2</th>\n",
              "      <td>The Raincoats</td>\n",
              "      <td>No Side to Fall In</td>\n",
              "      <td>35.0</td>\n",
              "      <td>0.434</td>\n",
              "      <td>0.614</td>\n",
              "      <td>F# or Gb</td>\n",
              "      <td>-8.334</td>\n",
              "      <td>Major</td>\n",
              "      <td>0.0525</td>\n",
              "      <td>0.486000</td>\n",
              "      <td>0.000196</td>\n",
              "      <td>0.3940</td>\n",
              "      <td>0.7870</td>\n",
              "      <td>147.681</td>\n",
              "      <td>109667.0</td>\n",
              "      <td>4</td>\n",
              "      <td>6</td>\n",
              "    </tr>\n",
              "    <tr>\n",
              "      <th>4</th>\n",
              "      <td>Red Hot Chili Peppers</td>\n",
              "      <td>Nobody Weird Like Me - Remastered</td>\n",
              "      <td>53.0</td>\n",
              "      <td>0.167</td>\n",
              "      <td>0.975</td>\n",
              "      <td>pitch D</td>\n",
              "      <td>-4.279</td>\n",
              "      <td>Major</td>\n",
              "      <td>0.2160</td>\n",
              "      <td>0.000169</td>\n",
              "      <td>0.016100</td>\n",
              "      <td>0.1720</td>\n",
              "      <td>0.0918</td>\n",
              "      <td>199.060</td>\n",
              "      <td>229960.0</td>\n",
              "      <td>4</td>\n",
              "      <td>10</td>\n",
              "    </tr>\n",
              "    <tr>\n",
              "      <th>5</th>\n",
              "      <td>The Stooges</td>\n",
              "      <td>Search and Destroy - Iggy Pop Mix</td>\n",
              "      <td>53.0</td>\n",
              "      <td>0.235</td>\n",
              "      <td>0.977</td>\n",
              "      <td>F# or Gb</td>\n",
              "      <td>0.878</td>\n",
              "      <td>Major</td>\n",
              "      <td>0.1070</td>\n",
              "      <td>0.003530</td>\n",
              "      <td>0.006040</td>\n",
              "      <td>0.1720</td>\n",
              "      <td>0.2410</td>\n",
              "      <td>152.952</td>\n",
              "      <td>208133.0</td>\n",
              "      <td>4</td>\n",
              "      <td>6</td>\n",
              "    </tr>\n",
              "    <tr>\n",
              "      <th>6</th>\n",
              "      <td>Solomon Burke</td>\n",
              "      <td>None Of Us Are Free</td>\n",
              "      <td>48.0</td>\n",
              "      <td>0.674</td>\n",
              "      <td>0.658</td>\n",
              "      <td>pitch F</td>\n",
              "      <td>-9.647</td>\n",
              "      <td>Minor</td>\n",
              "      <td>0.1040</td>\n",
              "      <td>0.404000</td>\n",
              "      <td>0.000001</td>\n",
              "      <td>0.0981</td>\n",
              "      <td>0.6770</td>\n",
              "      <td>143.292</td>\n",
              "      <td>329387.0</td>\n",
              "      <td>4</td>\n",
              "      <td>2</td>\n",
              "    </tr>\n",
              "  </tbody>\n",
              "</table>\n",
              "</div>\n",
              "      <button class=\"colab-df-convert\" onclick=\"convertToInteractive('df-c086e04f-858d-4d0e-a16b-4e309dea284f')\"\n",
              "              title=\"Convert this dataframe to an interactive table.\"\n",
              "              style=\"display:none;\">\n",
              "        \n",
              "  <svg xmlns=\"http://www.w3.org/2000/svg\" height=\"24px\"viewBox=\"0 0 24 24\"\n",
              "       width=\"24px\">\n",
              "    <path d=\"M0 0h24v24H0V0z\" fill=\"none\"/>\n",
              "    <path d=\"M18.56 5.44l.94 2.06.94-2.06 2.06-.94-2.06-.94-.94-2.06-.94 2.06-2.06.94zm-11 1L8.5 8.5l.94-2.06 2.06-.94-2.06-.94L8.5 2.5l-.94 2.06-2.06.94zm10 10l.94 2.06.94-2.06 2.06-.94-2.06-.94-.94-2.06-.94 2.06-2.06.94z\"/><path d=\"M17.41 7.96l-1.37-1.37c-.4-.4-.92-.59-1.43-.59-.52 0-1.04.2-1.43.59L10.3 9.45l-7.72 7.72c-.78.78-.78 2.05 0 2.83L4 21.41c.39.39.9.59 1.41.59.51 0 1.02-.2 1.41-.59l7.78-7.78 2.81-2.81c.8-.78.8-2.07 0-2.86zM5.41 20L4 18.59l7.72-7.72 1.47 1.35L5.41 20z\"/>\n",
              "  </svg>\n",
              "      </button>\n",
              "      \n",
              "  <style>\n",
              "    .colab-df-container {\n",
              "      display:flex;\n",
              "      flex-wrap:wrap;\n",
              "      gap: 12px;\n",
              "    }\n",
              "\n",
              "    .colab-df-convert {\n",
              "      background-color: #E8F0FE;\n",
              "      border: none;\n",
              "      border-radius: 50%;\n",
              "      cursor: pointer;\n",
              "      display: none;\n",
              "      fill: #1967D2;\n",
              "      height: 32px;\n",
              "      padding: 0 0 0 0;\n",
              "      width: 32px;\n",
              "    }\n",
              "\n",
              "    .colab-df-convert:hover {\n",
              "      background-color: #E2EBFA;\n",
              "      box-shadow: 0px 1px 2px rgba(60, 64, 67, 0.3), 0px 1px 3px 1px rgba(60, 64, 67, 0.15);\n",
              "      fill: #174EA6;\n",
              "    }\n",
              "\n",
              "    [theme=dark] .colab-df-convert {\n",
              "      background-color: #3B4455;\n",
              "      fill: #D2E3FC;\n",
              "    }\n",
              "\n",
              "    [theme=dark] .colab-df-convert:hover {\n",
              "      background-color: #434B5C;\n",
              "      box-shadow: 0px 1px 3px 1px rgba(0, 0, 0, 0.15);\n",
              "      filter: drop-shadow(0px 1px 2px rgba(0, 0, 0, 0.3));\n",
              "      fill: #FFFFFF;\n",
              "    }\n",
              "  </style>\n",
              "\n",
              "      <script>\n",
              "        const buttonEl =\n",
              "          document.querySelector('#df-c086e04f-858d-4d0e-a16b-4e309dea284f button.colab-df-convert');\n",
              "        buttonEl.style.display =\n",
              "          google.colab.kernel.accessAllowed ? 'block' : 'none';\n",
              "\n",
              "        async function convertToInteractive(key) {\n",
              "          const element = document.querySelector('#df-c086e04f-858d-4d0e-a16b-4e309dea284f');\n",
              "          const dataTable =\n",
              "            await google.colab.kernel.invokeFunction('convertToInteractive',\n",
              "                                                     [key], {});\n",
              "          if (!dataTable) return;\n",
              "\n",
              "          const docLinkHtml = 'Like what you see? Visit the ' +\n",
              "            '<a target=\"_blank\" href=https://colab.research.google.com/notebooks/data_table.ipynb>data table notebook</a>'\n",
              "            + ' to learn more about interactive tables.';\n",
              "          element.innerHTML = '';\n",
              "          dataTable['output_type'] = 'display_data';\n",
              "          await google.colab.output.renderOutput(dataTable, element);\n",
              "          const docLink = document.createElement('div');\n",
              "          docLink.innerHTML = docLinkHtml;\n",
              "          element.appendChild(docLink);\n",
              "        }\n",
              "      </script>\n",
              "    </div>\n",
              "  </div>\n",
              "  "
            ]
          },
          "metadata": {},
          "execution_count": 26
        }
      ],
      "source": [
        "cleaned_df1['mode'] = cleaned_df1['mode'].replace(0,'Minor')\n",
        "cleaned_df1['mode'] = cleaned_df1['mode'].replace(1,'Major')\n",
        "cleaned_df1.head()"
      ]
    },
    {
      "cell_type": "markdown",
      "metadata": {
        "id": "YjiSmF1BJpMQ"
      },
      "source": [
        "**------------------------------------------------------------------------------------------------------------------------------------------------------------------**"
      ]
    },
    {
      "cell_type": "markdown",
      "metadata": {
        "id": "bp5NzxsdMNv5"
      },
      "source": [
        "**Speechiness attribute:** as explained in the description and from our understanding, \n",
        "\n",
        " it represents the presence of spoken words in a song and measures how much of the audio content can be identified as speech or spoken words rather than music.\n",
        "\n",
        " if we took a look on the range of the values of this attribute as shown in the below cell of code: \n",
        " "
      ]
    },
    {
      "cell_type": "code",
      "execution_count": 27,
      "metadata": {
        "colab": {
          "base_uri": "https://localhost:8080/"
        },
        "id": "TF5DWaQuNt63",
        "outputId": "7795a831-c1c8-4d01-98de-7d2a03c27bf6"
      },
      "outputs": [
        {
          "output_type": "stream",
          "name": "stdout",
          "text": [
            "Minimum value: 0.0225\n",
            "Maximum value: 0.935\n"
          ]
        }
      ],
      "source": [
        "min_value = min(cleaned_df1['speechiness'])\n",
        "max_value = max(cleaned_df1['speechiness'])\n",
        "\n",
        "print(\"Minimum value:\", min_value)\n",
        "print(\"Maximum value:\", max_value)"
      ]
    },
    {
      "cell_type": "markdown",
      "metadata": {
        "id": "G_kH2SYyN6Mv"
      },
      "source": [
        "**Based on our researches,** on spotify, it ranges from 0 to 1. **And as we can see from the above result**, the attribute value ranges from 0.0225 to 1 (approximately), with higher values indicating a greater presence of spoken words.\n",
        "\n",
        "**To understand the concept more, lets take an example:** \n",
        "\n",
        "the first song by Boston \"Hitch a Ride\" : has a speechiness value of 0.0406, indicating that the track has a low presence of spoken words.\n",
        "\n",
        "So far, we'll not do anything regarding this attribute based on our outcomes. You can take these details as FYI"
      ]
    },
    {
      "cell_type": "markdown",
      "metadata": {
        "id": "qoNzw8sqMOjr"
      },
      "source": [
        "**------------------------------------------------------------------------------------------------------------------------------------------------------------------**"
      ]
    },
    {
      "cell_type": "markdown",
      "metadata": {
        "id": "9JYd-4EKPYJ2"
      },
      "source": [
        "**Acousticness attribute:** As explained in the description,it represents a confidence measure of whether a song is acoustic or not. \n",
        "\n",
        "**based on our researches,** on spotify, it is expressed as a value ranging from 0 to 1. A higher value indicates a higher confidence that the track is acoustic, while a lower value suggests a lower confidence or a greater presence of electronic or synthesized sounds . \n",
        "\n",
        "**For example:** \n",
        "The first song by Boston - Hitch a ride\n",
        "\n",
        "The acousticness value is 0.001100, which is very low. This suggests that the track is not acoustic and likely contains a significant amount of electronic or synthesized elements.\n",
        "\n",
        " (meaning that , en el soot mal3oob feh hateen hagat w keda)\n",
        "\n",
        " The below cell of code shows the range of this attribute: "
      ]
    },
    {
      "cell_type": "code",
      "execution_count": 28,
      "metadata": {
        "colab": {
          "base_uri": "https://localhost:8080/"
        },
        "id": "t6f9d9SKd3MZ",
        "outputId": "a6f9b861-11e4-4a72-9e3d-e1361bbd47a5"
      },
      "outputs": [
        {
          "output_type": "stream",
          "name": "stdout",
          "text": [
            "Minimum value: 0.0\n",
            "Maximum value: 0.996\n"
          ]
        }
      ],
      "source": [
        "min_value = min(cleaned_df1['acousticness'])\n",
        "max_value = max(cleaned_df1['acousticness'])\n",
        "\n",
        "print(\"Minimum value:\", min_value)\n",
        "print(\"Maximum value:\", max_value)\n",
        "# as we can see that the range is from 0 to 0.996"
      ]
    },
    {
      "cell_type": "markdown",
      "metadata": {
        "id": "KGVKP1XDYVej"
      },
      "source": [
        "So far, we'll not do anything regarding this attribute based on our outcomes. You can take these details as *FYI*"
      ]
    },
    {
      "cell_type": "markdown",
      "metadata": {
        "id": "ZNZW48KoPcSJ"
      },
      "source": [
        "**------------------------------------------------------------------------------------------------------------------------------------------------------------------**"
      ]
    },
    {
      "cell_type": "markdown",
      "metadata": {
        "id": "Vd9hXEW6Ytk0"
      },
      "source": [
        "**Instrumentalness attribute:** As explained in the description, it is a measure that predicts whether a song contains vocals or not .\n",
        "\n",
        "**Based on our researches,** it is expressed as a value ranging from 0 to 1. A higher value indicates a higher likelihood that the track is instrumental and does not contain vocals, while a lower value suggests a higher likelihood of vocals or vocal elements in the track.\n",
        "\n",
        "**For example:** if we picked the song \"Hitch a ride: by Boston, we can see that the instrumentalness value is 0.001100, which is very low. This suggests that the song likely contains vocals or vocal elements."
      ]
    },
    {
      "cell_type": "code",
      "execution_count": 29,
      "metadata": {
        "colab": {
          "base_uri": "https://localhost:8080/"
        },
        "id": "rO4LI5s4fZXZ",
        "outputId": "deef3569-6552-462f-902d-0df0c6c52cca"
      },
      "outputs": [
        {
          "output_type": "stream",
          "name": "stdout",
          "text": [
            "Minimum value: 1e-06\n",
            "Maximum value: 0.996\n"
          ]
        }
      ],
      "source": [
        "min_value = min(cleaned_df1['instrumentalness'])\n",
        "max_value = max(cleaned_df1['instrumentalness'])\n",
        "\n",
        "print(\"Minimum value:\", min_value)\n",
        "print(\"Maximum value:\", max_value)\n",
        "# as we can see that the range is from 6* 10*-6 (1M) to 0.996"
      ]
    },
    {
      "cell_type": "markdown",
      "metadata": {
        "id": "OSQVIOzSYuRU"
      },
      "source": [
        "So far, we'll not do anything regarding this attribute based on our outcomes. You can take these details as *FYI*\n",
        "\n",
        "**------------------------------------------------------------------------------------------------------------------------------------------------------------------**"
      ]
    },
    {
      "cell_type": "markdown",
      "metadata": {
        "id": "iOk-654IdV5t"
      },
      "source": [
        "**Liveness attribute:** As explained in the description and based on our researches, it is the likelihood of a song being performed live. It detects the presence of an audience in the recording and provides a measure of the songs's live performance characteristics. Higher values of liveness indicate a higher probability that the song was recorded during a live performance. \n",
        "\n",
        "\n",
        "The values of the \"Liveness\" attribute range from 0.0 to 1.0. A liveness value close to 0.0 suggests that the song is more likely to be a studio recording or a non-live performance, while a value close to 1.0 indicates a higher probability of the song being recorded during a live performance.\n",
        "\n",
        "\n",
        "For example, song Hitch the ride by Boston has a liveness value of 0.1010, suggesting a relatively low likelihood of it being a live performance.\n",
        "\n",
        "The below cell of code shows the range of this attribute: "
      ]
    },
    {
      "cell_type": "code",
      "execution_count": 30,
      "metadata": {
        "colab": {
          "base_uri": "https://localhost:8080/"
        },
        "id": "jkNqXxB0hxGs",
        "outputId": "b56a7135-cb7d-4fea-b2ad-fcca84dd9d7a"
      },
      "outputs": [
        {
          "output_type": "stream",
          "name": "stdout",
          "text": [
            "Minimum value: 0.0119\n",
            "Maximum value: 0.992\n"
          ]
        }
      ],
      "source": [
        "min_value = min(cleaned_df1['liveness'])\n",
        "max_value = max(cleaned_df1['liveness'])\n",
        "\n",
        "print(\"Minimum value:\", min_value)\n",
        "print(\"Maximum value:\", max_value)\n",
        "# as we can see that the range is from 0.0119 to 0.992"
      ]
    },
    {
      "cell_type": "markdown",
      "metadata": {
        "id": "2OPI9Pq6hWev"
      },
      "source": [
        "So far, we'll not do anything regarding this attribute based on our outcomes. You can take these details as *FYI*\n",
        "\n",
        "**------------------------------------------------------------------------------------------------------------------------------------------------------------------**"
      ]
    },
    {
      "cell_type": "markdown",
      "metadata": {
        "id": "wyyZgnNNiI4x"
      },
      "source": [
        "**Valence attribute:** \n",
        "Based on our researches and as explained in the description, \n",
        "\n",
        "it represents the musical positiveness conveyed by a song. It describes the emotional and mood-related aspects of the music. A higher valence value indicates a more positive and uplifting sound, while a lower valence value suggests a more negative or melancholic tone.\n",
        "\n",
        "The values of the \"Valence\" attribute range from 0 to 1. A valence value close to 0 suggests a track with a more negative or sad emotional tone, while a value close to 1 indicates a track with a more positive or happy emotional tone. \n",
        "\n",
        "The below cell of code shows the range of this attribute: "
      ]
    },
    {
      "cell_type": "code",
      "execution_count": 31,
      "metadata": {
        "colab": {
          "base_uri": "https://localhost:8080/"
        },
        "id": "J8ZugF64jL-f",
        "outputId": "29cf8388-d97e-4b66-84c6-94e3ef7a4739"
      },
      "outputs": [
        {
          "output_type": "stream",
          "name": "stdout",
          "text": [
            "Minimum value: 0.0215\n",
            "Maximum value: 0.98\n"
          ]
        }
      ],
      "source": [
        "min_value = min(cleaned_df1['valence'])\n",
        "max_value = max(cleaned_df1['valence'])\n",
        "\n",
        "print(\"Minimum value:\", min_value)\n",
        "print(\"Maximum value:\", max_value)\n",
        "# as we can see that the range is from 0.0215 to 0.98"
      ]
    },
    {
      "cell_type": "markdown",
      "metadata": {
        "id": "DPak_ZBxjcwK"
      },
      "source": [
        "So far, we'll not do anything regarding this attribute based on our outcomes. You can take these details as *FYI*\n",
        "\n",
        "**------------------------------------------------------------------------------------------------------------------------------------------------------------------**"
      ]
    },
    {
      "cell_type": "markdown",
      "metadata": {
        "id": "VZ968UxRjqUZ"
      },
      "source": [
        "**Tempo attribute:** As explained in the description and based on our researche outcomes , \n",
        "\n",
        "its just the speed of the song meaning that ,\n",
        "\n",
        "it represents the overall estimated tempo of a song in beats per minute (BPM). Tempo refers to the speed or pace of a musical piece, indicating how fast or slow the beats are in the music.\n",
        "\n",
        "In general, \n",
        "\n",
        "The values of the \"Tempo\" attribute are numeric and typically range from around 50 BPM (very slow) to 200 BPM (very fast). However, there can be songs with tempos outside this range as well.\n",
        "\n",
        "For example: \n",
        "the song \"Hitch a Ride\" by Boston has a tempo value of 116.454 BPM, indicating a moderate tempo.\n",
        " \n",
        "We'll just rename this column by adding the measurement (BPM) next to the \"tempo\" word .\n",
        "\n",
        "(to be more clear)"
      ]
    },
    {
      "cell_type": "code",
      "execution_count": 32,
      "metadata": {
        "colab": {
          "base_uri": "https://localhost:8080/",
          "height": 568
        },
        "id": "06YdxgT9jrGD",
        "outputId": "34b93bec-d244-41d1-c4fd-ca89ba316e79"
      },
      "outputs": [
        {
          "output_type": "stream",
          "name": "stderr",
          "text": [
            "<ipython-input-32-a14dc5c61140>:1: SettingWithCopyWarning: \n",
            "A value is trying to be set on a copy of a slice from a DataFrame\n",
            "\n",
            "See the caveats in the documentation: https://pandas.pydata.org/pandas-docs/stable/user_guide/indexing.html#returning-a-view-versus-a-copy\n",
            "  cleaned_df1.rename(columns={'tempo': \"tempo_(BPM)\"}, inplace=True)\n"
          ]
        },
        {
          "output_type": "execute_result",
          "data": {
            "text/plain": [
              "             Artist_Name                         Track_Name  Popularity  \\\n",
              "1                 Boston                       Hitch a Ride        54.0   \n",
              "2          The Raincoats                 No Side to Fall In        35.0   \n",
              "4  Red Hot Chili Peppers  Nobody Weird Like Me - Remastered        53.0   \n",
              "5            The Stooges  Search and Destroy - Iggy Pop Mix        53.0   \n",
              "6          Solomon Burke                None Of Us Are Free        48.0   \n",
              "\n",
              "   danceability  energy             key  loudness_in_(dB)   mode  speechiness  \\\n",
              "1         0.382   0.814  pitch D# or Eb            -7.230  Major       0.0406   \n",
              "2         0.434   0.614        F# or Gb            -8.334  Major       0.0525   \n",
              "4         0.167   0.975         pitch D            -4.279  Major       0.2160   \n",
              "5         0.235   0.977        F# or Gb             0.878  Major       0.1070   \n",
              "6         0.674   0.658         pitch F            -9.647  Minor       0.1040   \n",
              "\n",
              "   acousticness  instrumentalness  liveness  valence  tempo_(BPM)  \\\n",
              "1      0.001100          0.004010    0.1010   0.5690      116.454   \n",
              "2      0.486000          0.000196    0.3940   0.7870      147.681   \n",
              "4      0.000169          0.016100    0.1720   0.0918      199.060   \n",
              "5      0.003530          0.006040    0.1720   0.2410      152.952   \n",
              "6      0.404000          0.000001    0.0981   0.6770      143.292   \n",
              "\n",
              "   duration_in min/ms  time_signature  Genre  \n",
              "1            251733.0               4     10  \n",
              "2            109667.0               4      6  \n",
              "4            229960.0               4     10  \n",
              "5            208133.0               4      6  \n",
              "6            329387.0               4      2  "
            ],
            "text/html": [
              "\n",
              "  <div id=\"df-b16b6900-edd3-4453-98f4-c79047b59d57\">\n",
              "    <div class=\"colab-df-container\">\n",
              "      <div>\n",
              "<style scoped>\n",
              "    .dataframe tbody tr th:only-of-type {\n",
              "        vertical-align: middle;\n",
              "    }\n",
              "\n",
              "    .dataframe tbody tr th {\n",
              "        vertical-align: top;\n",
              "    }\n",
              "\n",
              "    .dataframe thead th {\n",
              "        text-align: right;\n",
              "    }\n",
              "</style>\n",
              "<table border=\"1\" class=\"dataframe\">\n",
              "  <thead>\n",
              "    <tr style=\"text-align: right;\">\n",
              "      <th></th>\n",
              "      <th>Artist_Name</th>\n",
              "      <th>Track_Name</th>\n",
              "      <th>Popularity</th>\n",
              "      <th>danceability</th>\n",
              "      <th>energy</th>\n",
              "      <th>key</th>\n",
              "      <th>loudness_in_(dB)</th>\n",
              "      <th>mode</th>\n",
              "      <th>speechiness</th>\n",
              "      <th>acousticness</th>\n",
              "      <th>instrumentalness</th>\n",
              "      <th>liveness</th>\n",
              "      <th>valence</th>\n",
              "      <th>tempo_(BPM)</th>\n",
              "      <th>duration_in min/ms</th>\n",
              "      <th>time_signature</th>\n",
              "      <th>Genre</th>\n",
              "    </tr>\n",
              "  </thead>\n",
              "  <tbody>\n",
              "    <tr>\n",
              "      <th>1</th>\n",
              "      <td>Boston</td>\n",
              "      <td>Hitch a Ride</td>\n",
              "      <td>54.0</td>\n",
              "      <td>0.382</td>\n",
              "      <td>0.814</td>\n",
              "      <td>pitch D# or Eb</td>\n",
              "      <td>-7.230</td>\n",
              "      <td>Major</td>\n",
              "      <td>0.0406</td>\n",
              "      <td>0.001100</td>\n",
              "      <td>0.004010</td>\n",
              "      <td>0.1010</td>\n",
              "      <td>0.5690</td>\n",
              "      <td>116.454</td>\n",
              "      <td>251733.0</td>\n",
              "      <td>4</td>\n",
              "      <td>10</td>\n",
              "    </tr>\n",
              "    <tr>\n",
              "      <th>2</th>\n",
              "      <td>The Raincoats</td>\n",
              "      <td>No Side to Fall In</td>\n",
              "      <td>35.0</td>\n",
              "      <td>0.434</td>\n",
              "      <td>0.614</td>\n",
              "      <td>F# or Gb</td>\n",
              "      <td>-8.334</td>\n",
              "      <td>Major</td>\n",
              "      <td>0.0525</td>\n",
              "      <td>0.486000</td>\n",
              "      <td>0.000196</td>\n",
              "      <td>0.3940</td>\n",
              "      <td>0.7870</td>\n",
              "      <td>147.681</td>\n",
              "      <td>109667.0</td>\n",
              "      <td>4</td>\n",
              "      <td>6</td>\n",
              "    </tr>\n",
              "    <tr>\n",
              "      <th>4</th>\n",
              "      <td>Red Hot Chili Peppers</td>\n",
              "      <td>Nobody Weird Like Me - Remastered</td>\n",
              "      <td>53.0</td>\n",
              "      <td>0.167</td>\n",
              "      <td>0.975</td>\n",
              "      <td>pitch D</td>\n",
              "      <td>-4.279</td>\n",
              "      <td>Major</td>\n",
              "      <td>0.2160</td>\n",
              "      <td>0.000169</td>\n",
              "      <td>0.016100</td>\n",
              "      <td>0.1720</td>\n",
              "      <td>0.0918</td>\n",
              "      <td>199.060</td>\n",
              "      <td>229960.0</td>\n",
              "      <td>4</td>\n",
              "      <td>10</td>\n",
              "    </tr>\n",
              "    <tr>\n",
              "      <th>5</th>\n",
              "      <td>The Stooges</td>\n",
              "      <td>Search and Destroy - Iggy Pop Mix</td>\n",
              "      <td>53.0</td>\n",
              "      <td>0.235</td>\n",
              "      <td>0.977</td>\n",
              "      <td>F# or Gb</td>\n",
              "      <td>0.878</td>\n",
              "      <td>Major</td>\n",
              "      <td>0.1070</td>\n",
              "      <td>0.003530</td>\n",
              "      <td>0.006040</td>\n",
              "      <td>0.1720</td>\n",
              "      <td>0.2410</td>\n",
              "      <td>152.952</td>\n",
              "      <td>208133.0</td>\n",
              "      <td>4</td>\n",
              "      <td>6</td>\n",
              "    </tr>\n",
              "    <tr>\n",
              "      <th>6</th>\n",
              "      <td>Solomon Burke</td>\n",
              "      <td>None Of Us Are Free</td>\n",
              "      <td>48.0</td>\n",
              "      <td>0.674</td>\n",
              "      <td>0.658</td>\n",
              "      <td>pitch F</td>\n",
              "      <td>-9.647</td>\n",
              "      <td>Minor</td>\n",
              "      <td>0.1040</td>\n",
              "      <td>0.404000</td>\n",
              "      <td>0.000001</td>\n",
              "      <td>0.0981</td>\n",
              "      <td>0.6770</td>\n",
              "      <td>143.292</td>\n",
              "      <td>329387.0</td>\n",
              "      <td>4</td>\n",
              "      <td>2</td>\n",
              "    </tr>\n",
              "  </tbody>\n",
              "</table>\n",
              "</div>\n",
              "      <button class=\"colab-df-convert\" onclick=\"convertToInteractive('df-b16b6900-edd3-4453-98f4-c79047b59d57')\"\n",
              "              title=\"Convert this dataframe to an interactive table.\"\n",
              "              style=\"display:none;\">\n",
              "        \n",
              "  <svg xmlns=\"http://www.w3.org/2000/svg\" height=\"24px\"viewBox=\"0 0 24 24\"\n",
              "       width=\"24px\">\n",
              "    <path d=\"M0 0h24v24H0V0z\" fill=\"none\"/>\n",
              "    <path d=\"M18.56 5.44l.94 2.06.94-2.06 2.06-.94-2.06-.94-.94-2.06-.94 2.06-2.06.94zm-11 1L8.5 8.5l.94-2.06 2.06-.94-2.06-.94L8.5 2.5l-.94 2.06-2.06.94zm10 10l.94 2.06.94-2.06 2.06-.94-2.06-.94-.94-2.06-.94 2.06-2.06.94z\"/><path d=\"M17.41 7.96l-1.37-1.37c-.4-.4-.92-.59-1.43-.59-.52 0-1.04.2-1.43.59L10.3 9.45l-7.72 7.72c-.78.78-.78 2.05 0 2.83L4 21.41c.39.39.9.59 1.41.59.51 0 1.02-.2 1.41-.59l7.78-7.78 2.81-2.81c.8-.78.8-2.07 0-2.86zM5.41 20L4 18.59l7.72-7.72 1.47 1.35L5.41 20z\"/>\n",
              "  </svg>\n",
              "      </button>\n",
              "      \n",
              "  <style>\n",
              "    .colab-df-container {\n",
              "      display:flex;\n",
              "      flex-wrap:wrap;\n",
              "      gap: 12px;\n",
              "    }\n",
              "\n",
              "    .colab-df-convert {\n",
              "      background-color: #E8F0FE;\n",
              "      border: none;\n",
              "      border-radius: 50%;\n",
              "      cursor: pointer;\n",
              "      display: none;\n",
              "      fill: #1967D2;\n",
              "      height: 32px;\n",
              "      padding: 0 0 0 0;\n",
              "      width: 32px;\n",
              "    }\n",
              "\n",
              "    .colab-df-convert:hover {\n",
              "      background-color: #E2EBFA;\n",
              "      box-shadow: 0px 1px 2px rgba(60, 64, 67, 0.3), 0px 1px 3px 1px rgba(60, 64, 67, 0.15);\n",
              "      fill: #174EA6;\n",
              "    }\n",
              "\n",
              "    [theme=dark] .colab-df-convert {\n",
              "      background-color: #3B4455;\n",
              "      fill: #D2E3FC;\n",
              "    }\n",
              "\n",
              "    [theme=dark] .colab-df-convert:hover {\n",
              "      background-color: #434B5C;\n",
              "      box-shadow: 0px 1px 3px 1px rgba(0, 0, 0, 0.15);\n",
              "      filter: drop-shadow(0px 1px 2px rgba(0, 0, 0, 0.3));\n",
              "      fill: #FFFFFF;\n",
              "    }\n",
              "  </style>\n",
              "\n",
              "      <script>\n",
              "        const buttonEl =\n",
              "          document.querySelector('#df-b16b6900-edd3-4453-98f4-c79047b59d57 button.colab-df-convert');\n",
              "        buttonEl.style.display =\n",
              "          google.colab.kernel.accessAllowed ? 'block' : 'none';\n",
              "\n",
              "        async function convertToInteractive(key) {\n",
              "          const element = document.querySelector('#df-b16b6900-edd3-4453-98f4-c79047b59d57');\n",
              "          const dataTable =\n",
              "            await google.colab.kernel.invokeFunction('convertToInteractive',\n",
              "                                                     [key], {});\n",
              "          if (!dataTable) return;\n",
              "\n",
              "          const docLinkHtml = 'Like what you see? Visit the ' +\n",
              "            '<a target=\"_blank\" href=https://colab.research.google.com/notebooks/data_table.ipynb>data table notebook</a>'\n",
              "            + ' to learn more about interactive tables.';\n",
              "          element.innerHTML = '';\n",
              "          dataTable['output_type'] = 'display_data';\n",
              "          await google.colab.output.renderOutput(dataTable, element);\n",
              "          const docLink = document.createElement('div');\n",
              "          docLink.innerHTML = docLinkHtml;\n",
              "          element.appendChild(docLink);\n",
              "        }\n",
              "      </script>\n",
              "    </div>\n",
              "  </div>\n",
              "  "
            ]
          },
          "metadata": {},
          "execution_count": 32
        }
      ],
      "source": [
        "cleaned_df1.rename(columns={'tempo': \"tempo_(BPM)\"}, inplace=True)\n",
        "cleaned_df1.head()"
      ]
    },
    {
      "cell_type": "markdown",
      "metadata": {
        "id": "MHHYJ0bXjsAz"
      },
      "source": [
        "\n",
        "**------------------------------------------------------------------------------------------------------------------------------------------------------------------**"
      ]
    },
    {
      "cell_type": "markdown",
      "metadata": {
        "id": "PCiG43fZLrrL"
      },
      "source": [
        "**Duration in min/ms attribute:** as explained in the description , it is the duration of the track in milliseconds.\n",
        "\n",
        "in this attribute, it contains two types of numbers, a whole number represents the time in ms while foaling numbers represent the time in min . We need to convert all the floating numbers to whole numbers to apply question 2 that says \" remove any songs that exceed 5 minutes\" .\n",
        "\n",
        "To do that, we'll specify the floating numbers and divide the time value by 60000 \n",
        "\n",
        "As we took in our labs, we will use the lambda function as it could be applied in the datasets while using complex functions (agg)"
      ]
    },
    {
      "cell_type": "code",
      "execution_count": 33,
      "metadata": {
        "colab": {
          "base_uri": "https://localhost:8080/"
        },
        "id": "sQC6FUpxO4Ef",
        "outputId": "076f3368-7f80-4df0-f09c-b17ef7982474"
      },
      "outputs": [
        {
          "output_type": "execute_result",
          "data": {
            "text/plain": [
              "1     251733.000000\n",
              "2     109667.000000\n",
              "4     229960.000000\n",
              "5     208133.000000\n",
              "6     329387.000000\n",
              "7          3.105783\n",
              "8     237867.000000\n",
              "9          4.330450\n",
              "11         4.440250\n",
              "12    153693.000000\n",
              "13    146800.000000\n",
              "14    154293.000000\n",
              "16    283013.000000\n",
              "17    137872.000000\n",
              "18    138000.000000\n",
              "19    309867.000000\n",
              "22    257360.000000\n",
              "23    204280.000000\n",
              "24    197160.000000\n",
              "25    180822.000000\n",
              "Name: duration_in min/ms, dtype: float64"
            ]
          },
          "metadata": {},
          "execution_count": 33
        }
      ],
      "source": [
        "cleaned_df1['duration_in min/ms'].head(20)"
      ]
    },
    {
      "cell_type": "code",
      "execution_count": 34,
      "metadata": {
        "colab": {
          "base_uri": "https://localhost:8080/"
        },
        "id": "shOGrg9CNY29",
        "outputId": "0dc7d676-863e-44f6-ff6e-26ee40f52d67"
      },
      "outputs": [
        {
          "output_type": "stream",
          "name": "stderr",
          "text": [
            "<ipython-input-34-81c8b4e2db91>:2: SettingWithCopyWarning: \n",
            "A value is trying to be set on a copy of a slice from a DataFrame.\n",
            "Try using .loc[row_indexer,col_indexer] = value instead\n",
            "\n",
            "See the caveats in the documentation: https://pandas.pydata.org/pandas-docs/stable/user_guide/indexing.html#returning-a-view-versus-a-copy\n",
            "  cleaned_df1['duration_in min/ms'] = cleaned_df1['duration_in min/ms'].apply(lambda x: x / 60000 if x.is_integer() else x)\n"
          ]
        }
      ],
      "source": [
        "# Convert the values in the \"duration_in min/ms\" column from ms to min\n",
        "cleaned_df1['duration_in min/ms'] = cleaned_df1['duration_in min/ms'].apply(lambda x: x / 60000 if x.is_integer() else x)\n"
      ]
    },
    {
      "cell_type": "code",
      "execution_count": 35,
      "metadata": {
        "colab": {
          "base_uri": "https://localhost:8080/"
        },
        "id": "kB0DdCGtOfnB",
        "outputId": "bff007c9-2451-4ec5-9169-a55482217fd6"
      },
      "outputs": [
        {
          "output_type": "execute_result",
          "data": {
            "text/plain": [
              "1     4.195550\n",
              "2     1.827783\n",
              "4     3.832667\n",
              "5     3.468883\n",
              "6     5.489783\n",
              "7     3.105783\n",
              "8     3.964450\n",
              "9     4.330450\n",
              "11    4.440250\n",
              "12    2.561550\n",
              "13    2.446667\n",
              "14    2.571550\n",
              "16    4.716883\n",
              "17    2.297867\n",
              "18    2.300000\n",
              "19    5.164450\n",
              "22    4.289333\n",
              "23    3.404667\n",
              "24    3.286000\n",
              "25    3.013700\n",
              "Name: duration_in min/ms, dtype: float64"
            ]
          },
          "metadata": {},
          "execution_count": 35
        }
      ],
      "source": [
        "cleaned_df1['duration_in min/ms'].head(20)"
      ]
    },
    {
      "cell_type": "markdown",
      "metadata": {
        "id": "2xY23CV3SmZ5"
      },
      "source": [
        "To make our dataset more elegant and reasonable , we'll rename the column **'duration_in min/ms'** to **'Duration_inMins'** without the ms part "
      ]
    },
    {
      "cell_type": "code",
      "execution_count": 36,
      "metadata": {
        "colab": {
          "base_uri": "https://localhost:8080/",
          "height": 550
        },
        "id": "UEKoLqb7TLIx",
        "outputId": "8ad0dc0a-ae75-4666-fb60-9cf94eb745fc"
      },
      "outputs": [
        {
          "output_type": "stream",
          "name": "stderr",
          "text": [
            "<ipython-input-36-8fbbd2cf5e40>:1: SettingWithCopyWarning: \n",
            "A value is trying to be set on a copy of a slice from a DataFrame\n",
            "\n",
            "See the caveats in the documentation: https://pandas.pydata.org/pandas-docs/stable/user_guide/indexing.html#returning-a-view-versus-a-copy\n",
            "  cleaned_df1.rename(columns={'duration_in min/ms': \"Duration_inMins\"}, inplace=True)\n"
          ]
        },
        {
          "output_type": "execute_result",
          "data": {
            "text/plain": [
              "             Artist_Name                         Track_Name  Popularity  \\\n",
              "1                 Boston                       Hitch a Ride        54.0   \n",
              "2          The Raincoats                 No Side to Fall In        35.0   \n",
              "4  Red Hot Chili Peppers  Nobody Weird Like Me - Remastered        53.0   \n",
              "5            The Stooges  Search and Destroy - Iggy Pop Mix        53.0   \n",
              "6          Solomon Burke                None Of Us Are Free        48.0   \n",
              "\n",
              "   danceability  energy             key  loudness_in_(dB)   mode  speechiness  \\\n",
              "1         0.382   0.814  pitch D# or Eb            -7.230  Major       0.0406   \n",
              "2         0.434   0.614        F# or Gb            -8.334  Major       0.0525   \n",
              "4         0.167   0.975         pitch D            -4.279  Major       0.2160   \n",
              "5         0.235   0.977        F# or Gb             0.878  Major       0.1070   \n",
              "6         0.674   0.658         pitch F            -9.647  Minor       0.1040   \n",
              "\n",
              "   acousticness  instrumentalness  liveness  valence  tempo_(BPM)  \\\n",
              "1      0.001100          0.004010    0.1010   0.5690      116.454   \n",
              "2      0.486000          0.000196    0.3940   0.7870      147.681   \n",
              "4      0.000169          0.016100    0.1720   0.0918      199.060   \n",
              "5      0.003530          0.006040    0.1720   0.2410      152.952   \n",
              "6      0.404000          0.000001    0.0981   0.6770      143.292   \n",
              "\n",
              "   Duration_inMins  time_signature  Genre  \n",
              "1         4.195550               4     10  \n",
              "2         1.827783               4      6  \n",
              "4         3.832667               4     10  \n",
              "5         3.468883               4      6  \n",
              "6         5.489783               4      2  "
            ],
            "text/html": [
              "\n",
              "  <div id=\"df-d7a3d43a-fbb3-4ff3-9850-1e774d581be8\">\n",
              "    <div class=\"colab-df-container\">\n",
              "      <div>\n",
              "<style scoped>\n",
              "    .dataframe tbody tr th:only-of-type {\n",
              "        vertical-align: middle;\n",
              "    }\n",
              "\n",
              "    .dataframe tbody tr th {\n",
              "        vertical-align: top;\n",
              "    }\n",
              "\n",
              "    .dataframe thead th {\n",
              "        text-align: right;\n",
              "    }\n",
              "</style>\n",
              "<table border=\"1\" class=\"dataframe\">\n",
              "  <thead>\n",
              "    <tr style=\"text-align: right;\">\n",
              "      <th></th>\n",
              "      <th>Artist_Name</th>\n",
              "      <th>Track_Name</th>\n",
              "      <th>Popularity</th>\n",
              "      <th>danceability</th>\n",
              "      <th>energy</th>\n",
              "      <th>key</th>\n",
              "      <th>loudness_in_(dB)</th>\n",
              "      <th>mode</th>\n",
              "      <th>speechiness</th>\n",
              "      <th>acousticness</th>\n",
              "      <th>instrumentalness</th>\n",
              "      <th>liveness</th>\n",
              "      <th>valence</th>\n",
              "      <th>tempo_(BPM)</th>\n",
              "      <th>Duration_inMins</th>\n",
              "      <th>time_signature</th>\n",
              "      <th>Genre</th>\n",
              "    </tr>\n",
              "  </thead>\n",
              "  <tbody>\n",
              "    <tr>\n",
              "      <th>1</th>\n",
              "      <td>Boston</td>\n",
              "      <td>Hitch a Ride</td>\n",
              "      <td>54.0</td>\n",
              "      <td>0.382</td>\n",
              "      <td>0.814</td>\n",
              "      <td>pitch D# or Eb</td>\n",
              "      <td>-7.230</td>\n",
              "      <td>Major</td>\n",
              "      <td>0.0406</td>\n",
              "      <td>0.001100</td>\n",
              "      <td>0.004010</td>\n",
              "      <td>0.1010</td>\n",
              "      <td>0.5690</td>\n",
              "      <td>116.454</td>\n",
              "      <td>4.195550</td>\n",
              "      <td>4</td>\n",
              "      <td>10</td>\n",
              "    </tr>\n",
              "    <tr>\n",
              "      <th>2</th>\n",
              "      <td>The Raincoats</td>\n",
              "      <td>No Side to Fall In</td>\n",
              "      <td>35.0</td>\n",
              "      <td>0.434</td>\n",
              "      <td>0.614</td>\n",
              "      <td>F# or Gb</td>\n",
              "      <td>-8.334</td>\n",
              "      <td>Major</td>\n",
              "      <td>0.0525</td>\n",
              "      <td>0.486000</td>\n",
              "      <td>0.000196</td>\n",
              "      <td>0.3940</td>\n",
              "      <td>0.7870</td>\n",
              "      <td>147.681</td>\n",
              "      <td>1.827783</td>\n",
              "      <td>4</td>\n",
              "      <td>6</td>\n",
              "    </tr>\n",
              "    <tr>\n",
              "      <th>4</th>\n",
              "      <td>Red Hot Chili Peppers</td>\n",
              "      <td>Nobody Weird Like Me - Remastered</td>\n",
              "      <td>53.0</td>\n",
              "      <td>0.167</td>\n",
              "      <td>0.975</td>\n",
              "      <td>pitch D</td>\n",
              "      <td>-4.279</td>\n",
              "      <td>Major</td>\n",
              "      <td>0.2160</td>\n",
              "      <td>0.000169</td>\n",
              "      <td>0.016100</td>\n",
              "      <td>0.1720</td>\n",
              "      <td>0.0918</td>\n",
              "      <td>199.060</td>\n",
              "      <td>3.832667</td>\n",
              "      <td>4</td>\n",
              "      <td>10</td>\n",
              "    </tr>\n",
              "    <tr>\n",
              "      <th>5</th>\n",
              "      <td>The Stooges</td>\n",
              "      <td>Search and Destroy - Iggy Pop Mix</td>\n",
              "      <td>53.0</td>\n",
              "      <td>0.235</td>\n",
              "      <td>0.977</td>\n",
              "      <td>F# or Gb</td>\n",
              "      <td>0.878</td>\n",
              "      <td>Major</td>\n",
              "      <td>0.1070</td>\n",
              "      <td>0.003530</td>\n",
              "      <td>0.006040</td>\n",
              "      <td>0.1720</td>\n",
              "      <td>0.2410</td>\n",
              "      <td>152.952</td>\n",
              "      <td>3.468883</td>\n",
              "      <td>4</td>\n",
              "      <td>6</td>\n",
              "    </tr>\n",
              "    <tr>\n",
              "      <th>6</th>\n",
              "      <td>Solomon Burke</td>\n",
              "      <td>None Of Us Are Free</td>\n",
              "      <td>48.0</td>\n",
              "      <td>0.674</td>\n",
              "      <td>0.658</td>\n",
              "      <td>pitch F</td>\n",
              "      <td>-9.647</td>\n",
              "      <td>Minor</td>\n",
              "      <td>0.1040</td>\n",
              "      <td>0.404000</td>\n",
              "      <td>0.000001</td>\n",
              "      <td>0.0981</td>\n",
              "      <td>0.6770</td>\n",
              "      <td>143.292</td>\n",
              "      <td>5.489783</td>\n",
              "      <td>4</td>\n",
              "      <td>2</td>\n",
              "    </tr>\n",
              "  </tbody>\n",
              "</table>\n",
              "</div>\n",
              "      <button class=\"colab-df-convert\" onclick=\"convertToInteractive('df-d7a3d43a-fbb3-4ff3-9850-1e774d581be8')\"\n",
              "              title=\"Convert this dataframe to an interactive table.\"\n",
              "              style=\"display:none;\">\n",
              "        \n",
              "  <svg xmlns=\"http://www.w3.org/2000/svg\" height=\"24px\"viewBox=\"0 0 24 24\"\n",
              "       width=\"24px\">\n",
              "    <path d=\"M0 0h24v24H0V0z\" fill=\"none\"/>\n",
              "    <path d=\"M18.56 5.44l.94 2.06.94-2.06 2.06-.94-2.06-.94-.94-2.06-.94 2.06-2.06.94zm-11 1L8.5 8.5l.94-2.06 2.06-.94-2.06-.94L8.5 2.5l-.94 2.06-2.06.94zm10 10l.94 2.06.94-2.06 2.06-.94-2.06-.94-.94-2.06-.94 2.06-2.06.94z\"/><path d=\"M17.41 7.96l-1.37-1.37c-.4-.4-.92-.59-1.43-.59-.52 0-1.04.2-1.43.59L10.3 9.45l-7.72 7.72c-.78.78-.78 2.05 0 2.83L4 21.41c.39.39.9.59 1.41.59.51 0 1.02-.2 1.41-.59l7.78-7.78 2.81-2.81c.8-.78.8-2.07 0-2.86zM5.41 20L4 18.59l7.72-7.72 1.47 1.35L5.41 20z\"/>\n",
              "  </svg>\n",
              "      </button>\n",
              "      \n",
              "  <style>\n",
              "    .colab-df-container {\n",
              "      display:flex;\n",
              "      flex-wrap:wrap;\n",
              "      gap: 12px;\n",
              "    }\n",
              "\n",
              "    .colab-df-convert {\n",
              "      background-color: #E8F0FE;\n",
              "      border: none;\n",
              "      border-radius: 50%;\n",
              "      cursor: pointer;\n",
              "      display: none;\n",
              "      fill: #1967D2;\n",
              "      height: 32px;\n",
              "      padding: 0 0 0 0;\n",
              "      width: 32px;\n",
              "    }\n",
              "\n",
              "    .colab-df-convert:hover {\n",
              "      background-color: #E2EBFA;\n",
              "      box-shadow: 0px 1px 2px rgba(60, 64, 67, 0.3), 0px 1px 3px 1px rgba(60, 64, 67, 0.15);\n",
              "      fill: #174EA6;\n",
              "    }\n",
              "\n",
              "    [theme=dark] .colab-df-convert {\n",
              "      background-color: #3B4455;\n",
              "      fill: #D2E3FC;\n",
              "    }\n",
              "\n",
              "    [theme=dark] .colab-df-convert:hover {\n",
              "      background-color: #434B5C;\n",
              "      box-shadow: 0px 1px 3px 1px rgba(0, 0, 0, 0.15);\n",
              "      filter: drop-shadow(0px 1px 2px rgba(0, 0, 0, 0.3));\n",
              "      fill: #FFFFFF;\n",
              "    }\n",
              "  </style>\n",
              "\n",
              "      <script>\n",
              "        const buttonEl =\n",
              "          document.querySelector('#df-d7a3d43a-fbb3-4ff3-9850-1e774d581be8 button.colab-df-convert');\n",
              "        buttonEl.style.display =\n",
              "          google.colab.kernel.accessAllowed ? 'block' : 'none';\n",
              "\n",
              "        async function convertToInteractive(key) {\n",
              "          const element = document.querySelector('#df-d7a3d43a-fbb3-4ff3-9850-1e774d581be8');\n",
              "          const dataTable =\n",
              "            await google.colab.kernel.invokeFunction('convertToInteractive',\n",
              "                                                     [key], {});\n",
              "          if (!dataTable) return;\n",
              "\n",
              "          const docLinkHtml = 'Like what you see? Visit the ' +\n",
              "            '<a target=\"_blank\" href=https://colab.research.google.com/notebooks/data_table.ipynb>data table notebook</a>'\n",
              "            + ' to learn more about interactive tables.';\n",
              "          element.innerHTML = '';\n",
              "          dataTable['output_type'] = 'display_data';\n",
              "          await google.colab.output.renderOutput(dataTable, element);\n",
              "          const docLink = document.createElement('div');\n",
              "          docLink.innerHTML = docLinkHtml;\n",
              "          element.appendChild(docLink);\n",
              "        }\n",
              "      </script>\n",
              "    </div>\n",
              "  </div>\n",
              "  "
            ]
          },
          "metadata": {},
          "execution_count": 36
        }
      ],
      "source": [
        "cleaned_df1.rename(columns={'duration_in min/ms': \"Duration_inMins\"}, inplace=True)\n",
        "cleaned_df1.head()\n",
        "# scroll left to see the result :)"
      ]
    },
    {
      "cell_type": "markdown",
      "metadata": {
        "id": "AIXtQV6Co0bb"
      },
      "source": [
        "\n",
        "**------------------------------------------------------------------------------------------------------------------------------------------------------------------**"
      ]
    },
    {
      "cell_type": "markdown",
      "metadata": {
        "id": "vN4GlqC2yuY1"
      },
      "source": [
        "**Genre attribute:** based on our research outcomes and as explained in the description, it represents the category of a particular song. Genre is a way to classify and categorize music based on shared characteristics, styles, and conventions. It helps to distinguish songs based on their musical elements, cultural influences, and target audience.\n",
        "\n",
        "\n",
        " we'll change the values of the Genre column from numeric into Strings as descriped in the assignment .\n",
        "\n",
        "**For example:** \"Hitch a Ride\" by Boston is categorized under the genre 10 which is Equivalent to --> \"Country.\"\n",
        "\n",
        "To do that, we need to know the unique values in that column and then use them to refer each number to its corresponding Common Genre : \n",
        "\n",
        "**For example :** \n",
        "Genre = 0 --> Rock \n",
        "Genre = 1 --> Indie \n",
        "and so on for the rest of the values . \n"
      ]
    },
    {
      "cell_type": "code",
      "execution_count": 37,
      "metadata": {
        "colab": {
          "base_uri": "https://localhost:8080/"
        },
        "id": "8ldNfZ7sqBOd",
        "outputId": "714eb3e3-037e-4b99-af2f-c1d794ae1f31"
      },
      "outputs": [
        {
          "output_type": "execute_result",
          "data": {
            "text/plain": [
              "array([10,  6,  2,  4,  8,  3,  7,  1,  5,  9,  0])"
            ]
          },
          "metadata": {},
          "execution_count": 37
        }
      ],
      "source": [
        "cleaned_df1['Genre'].unique()"
      ]
    },
    {
      "cell_type": "code",
      "execution_count": 38,
      "metadata": {
        "colab": {
          "base_uri": "https://localhost:8080/",
          "height": 1000
        },
        "id": "VkPfV90O0Yjk",
        "outputId": "fb6a0605-364e-4d07-f201-80c962891029"
      },
      "outputs": [
        {
          "output_type": "stream",
          "name": "stderr",
          "text": [
            "<ipython-input-38-207cab474e7a>:1: SettingWithCopyWarning: \n",
            "A value is trying to be set on a copy of a slice from a DataFrame.\n",
            "Try using .loc[row_indexer,col_indexer] = value instead\n",
            "\n",
            "See the caveats in the documentation: https://pandas.pydata.org/pandas-docs/stable/user_guide/indexing.html#returning-a-view-versus-a-copy\n",
            "  cleaned_df1['Genre'] = cleaned_df1['Genre'].replace(0,'Rock')\n",
            "<ipython-input-38-207cab474e7a>:2: SettingWithCopyWarning: \n",
            "A value is trying to be set on a copy of a slice from a DataFrame.\n",
            "Try using .loc[row_indexer,col_indexer] = value instead\n",
            "\n",
            "See the caveats in the documentation: https://pandas.pydata.org/pandas-docs/stable/user_guide/indexing.html#returning-a-view-versus-a-copy\n",
            "  cleaned_df1['Genre'] = cleaned_df1['Genre'].replace(1,'Indie')\n",
            "<ipython-input-38-207cab474e7a>:3: SettingWithCopyWarning: \n",
            "A value is trying to be set on a copy of a slice from a DataFrame.\n",
            "Try using .loc[row_indexer,col_indexer] = value instead\n",
            "\n",
            "See the caveats in the documentation: https://pandas.pydata.org/pandas-docs/stable/user_guide/indexing.html#returning-a-view-versus-a-copy\n",
            "  cleaned_df1['Genre'] = cleaned_df1['Genre'].replace(2,'Alt')\n",
            "<ipython-input-38-207cab474e7a>:4: SettingWithCopyWarning: \n",
            "A value is trying to be set on a copy of a slice from a DataFrame.\n",
            "Try using .loc[row_indexer,col_indexer] = value instead\n",
            "\n",
            "See the caveats in the documentation: https://pandas.pydata.org/pandas-docs/stable/user_guide/indexing.html#returning-a-view-versus-a-copy\n",
            "  cleaned_df1['Genre'] = cleaned_df1['Genre'].replace(3,'Pop')\n",
            "<ipython-input-38-207cab474e7a>:5: SettingWithCopyWarning: \n",
            "A value is trying to be set on a copy of a slice from a DataFrame.\n",
            "Try using .loc[row_indexer,col_indexer] = value instead\n",
            "\n",
            "See the caveats in the documentation: https://pandas.pydata.org/pandas-docs/stable/user_guide/indexing.html#returning-a-view-versus-a-copy\n",
            "  cleaned_df1['Genre'] = cleaned_df1['Genre'].replace(4,'Metal')\n",
            "<ipython-input-38-207cab474e7a>:6: SettingWithCopyWarning: \n",
            "A value is trying to be set on a copy of a slice from a DataFrame.\n",
            "Try using .loc[row_indexer,col_indexer] = value instead\n",
            "\n",
            "See the caveats in the documentation: https://pandas.pydata.org/pandas-docs/stable/user_guide/indexing.html#returning-a-view-versus-a-copy\n",
            "  cleaned_df1['Genre'] = cleaned_df1['Genre'].replace(5,'HipHop')\n",
            "<ipython-input-38-207cab474e7a>:7: SettingWithCopyWarning: \n",
            "A value is trying to be set on a copy of a slice from a DataFrame.\n",
            "Try using .loc[row_indexer,col_indexer] = value instead\n",
            "\n",
            "See the caveats in the documentation: https://pandas.pydata.org/pandas-docs/stable/user_guide/indexing.html#returning-a-view-versus-a-copy\n",
            "  cleaned_df1['Genre'] = cleaned_df1['Genre'].replace(6,'Alt_Music')\n",
            "<ipython-input-38-207cab474e7a>:8: SettingWithCopyWarning: \n",
            "A value is trying to be set on a copy of a slice from a DataFrame.\n",
            "Try using .loc[row_indexer,col_indexer] = value instead\n",
            "\n",
            "See the caveats in the documentation: https://pandas.pydata.org/pandas-docs/stable/user_guide/indexing.html#returning-a-view-versus-a-copy\n",
            "  cleaned_df1['Genre'] = cleaned_df1['Genre'].replace(7,'Blues')\n",
            "<ipython-input-38-207cab474e7a>:9: SettingWithCopyWarning: \n",
            "A value is trying to be set on a copy of a slice from a DataFrame.\n",
            "Try using .loc[row_indexer,col_indexer] = value instead\n",
            "\n",
            "See the caveats in the documentation: https://pandas.pydata.org/pandas-docs/stable/user_guide/indexing.html#returning-a-view-versus-a-copy\n",
            "  cleaned_df1['Genre'] = cleaned_df1['Genre'].replace(8,'Acoustic/Folk')\n",
            "<ipython-input-38-207cab474e7a>:10: SettingWithCopyWarning: \n",
            "A value is trying to be set on a copy of a slice from a DataFrame.\n",
            "Try using .loc[row_indexer,col_indexer] = value instead\n",
            "\n",
            "See the caveats in the documentation: https://pandas.pydata.org/pandas-docs/stable/user_guide/indexing.html#returning-a-view-versus-a-copy\n",
            "  cleaned_df1['Genre'] = cleaned_df1['Genre'].replace(9,'Instrumental')\n",
            "<ipython-input-38-207cab474e7a>:11: SettingWithCopyWarning: \n",
            "A value is trying to be set on a copy of a slice from a DataFrame.\n",
            "Try using .loc[row_indexer,col_indexer] = value instead\n",
            "\n",
            "See the caveats in the documentation: https://pandas.pydata.org/pandas-docs/stable/user_guide/indexing.html#returning-a-view-versus-a-copy\n",
            "  cleaned_df1['Genre'] = cleaned_df1['Genre'].replace(10,'Country')\n"
          ]
        },
        {
          "output_type": "execute_result",
          "data": {
            "text/plain": [
              "             Artist_Name                         Track_Name  Popularity  \\\n",
              "1                 Boston                       Hitch a Ride        54.0   \n",
              "2          The Raincoats                 No Side to Fall In        35.0   \n",
              "4  Red Hot Chili Peppers  Nobody Weird Like Me - Remastered        53.0   \n",
              "5            The Stooges  Search and Destroy - Iggy Pop Mix        53.0   \n",
              "6          Solomon Burke                None Of Us Are Free        48.0   \n",
              "\n",
              "   danceability  energy             key  loudness_in_(dB)   mode  speechiness  \\\n",
              "1         0.382   0.814  pitch D# or Eb            -7.230  Major       0.0406   \n",
              "2         0.434   0.614        F# or Gb            -8.334  Major       0.0525   \n",
              "4         0.167   0.975         pitch D            -4.279  Major       0.2160   \n",
              "5         0.235   0.977        F# or Gb             0.878  Major       0.1070   \n",
              "6         0.674   0.658         pitch F            -9.647  Minor       0.1040   \n",
              "\n",
              "   acousticness  instrumentalness  liveness  valence  tempo_(BPM)  \\\n",
              "1      0.001100          0.004010    0.1010   0.5690      116.454   \n",
              "2      0.486000          0.000196    0.3940   0.7870      147.681   \n",
              "4      0.000169          0.016100    0.1720   0.0918      199.060   \n",
              "5      0.003530          0.006040    0.1720   0.2410      152.952   \n",
              "6      0.404000          0.000001    0.0981   0.6770      143.292   \n",
              "\n",
              "   Duration_inMins  time_signature      Genre  \n",
              "1         4.195550               4    Country  \n",
              "2         1.827783               4  Alt_Music  \n",
              "4         3.832667               4    Country  \n",
              "5         3.468883               4  Alt_Music  \n",
              "6         5.489783               4        Alt  "
            ],
            "text/html": [
              "\n",
              "  <div id=\"df-87ed9a6a-628d-4e55-8b71-65734f384af5\">\n",
              "    <div class=\"colab-df-container\">\n",
              "      <div>\n",
              "<style scoped>\n",
              "    .dataframe tbody tr th:only-of-type {\n",
              "        vertical-align: middle;\n",
              "    }\n",
              "\n",
              "    .dataframe tbody tr th {\n",
              "        vertical-align: top;\n",
              "    }\n",
              "\n",
              "    .dataframe thead th {\n",
              "        text-align: right;\n",
              "    }\n",
              "</style>\n",
              "<table border=\"1\" class=\"dataframe\">\n",
              "  <thead>\n",
              "    <tr style=\"text-align: right;\">\n",
              "      <th></th>\n",
              "      <th>Artist_Name</th>\n",
              "      <th>Track_Name</th>\n",
              "      <th>Popularity</th>\n",
              "      <th>danceability</th>\n",
              "      <th>energy</th>\n",
              "      <th>key</th>\n",
              "      <th>loudness_in_(dB)</th>\n",
              "      <th>mode</th>\n",
              "      <th>speechiness</th>\n",
              "      <th>acousticness</th>\n",
              "      <th>instrumentalness</th>\n",
              "      <th>liveness</th>\n",
              "      <th>valence</th>\n",
              "      <th>tempo_(BPM)</th>\n",
              "      <th>Duration_inMins</th>\n",
              "      <th>time_signature</th>\n",
              "      <th>Genre</th>\n",
              "    </tr>\n",
              "  </thead>\n",
              "  <tbody>\n",
              "    <tr>\n",
              "      <th>1</th>\n",
              "      <td>Boston</td>\n",
              "      <td>Hitch a Ride</td>\n",
              "      <td>54.0</td>\n",
              "      <td>0.382</td>\n",
              "      <td>0.814</td>\n",
              "      <td>pitch D# or Eb</td>\n",
              "      <td>-7.230</td>\n",
              "      <td>Major</td>\n",
              "      <td>0.0406</td>\n",
              "      <td>0.001100</td>\n",
              "      <td>0.004010</td>\n",
              "      <td>0.1010</td>\n",
              "      <td>0.5690</td>\n",
              "      <td>116.454</td>\n",
              "      <td>4.195550</td>\n",
              "      <td>4</td>\n",
              "      <td>Country</td>\n",
              "    </tr>\n",
              "    <tr>\n",
              "      <th>2</th>\n",
              "      <td>The Raincoats</td>\n",
              "      <td>No Side to Fall In</td>\n",
              "      <td>35.0</td>\n",
              "      <td>0.434</td>\n",
              "      <td>0.614</td>\n",
              "      <td>F# or Gb</td>\n",
              "      <td>-8.334</td>\n",
              "      <td>Major</td>\n",
              "      <td>0.0525</td>\n",
              "      <td>0.486000</td>\n",
              "      <td>0.000196</td>\n",
              "      <td>0.3940</td>\n",
              "      <td>0.7870</td>\n",
              "      <td>147.681</td>\n",
              "      <td>1.827783</td>\n",
              "      <td>4</td>\n",
              "      <td>Alt_Music</td>\n",
              "    </tr>\n",
              "    <tr>\n",
              "      <th>4</th>\n",
              "      <td>Red Hot Chili Peppers</td>\n",
              "      <td>Nobody Weird Like Me - Remastered</td>\n",
              "      <td>53.0</td>\n",
              "      <td>0.167</td>\n",
              "      <td>0.975</td>\n",
              "      <td>pitch D</td>\n",
              "      <td>-4.279</td>\n",
              "      <td>Major</td>\n",
              "      <td>0.2160</td>\n",
              "      <td>0.000169</td>\n",
              "      <td>0.016100</td>\n",
              "      <td>0.1720</td>\n",
              "      <td>0.0918</td>\n",
              "      <td>199.060</td>\n",
              "      <td>3.832667</td>\n",
              "      <td>4</td>\n",
              "      <td>Country</td>\n",
              "    </tr>\n",
              "    <tr>\n",
              "      <th>5</th>\n",
              "      <td>The Stooges</td>\n",
              "      <td>Search and Destroy - Iggy Pop Mix</td>\n",
              "      <td>53.0</td>\n",
              "      <td>0.235</td>\n",
              "      <td>0.977</td>\n",
              "      <td>F# or Gb</td>\n",
              "      <td>0.878</td>\n",
              "      <td>Major</td>\n",
              "      <td>0.1070</td>\n",
              "      <td>0.003530</td>\n",
              "      <td>0.006040</td>\n",
              "      <td>0.1720</td>\n",
              "      <td>0.2410</td>\n",
              "      <td>152.952</td>\n",
              "      <td>3.468883</td>\n",
              "      <td>4</td>\n",
              "      <td>Alt_Music</td>\n",
              "    </tr>\n",
              "    <tr>\n",
              "      <th>6</th>\n",
              "      <td>Solomon Burke</td>\n",
              "      <td>None Of Us Are Free</td>\n",
              "      <td>48.0</td>\n",
              "      <td>0.674</td>\n",
              "      <td>0.658</td>\n",
              "      <td>pitch F</td>\n",
              "      <td>-9.647</td>\n",
              "      <td>Minor</td>\n",
              "      <td>0.1040</td>\n",
              "      <td>0.404000</td>\n",
              "      <td>0.000001</td>\n",
              "      <td>0.0981</td>\n",
              "      <td>0.6770</td>\n",
              "      <td>143.292</td>\n",
              "      <td>5.489783</td>\n",
              "      <td>4</td>\n",
              "      <td>Alt</td>\n",
              "    </tr>\n",
              "  </tbody>\n",
              "</table>\n",
              "</div>\n",
              "      <button class=\"colab-df-convert\" onclick=\"convertToInteractive('df-87ed9a6a-628d-4e55-8b71-65734f384af5')\"\n",
              "              title=\"Convert this dataframe to an interactive table.\"\n",
              "              style=\"display:none;\">\n",
              "        \n",
              "  <svg xmlns=\"http://www.w3.org/2000/svg\" height=\"24px\"viewBox=\"0 0 24 24\"\n",
              "       width=\"24px\">\n",
              "    <path d=\"M0 0h24v24H0V0z\" fill=\"none\"/>\n",
              "    <path d=\"M18.56 5.44l.94 2.06.94-2.06 2.06-.94-2.06-.94-.94-2.06-.94 2.06-2.06.94zm-11 1L8.5 8.5l.94-2.06 2.06-.94-2.06-.94L8.5 2.5l-.94 2.06-2.06.94zm10 10l.94 2.06.94-2.06 2.06-.94-2.06-.94-.94-2.06-.94 2.06-2.06.94z\"/><path d=\"M17.41 7.96l-1.37-1.37c-.4-.4-.92-.59-1.43-.59-.52 0-1.04.2-1.43.59L10.3 9.45l-7.72 7.72c-.78.78-.78 2.05 0 2.83L4 21.41c.39.39.9.59 1.41.59.51 0 1.02-.2 1.41-.59l7.78-7.78 2.81-2.81c.8-.78.8-2.07 0-2.86zM5.41 20L4 18.59l7.72-7.72 1.47 1.35L5.41 20z\"/>\n",
              "  </svg>\n",
              "      </button>\n",
              "      \n",
              "  <style>\n",
              "    .colab-df-container {\n",
              "      display:flex;\n",
              "      flex-wrap:wrap;\n",
              "      gap: 12px;\n",
              "    }\n",
              "\n",
              "    .colab-df-convert {\n",
              "      background-color: #E8F0FE;\n",
              "      border: none;\n",
              "      border-radius: 50%;\n",
              "      cursor: pointer;\n",
              "      display: none;\n",
              "      fill: #1967D2;\n",
              "      height: 32px;\n",
              "      padding: 0 0 0 0;\n",
              "      width: 32px;\n",
              "    }\n",
              "\n",
              "    .colab-df-convert:hover {\n",
              "      background-color: #E2EBFA;\n",
              "      box-shadow: 0px 1px 2px rgba(60, 64, 67, 0.3), 0px 1px 3px 1px rgba(60, 64, 67, 0.15);\n",
              "      fill: #174EA6;\n",
              "    }\n",
              "\n",
              "    [theme=dark] .colab-df-convert {\n",
              "      background-color: #3B4455;\n",
              "      fill: #D2E3FC;\n",
              "    }\n",
              "\n",
              "    [theme=dark] .colab-df-convert:hover {\n",
              "      background-color: #434B5C;\n",
              "      box-shadow: 0px 1px 3px 1px rgba(0, 0, 0, 0.15);\n",
              "      filter: drop-shadow(0px 1px 2px rgba(0, 0, 0, 0.3));\n",
              "      fill: #FFFFFF;\n",
              "    }\n",
              "  </style>\n",
              "\n",
              "      <script>\n",
              "        const buttonEl =\n",
              "          document.querySelector('#df-87ed9a6a-628d-4e55-8b71-65734f384af5 button.colab-df-convert');\n",
              "        buttonEl.style.display =\n",
              "          google.colab.kernel.accessAllowed ? 'block' : 'none';\n",
              "\n",
              "        async function convertToInteractive(key) {\n",
              "          const element = document.querySelector('#df-87ed9a6a-628d-4e55-8b71-65734f384af5');\n",
              "          const dataTable =\n",
              "            await google.colab.kernel.invokeFunction('convertToInteractive',\n",
              "                                                     [key], {});\n",
              "          if (!dataTable) return;\n",
              "\n",
              "          const docLinkHtml = 'Like what you see? Visit the ' +\n",
              "            '<a target=\"_blank\" href=https://colab.research.google.com/notebooks/data_table.ipynb>data table notebook</a>'\n",
              "            + ' to learn more about interactive tables.';\n",
              "          element.innerHTML = '';\n",
              "          dataTable['output_type'] = 'display_data';\n",
              "          await google.colab.output.renderOutput(dataTable, element);\n",
              "          const docLink = document.createElement('div');\n",
              "          docLink.innerHTML = docLinkHtml;\n",
              "          element.appendChild(docLink);\n",
              "        }\n",
              "      </script>\n",
              "    </div>\n",
              "  </div>\n",
              "  "
            ]
          },
          "metadata": {},
          "execution_count": 38
        }
      ],
      "source": [
        "cleaned_df1['Genre'] = cleaned_df1['Genre'].replace(0,'Rock')\n",
        "cleaned_df1['Genre'] = cleaned_df1['Genre'].replace(1,'Indie')\n",
        "cleaned_df1['Genre'] = cleaned_df1['Genre'].replace(2,'Alt')\n",
        "cleaned_df1['Genre'] = cleaned_df1['Genre'].replace(3,'Pop')\n",
        "cleaned_df1['Genre'] = cleaned_df1['Genre'].replace(4,'Metal')\n",
        "cleaned_df1['Genre'] = cleaned_df1['Genre'].replace(5,'HipHop')\n",
        "cleaned_df1['Genre'] = cleaned_df1['Genre'].replace(6,'Alt_Music')\n",
        "cleaned_df1['Genre'] = cleaned_df1['Genre'].replace(7,'Blues')\n",
        "cleaned_df1['Genre'] = cleaned_df1['Genre'].replace(8,'Acoustic/Folk')\n",
        "cleaned_df1['Genre'] = cleaned_df1['Genre'].replace(9,'Instrumental')\n",
        "cleaned_df1['Genre'] = cleaned_df1['Genre'].replace(10,'Country')\n",
        "cleaned_df1.head()"
      ]
    },
    {
      "cell_type": "markdown",
      "metadata": {
        "id": "Xkql6O6GpKW6"
      },
      "source": [
        "**------------------------------------------------------------------------------------------------------------------------------------------------------------------**"
      ]
    },
    {
      "cell_type": "markdown",
      "metadata": {
        "id": "19Cp7kyqx4av"
      },
      "source": [
        "**Time signature attribute:** Based on our researches, \n",
        "this column establishes the \"character\" of your rhythmic pattern.\n",
        "\n",
        "Think of time signature  as \"the # of beats in the pattern before it repeats\" . It's one of the three pieces that combines to create your unique rhythm \n",
        "\n",
        "We'll drop ( time signature ) column as its an useless column and because their values are actually kind of equivalent to the Genre column, meaning that, if we have a Genre of a song, we can determine the time signature of it based of the gategory of the song . \n",
        "\n",
        " To learn more about it , check the provided link: https://www.learneverythingabout.com/lyrics-songs/songwriting/time-signature-music.html \n",
        "\n",
        "The below cell of code shows the following: 👇🏻"
      ]
    },
    {
      "cell_type": "code",
      "execution_count": 39,
      "metadata": {
        "colab": {
          "base_uri": "https://localhost:8080/",
          "height": 550
        },
        "id": "tayCpql9yDys",
        "outputId": "6dbea1ca-f546-4de9-f41f-f1a63b6c6c9f"
      },
      "outputs": [
        {
          "output_type": "stream",
          "name": "stderr",
          "text": [
            "<ipython-input-39-b66424502126>:1: SettingWithCopyWarning: \n",
            "A value is trying to be set on a copy of a slice from a DataFrame\n",
            "\n",
            "See the caveats in the documentation: https://pandas.pydata.org/pandas-docs/stable/user_guide/indexing.html#returning-a-view-versus-a-copy\n",
            "  cleaned_df1.drop(columns = ['time_signature'], axis=1, inplace=True)\n"
          ]
        },
        {
          "output_type": "execute_result",
          "data": {
            "text/plain": [
              "             Artist_Name                         Track_Name  Popularity  \\\n",
              "1                 Boston                       Hitch a Ride        54.0   \n",
              "2          The Raincoats                 No Side to Fall In        35.0   \n",
              "4  Red Hot Chili Peppers  Nobody Weird Like Me - Remastered        53.0   \n",
              "5            The Stooges  Search and Destroy - Iggy Pop Mix        53.0   \n",
              "6          Solomon Burke                None Of Us Are Free        48.0   \n",
              "\n",
              "   danceability  energy             key  loudness_in_(dB)   mode  speechiness  \\\n",
              "1         0.382   0.814  pitch D# or Eb            -7.230  Major       0.0406   \n",
              "2         0.434   0.614        F# or Gb            -8.334  Major       0.0525   \n",
              "4         0.167   0.975         pitch D            -4.279  Major       0.2160   \n",
              "5         0.235   0.977        F# or Gb             0.878  Major       0.1070   \n",
              "6         0.674   0.658         pitch F            -9.647  Minor       0.1040   \n",
              "\n",
              "   acousticness  instrumentalness  liveness  valence  tempo_(BPM)  \\\n",
              "1      0.001100          0.004010    0.1010   0.5690      116.454   \n",
              "2      0.486000          0.000196    0.3940   0.7870      147.681   \n",
              "4      0.000169          0.016100    0.1720   0.0918      199.060   \n",
              "5      0.003530          0.006040    0.1720   0.2410      152.952   \n",
              "6      0.404000          0.000001    0.0981   0.6770      143.292   \n",
              "\n",
              "   Duration_inMins      Genre  \n",
              "1         4.195550    Country  \n",
              "2         1.827783  Alt_Music  \n",
              "4         3.832667    Country  \n",
              "5         3.468883  Alt_Music  \n",
              "6         5.489783        Alt  "
            ],
            "text/html": [
              "\n",
              "  <div id=\"df-b61b7bf9-5dea-47b1-aee4-c8325aeefb5a\">\n",
              "    <div class=\"colab-df-container\">\n",
              "      <div>\n",
              "<style scoped>\n",
              "    .dataframe tbody tr th:only-of-type {\n",
              "        vertical-align: middle;\n",
              "    }\n",
              "\n",
              "    .dataframe tbody tr th {\n",
              "        vertical-align: top;\n",
              "    }\n",
              "\n",
              "    .dataframe thead th {\n",
              "        text-align: right;\n",
              "    }\n",
              "</style>\n",
              "<table border=\"1\" class=\"dataframe\">\n",
              "  <thead>\n",
              "    <tr style=\"text-align: right;\">\n",
              "      <th></th>\n",
              "      <th>Artist_Name</th>\n",
              "      <th>Track_Name</th>\n",
              "      <th>Popularity</th>\n",
              "      <th>danceability</th>\n",
              "      <th>energy</th>\n",
              "      <th>key</th>\n",
              "      <th>loudness_in_(dB)</th>\n",
              "      <th>mode</th>\n",
              "      <th>speechiness</th>\n",
              "      <th>acousticness</th>\n",
              "      <th>instrumentalness</th>\n",
              "      <th>liveness</th>\n",
              "      <th>valence</th>\n",
              "      <th>tempo_(BPM)</th>\n",
              "      <th>Duration_inMins</th>\n",
              "      <th>Genre</th>\n",
              "    </tr>\n",
              "  </thead>\n",
              "  <tbody>\n",
              "    <tr>\n",
              "      <th>1</th>\n",
              "      <td>Boston</td>\n",
              "      <td>Hitch a Ride</td>\n",
              "      <td>54.0</td>\n",
              "      <td>0.382</td>\n",
              "      <td>0.814</td>\n",
              "      <td>pitch D# or Eb</td>\n",
              "      <td>-7.230</td>\n",
              "      <td>Major</td>\n",
              "      <td>0.0406</td>\n",
              "      <td>0.001100</td>\n",
              "      <td>0.004010</td>\n",
              "      <td>0.1010</td>\n",
              "      <td>0.5690</td>\n",
              "      <td>116.454</td>\n",
              "      <td>4.195550</td>\n",
              "      <td>Country</td>\n",
              "    </tr>\n",
              "    <tr>\n",
              "      <th>2</th>\n",
              "      <td>The Raincoats</td>\n",
              "      <td>No Side to Fall In</td>\n",
              "      <td>35.0</td>\n",
              "      <td>0.434</td>\n",
              "      <td>0.614</td>\n",
              "      <td>F# or Gb</td>\n",
              "      <td>-8.334</td>\n",
              "      <td>Major</td>\n",
              "      <td>0.0525</td>\n",
              "      <td>0.486000</td>\n",
              "      <td>0.000196</td>\n",
              "      <td>0.3940</td>\n",
              "      <td>0.7870</td>\n",
              "      <td>147.681</td>\n",
              "      <td>1.827783</td>\n",
              "      <td>Alt_Music</td>\n",
              "    </tr>\n",
              "    <tr>\n",
              "      <th>4</th>\n",
              "      <td>Red Hot Chili Peppers</td>\n",
              "      <td>Nobody Weird Like Me - Remastered</td>\n",
              "      <td>53.0</td>\n",
              "      <td>0.167</td>\n",
              "      <td>0.975</td>\n",
              "      <td>pitch D</td>\n",
              "      <td>-4.279</td>\n",
              "      <td>Major</td>\n",
              "      <td>0.2160</td>\n",
              "      <td>0.000169</td>\n",
              "      <td>0.016100</td>\n",
              "      <td>0.1720</td>\n",
              "      <td>0.0918</td>\n",
              "      <td>199.060</td>\n",
              "      <td>3.832667</td>\n",
              "      <td>Country</td>\n",
              "    </tr>\n",
              "    <tr>\n",
              "      <th>5</th>\n",
              "      <td>The Stooges</td>\n",
              "      <td>Search and Destroy - Iggy Pop Mix</td>\n",
              "      <td>53.0</td>\n",
              "      <td>0.235</td>\n",
              "      <td>0.977</td>\n",
              "      <td>F# or Gb</td>\n",
              "      <td>0.878</td>\n",
              "      <td>Major</td>\n",
              "      <td>0.1070</td>\n",
              "      <td>0.003530</td>\n",
              "      <td>0.006040</td>\n",
              "      <td>0.1720</td>\n",
              "      <td>0.2410</td>\n",
              "      <td>152.952</td>\n",
              "      <td>3.468883</td>\n",
              "      <td>Alt_Music</td>\n",
              "    </tr>\n",
              "    <tr>\n",
              "      <th>6</th>\n",
              "      <td>Solomon Burke</td>\n",
              "      <td>None Of Us Are Free</td>\n",
              "      <td>48.0</td>\n",
              "      <td>0.674</td>\n",
              "      <td>0.658</td>\n",
              "      <td>pitch F</td>\n",
              "      <td>-9.647</td>\n",
              "      <td>Minor</td>\n",
              "      <td>0.1040</td>\n",
              "      <td>0.404000</td>\n",
              "      <td>0.000001</td>\n",
              "      <td>0.0981</td>\n",
              "      <td>0.6770</td>\n",
              "      <td>143.292</td>\n",
              "      <td>5.489783</td>\n",
              "      <td>Alt</td>\n",
              "    </tr>\n",
              "  </tbody>\n",
              "</table>\n",
              "</div>\n",
              "      <button class=\"colab-df-convert\" onclick=\"convertToInteractive('df-b61b7bf9-5dea-47b1-aee4-c8325aeefb5a')\"\n",
              "              title=\"Convert this dataframe to an interactive table.\"\n",
              "              style=\"display:none;\">\n",
              "        \n",
              "  <svg xmlns=\"http://www.w3.org/2000/svg\" height=\"24px\"viewBox=\"0 0 24 24\"\n",
              "       width=\"24px\">\n",
              "    <path d=\"M0 0h24v24H0V0z\" fill=\"none\"/>\n",
              "    <path d=\"M18.56 5.44l.94 2.06.94-2.06 2.06-.94-2.06-.94-.94-2.06-.94 2.06-2.06.94zm-11 1L8.5 8.5l.94-2.06 2.06-.94-2.06-.94L8.5 2.5l-.94 2.06-2.06.94zm10 10l.94 2.06.94-2.06 2.06-.94-2.06-.94-.94-2.06-.94 2.06-2.06.94z\"/><path d=\"M17.41 7.96l-1.37-1.37c-.4-.4-.92-.59-1.43-.59-.52 0-1.04.2-1.43.59L10.3 9.45l-7.72 7.72c-.78.78-.78 2.05 0 2.83L4 21.41c.39.39.9.59 1.41.59.51 0 1.02-.2 1.41-.59l7.78-7.78 2.81-2.81c.8-.78.8-2.07 0-2.86zM5.41 20L4 18.59l7.72-7.72 1.47 1.35L5.41 20z\"/>\n",
              "  </svg>\n",
              "      </button>\n",
              "      \n",
              "  <style>\n",
              "    .colab-df-container {\n",
              "      display:flex;\n",
              "      flex-wrap:wrap;\n",
              "      gap: 12px;\n",
              "    }\n",
              "\n",
              "    .colab-df-convert {\n",
              "      background-color: #E8F0FE;\n",
              "      border: none;\n",
              "      border-radius: 50%;\n",
              "      cursor: pointer;\n",
              "      display: none;\n",
              "      fill: #1967D2;\n",
              "      height: 32px;\n",
              "      padding: 0 0 0 0;\n",
              "      width: 32px;\n",
              "    }\n",
              "\n",
              "    .colab-df-convert:hover {\n",
              "      background-color: #E2EBFA;\n",
              "      box-shadow: 0px 1px 2px rgba(60, 64, 67, 0.3), 0px 1px 3px 1px rgba(60, 64, 67, 0.15);\n",
              "      fill: #174EA6;\n",
              "    }\n",
              "\n",
              "    [theme=dark] .colab-df-convert {\n",
              "      background-color: #3B4455;\n",
              "      fill: #D2E3FC;\n",
              "    }\n",
              "\n",
              "    [theme=dark] .colab-df-convert:hover {\n",
              "      background-color: #434B5C;\n",
              "      box-shadow: 0px 1px 3px 1px rgba(0, 0, 0, 0.15);\n",
              "      filter: drop-shadow(0px 1px 2px rgba(0, 0, 0, 0.3));\n",
              "      fill: #FFFFFF;\n",
              "    }\n",
              "  </style>\n",
              "\n",
              "      <script>\n",
              "        const buttonEl =\n",
              "          document.querySelector('#df-b61b7bf9-5dea-47b1-aee4-c8325aeefb5a button.colab-df-convert');\n",
              "        buttonEl.style.display =\n",
              "          google.colab.kernel.accessAllowed ? 'block' : 'none';\n",
              "\n",
              "        async function convertToInteractive(key) {\n",
              "          const element = document.querySelector('#df-b61b7bf9-5dea-47b1-aee4-c8325aeefb5a');\n",
              "          const dataTable =\n",
              "            await google.colab.kernel.invokeFunction('convertToInteractive',\n",
              "                                                     [key], {});\n",
              "          if (!dataTable) return;\n",
              "\n",
              "          const docLinkHtml = 'Like what you see? Visit the ' +\n",
              "            '<a target=\"_blank\" href=https://colab.research.google.com/notebooks/data_table.ipynb>data table notebook</a>'\n",
              "            + ' to learn more about interactive tables.';\n",
              "          element.innerHTML = '';\n",
              "          dataTable['output_type'] = 'display_data';\n",
              "          await google.colab.output.renderOutput(dataTable, element);\n",
              "          const docLink = document.createElement('div');\n",
              "          docLink.innerHTML = docLinkHtml;\n",
              "          element.appendChild(docLink);\n",
              "        }\n",
              "      </script>\n",
              "    </div>\n",
              "  </div>\n",
              "  "
            ]
          },
          "metadata": {},
          "execution_count": 39
        }
      ],
      "source": [
        "cleaned_df1.drop(columns = ['time_signature'], axis=1, inplace=True)\n",
        "cleaned_df1.head()"
      ]
    },
    {
      "cell_type": "markdown",
      "metadata": {
        "id": "vkmul9mryWL_"
      },
      "source": [
        "**------------------------------------------------------------------------------------------------------------------------------------------------------------------**"
      ]
    },
    {
      "cell_type": "markdown",
      "metadata": {
        "id": "gDH0KWQa1oTN"
      },
      "source": [
        "Now, after we explored and cleaned our dataset w ba2et ready for applying the tasks on it , we'll export it fi our pc in order to import it directly to apply on it the spark SQL part ( that will be in the other notebook (SparkSQL Spotify)"
      ]
    },
    {
      "cell_type": "code",
      "execution_count": 40,
      "metadata": {
        "id": "Y0rCJGby2OsX"
      },
      "outputs": [],
      "source": [
        "# saving the data after cleaning it \n",
        "cleaned_df1.to_csv('cleaned_music.csv', index=False)"
      ]
    },
    {
      "cell_type": "code",
      "execution_count": null,
      "metadata": {
        "colab": {
          "base_uri": "https://localhost:8080/",
          "height": 17
        },
        "id": "93_RAm582bWy",
        "outputId": "3398361c-f6b6-47f2-b0ca-2e00ed8a3150"
      },
      "outputs": [
        {
          "output_type": "display_data",
          "data": {
            "text/plain": [
              "<IPython.core.display.Javascript object>"
            ],
            "application/javascript": [
              "\n",
              "    async function download(id, filename, size) {\n",
              "      if (!google.colab.kernel.accessAllowed) {\n",
              "        return;\n",
              "      }\n",
              "      const div = document.createElement('div');\n",
              "      const label = document.createElement('label');\n",
              "      label.textContent = `Downloading \"${filename}\": `;\n",
              "      div.appendChild(label);\n",
              "      const progress = document.createElement('progress');\n",
              "      progress.max = size;\n",
              "      div.appendChild(progress);\n",
              "      document.body.appendChild(div);\n",
              "\n",
              "      const buffers = [];\n",
              "      let downloaded = 0;\n",
              "\n",
              "      const channel = await google.colab.kernel.comms.open(id);\n",
              "      // Send a message to notify the kernel that we're ready.\n",
              "      channel.send({})\n",
              "\n",
              "      for await (const message of channel.messages) {\n",
              "        // Send a message to notify the kernel that we're ready.\n",
              "        channel.send({})\n",
              "        if (message.buffers) {\n",
              "          for (const buffer of message.buffers) {\n",
              "            buffers.push(buffer);\n",
              "            downloaded += buffer.byteLength;\n",
              "            progress.value = downloaded;\n",
              "          }\n",
              "        }\n",
              "      }\n",
              "      const blob = new Blob(buffers, {type: 'application/binary'});\n",
              "      const a = document.createElement('a');\n",
              "      a.href = window.URL.createObjectURL(blob);\n",
              "      a.download = filename;\n",
              "      div.appendChild(a);\n",
              "      a.click();\n",
              "      div.remove();\n",
              "    }\n",
              "  "
            ]
          },
          "metadata": {}
        },
        {
          "output_type": "display_data",
          "data": {
            "text/plain": [
              "<IPython.core.display.Javascript object>"
            ],
            "application/javascript": [
              "download(\"download_91f3468e-3984-44cb-882b-8d2c37970eda\", \"cleaned_music.csv\", 1389686)"
            ]
          },
          "metadata": {}
        }
      ],
      "source": [
        "# downloading the data to our pc\n",
        "from google.colab import files\n",
        "\n",
        "files.download('cleaned_music.csv')\n"
      ]
    },
    {
      "cell_type": "markdown",
      "metadata": {
        "id": "mIgCdT95twGn"
      },
      "source": [
        "After we explored and cleaned our dataset using pandas, we'll create a new dataframe using spark that contains the cleaned_df1"
      ]
    },
    {
      "cell_type": "markdown",
      "metadata": {
        "id": "rADEWiEq2lyJ"
      },
      "source": [
        "We'll create a spark dataframe using the prepared data that we did "
      ]
    },
    {
      "cell_type": "code",
      "execution_count": 41,
      "metadata": {
        "id": "M_LGTx0jtBdc"
      },
      "outputs": [],
      "source": [
        "spark_df1 = spark.createDataFrame(cleaned_df1)"
      ]
    },
    {
      "cell_type": "code",
      "execution_count": 42,
      "metadata": {
        "colab": {
          "base_uri": "https://localhost:8080/"
        },
        "id": "nxIup2UbtPYm",
        "outputId": "d73e7ec9-d8bb-4f9d-d1e6-43d145f9acfc"
      },
      "outputs": [
        {
          "output_type": "stream",
          "name": "stdout",
          "text": [
            "root\n",
            " |-- Artist_Name: string (nullable = true)\n",
            " |-- Track_Name: string (nullable = true)\n",
            " |-- Popularity: double (nullable = true)\n",
            " |-- danceability: double (nullable = true)\n",
            " |-- energy: double (nullable = true)\n",
            " |-- key: string (nullable = true)\n",
            " |-- loudness_in_(dB): double (nullable = true)\n",
            " |-- mode: string (nullable = true)\n",
            " |-- speechiness: double (nullable = true)\n",
            " |-- acousticness: double (nullable = true)\n",
            " |-- instrumentalness: double (nullable = true)\n",
            " |-- liveness: double (nullable = true)\n",
            " |-- valence: double (nullable = true)\n",
            " |-- tempo_(BPM): double (nullable = true)\n",
            " |-- Duration_inMins: double (nullable = true)\n",
            " |-- Genre: string (nullable = true)\n",
            "\n"
          ]
        }
      ],
      "source": [
        "spark_df1.printSchema()"
      ]
    },
    {
      "cell_type": "code",
      "execution_count": 43,
      "metadata": {
        "colab": {
          "base_uri": "https://localhost:8080/"
        },
        "id": "rmPznZSU23Pl",
        "outputId": "aed975d7-0071-4401-b1fb-a0c867e06c67"
      },
      "outputs": [
        {
          "output_type": "stream",
          "name": "stdout",
          "text": [
            "+--------------------+--------------------+----------+------------+------+--------------+----------------+-----+-----------+------------+----------------+--------+-------+-----------+------------------+-------------+\n",
            "|         Artist_Name|          Track_Name|Popularity|danceability|energy|           key|loudness_in_(dB)| mode|speechiness|acousticness|instrumentalness|liveness|valence|tempo_(BPM)|   Duration_inMins|        Genre|\n",
            "+--------------------+--------------------+----------+------------+------+--------------+----------------+-----+-----------+------------+----------------+--------+-------+-----------+------------------+-------------+\n",
            "|              Boston|        Hitch a Ride|      54.0|       0.382| 0.814|pitch D# or Eb|           -7.23|Major|     0.0406|      0.0011|         0.00401|   0.101|  0.569|    116.454|           4.19555|      Country|\n",
            "|       The Raincoats|  No Side to Fall In|      35.0|       0.434| 0.614|      F# or Gb|          -8.334|Major|     0.0525|       0.486|         1.96E-4|   0.394|  0.787|    147.681|1.8277833333333333|    Alt_Music|\n",
            "|Red Hot Chili Pep...|Nobody Weird Like...|      53.0|       0.167| 0.975|       pitch D|          -4.279|Major|      0.216|     1.69E-4|          0.0161|   0.172| 0.0918|     199.06| 3.832666666666667|      Country|\n",
            "|         The Stooges|Search and Destro...|      53.0|       0.235| 0.977|      F# or Gb|           0.878|Major|      0.107|     0.00353|         0.00604|   0.172|  0.241|    152.952|3.4688833333333333|    Alt_Music|\n",
            "|       Solomon Burke| None Of Us Are Free|      48.0|       0.674| 0.658|       pitch F|          -9.647|Minor|      0.104|       0.404|         1.34E-6|  0.0981|  0.677|    143.292|5.4897833333333335|          Alt|\n",
            "|        Randy Travis|   On the Other Hand|      55.0|       0.657| 0.415|       pitch F|          -9.915|Major|      0.025|       0.175|         5.65E-6|   0.132|  0.347|      96.03|       3.105783333|        Metal|\n",
            "|Professional Murd...|                Slow|      29.0|       0.431| 0.776|pitch A# or Bb|          -5.403|Major|     0.0527|     2.21E-5|          0.0013|   0.179|  0.318|    120.857|           3.96445|Acoustic/Folk|\n",
            "|       Mohammed Rafi|Meri Dosti Mera Pyar|      11.0|       0.491| 0.563|       pitch G|          -8.588|Minor|     0.0331|       0.957|          0.0023|   0.263|  0.843|     95.558|           4.33045|          Pop|\n",
            "|Harald Lassen, Br...|  How it feels pt. 2|      34.0|       0.462| 0.374|       pitch B|         -12.069|Minor|     0.0331|       0.949|           0.929|   0.131|  0.174|    122.939|           4.44025|        Blues|\n",
            "| Buffalo Springfield| For What It's Worth|      76.0|       0.653| 0.519|       pitch D|         -10.164|Major|     0.0497|       0.406|          0.0209|   0.101|  0.822|     98.883|           2.56155|      Country|\n",
            "|        Elmore James|       Madison Blues|      37.0|       0.431| 0.852|       pitch D|          -6.522|Major|     0.0431|       0.564|           0.208|   0.254|  0.794|     67.601|2.4466666666666668|          Alt|\n",
            "|  Velvet Two Stripes|              Drinks|      31.0|       0.564| 0.801|pitch C# or Db|           -4.73|Minor|     0.0473|     0.00233|          0.0078|   0.067|  0.401|     105.01|           2.57155|      Country|\n",
            "|           Mura Masa|Teenage Headache ...|      48.0|       0.347| 0.411|      F# or Gb|          -8.071|Major|     0.0414|      0.0181|           0.636|  0.0975|  0.395|    171.991|4.7168833333333335|    Alt_Music|\n",
            "|Clairmont The Second|         intres-ting|      44.0|       0.796| 0.441|       pitch G|           -9.83|Major|      0.292|        0.16|         2.89E-5|   0.118|  0.371|    158.105|2.2978666666666667|        Indie|\n",
            "|           Krankhead|          Cut Throat|      29.0|       0.805| 0.448|       pitch G|          -9.452|Major|      0.112|      0.0602|         1.79E-6|   0.113|  0.775|    160.018|               2.3|       HipHop|\n",
            "|     The Stone Roses|       Driving South|      44.0|       0.472| 0.947|       pitch A|          -6.128|Major|     0.0774|     9.43E-6|          0.0155|   0.364|   0.75|     98.784|           5.16445|      Country|\n",
            "|           MC Hammer|  U Can't Touch This|      73.0|       0.867| 0.517|       pitch B|         -13.222|Minor|     0.0875|     0.00456|         3.39E-4|  0.0864|  0.866|    133.148| 4.289333333333333| Instrumental|\n",
            "|            duendita|           Open Eyes|      35.0|       0.341|  0.47|       pitch F|         -10.144|Major|      0.037|       0.226|           0.105|   0.518|  0.203|    144.109|3.4046666666666665|        Indie|\n",
            "|             Rainbow| Since You Been Gone|      66.0|       0.733| 0.726|       pitch G|          -6.514|Major|     0.0371|       0.379|         2.58E-6|   0.471|  0.915|    120.814|             3.286|Acoustic/Folk|\n",
            "|            fijitrip|Private Social Ne...|      30.0|       0.696| 0.661|      F# or Gb|          -5.996|Major|     0.0877|     0.00103|         3.21E-5|   0.114|  0.397|    121.032|            3.0137|    Alt_Music|\n",
            "+--------------------+--------------------+----------+------------+------+--------------+----------------+-----+-----------+------------+----------------+--------+-------+-----------+------------------+-------------+\n",
            "only showing top 20 rows\n",
            "\n"
          ]
        }
      ],
      "source": [
        "spark_df1.show()"
      ]
    },
    {
      "cell_type": "markdown",
      "metadata": {
        "id": "nsOE8Q0CuHVD"
      },
      "source": [
        "**b) Remove any songs that exceed 5 minutes**"
      ]
    },
    {
      "cell_type": "markdown",
      "metadata": {
        "id": "GtdUXvtWWyzF"
      },
      "source": [
        "In this part, we can consider it as its a data cleaning part and it could be done using pandas by applying the following code :\n",
        "\n",
        " cleaned_df1 = cleaned_df1[cleaned_df1['duration_in min/ms'] <= 5]\n",
        "\n",
        "and then after doing that, we can save our dataframe as a new csv file and apply the rest of the tasks. \n",
        "\n",
        "However, we'll use spark as the idea of the assignment is to use spark in order to apply the methods within spark on the required tasks , to do so we'll apply following: "
      ]
    },
    {
      "cell_type": "code",
      "execution_count": 44,
      "metadata": {
        "id": "xGAsgD9NtT2J"
      },
      "outputs": [],
      "source": [
        "spark_df1 = spark_df1.filter((spark_df1.Duration_inMins <= 5))"
      ]
    },
    {
      "cell_type": "code",
      "execution_count": 45,
      "metadata": {
        "colab": {
          "base_uri": "https://localhost:8080/"
        },
        "id": "q5mlXOdLtoua",
        "outputId": "71499f1e-1671-4c26-ea9b-bc3244fdeacc"
      },
      "outputs": [
        {
          "output_type": "stream",
          "name": "stdout",
          "text": [
            "+--------------------+--------------------+----------+------------+------+--------------+----------------+-----+-----------+------------+----------------+--------+-------+-----------+------------------+-------------+\n",
            "|         Artist_Name|          Track_Name|Popularity|danceability|energy|           key|loudness_in_(dB)| mode|speechiness|acousticness|instrumentalness|liveness|valence|tempo_(BPM)|   Duration_inMins|        Genre|\n",
            "+--------------------+--------------------+----------+------------+------+--------------+----------------+-----+-----------+------------+----------------+--------+-------+-----------+------------------+-------------+\n",
            "|              Boston|        Hitch a Ride|      54.0|       0.382| 0.814|pitch D# or Eb|           -7.23|Major|     0.0406|      0.0011|         0.00401|   0.101|  0.569|    116.454|           4.19555|      Country|\n",
            "|       The Raincoats|  No Side to Fall In|      35.0|       0.434| 0.614|      F# or Gb|          -8.334|Major|     0.0525|       0.486|         1.96E-4|   0.394|  0.787|    147.681|1.8277833333333333|    Alt_Music|\n",
            "|Red Hot Chili Pep...|Nobody Weird Like...|      53.0|       0.167| 0.975|       pitch D|          -4.279|Major|      0.216|     1.69E-4|          0.0161|   0.172| 0.0918|     199.06| 3.832666666666667|      Country|\n",
            "|         The Stooges|Search and Destro...|      53.0|       0.235| 0.977|      F# or Gb|           0.878|Major|      0.107|     0.00353|         0.00604|   0.172|  0.241|    152.952|3.4688833333333333|    Alt_Music|\n",
            "|        Randy Travis|   On the Other Hand|      55.0|       0.657| 0.415|       pitch F|          -9.915|Major|      0.025|       0.175|         5.65E-6|   0.132|  0.347|      96.03|       3.105783333|        Metal|\n",
            "|Professional Murd...|                Slow|      29.0|       0.431| 0.776|pitch A# or Bb|          -5.403|Major|     0.0527|     2.21E-5|          0.0013|   0.179|  0.318|    120.857|           3.96445|Acoustic/Folk|\n",
            "|       Mohammed Rafi|Meri Dosti Mera Pyar|      11.0|       0.491| 0.563|       pitch G|          -8.588|Minor|     0.0331|       0.957|          0.0023|   0.263|  0.843|     95.558|           4.33045|          Pop|\n",
            "|Harald Lassen, Br...|  How it feels pt. 2|      34.0|       0.462| 0.374|       pitch B|         -12.069|Minor|     0.0331|       0.949|           0.929|   0.131|  0.174|    122.939|           4.44025|        Blues|\n",
            "| Buffalo Springfield| For What It's Worth|      76.0|       0.653| 0.519|       pitch D|         -10.164|Major|     0.0497|       0.406|          0.0209|   0.101|  0.822|     98.883|           2.56155|      Country|\n",
            "|        Elmore James|       Madison Blues|      37.0|       0.431| 0.852|       pitch D|          -6.522|Major|     0.0431|       0.564|           0.208|   0.254|  0.794|     67.601|2.4466666666666668|          Alt|\n",
            "|  Velvet Two Stripes|              Drinks|      31.0|       0.564| 0.801|pitch C# or Db|           -4.73|Minor|     0.0473|     0.00233|          0.0078|   0.067|  0.401|     105.01|           2.57155|      Country|\n",
            "|           Mura Masa|Teenage Headache ...|      48.0|       0.347| 0.411|      F# or Gb|          -8.071|Major|     0.0414|      0.0181|           0.636|  0.0975|  0.395|    171.991|4.7168833333333335|    Alt_Music|\n",
            "|Clairmont The Second|         intres-ting|      44.0|       0.796| 0.441|       pitch G|           -9.83|Major|      0.292|        0.16|         2.89E-5|   0.118|  0.371|    158.105|2.2978666666666667|        Indie|\n",
            "|           Krankhead|          Cut Throat|      29.0|       0.805| 0.448|       pitch G|          -9.452|Major|      0.112|      0.0602|         1.79E-6|   0.113|  0.775|    160.018|               2.3|       HipHop|\n",
            "|           MC Hammer|  U Can't Touch This|      73.0|       0.867| 0.517|       pitch B|         -13.222|Minor|     0.0875|     0.00456|         3.39E-4|  0.0864|  0.866|    133.148| 4.289333333333333| Instrumental|\n",
            "|            duendita|           Open Eyes|      35.0|       0.341|  0.47|       pitch F|         -10.144|Major|      0.037|       0.226|           0.105|   0.518|  0.203|    144.109|3.4046666666666665|        Indie|\n",
            "|             Rainbow| Since You Been Gone|      66.0|       0.733| 0.726|       pitch G|          -6.514|Major|     0.0371|       0.379|         2.58E-6|   0.471|  0.915|    120.814|             3.286|Acoustic/Folk|\n",
            "|            fijitrip|Private Social Ne...|      30.0|       0.696| 0.661|      F# or Gb|          -5.996|Major|     0.0877|     0.00103|         3.21E-5|   0.114|  0.397|    121.032|            3.0137|    Alt_Music|\n",
            "|            Tetrarch|      Negative Noise|      49.0|       0.384| 0.974|pitch C# or Db|          -3.647|Minor|      0.141|     1.53E-4|         2.47E-4|   0.226|  0.155|    194.842| 4.122833333333333|Acoustic/Folk|\n",
            "|Brandon Jack & Th...|           four days|      29.0|       0.516| 0.948|       pitch D|          -3.994|Major|     0.0644|      0.0279|          0.0564|    0.15|  0.957|    170.087|           2.17215|        Indie|\n",
            "+--------------------+--------------------+----------+------------+------+--------------+----------------+-----+-----------+------------+----------------+--------+-------+-----------+------------------+-------------+\n",
            "only showing top 20 rows\n",
            "\n"
          ]
        }
      ],
      "source": [
        "spark_df1.show()"
      ]
    },
    {
      "cell_type": "markdown",
      "metadata": {
        "id": "V8rVaqqlYzkB"
      },
      "source": [
        "👆🏻 **Part B** shows that when we used the funtion filter which we use it when we want e.g (Removing, displaying, etc .. ). fa As shown above, the whole row were removed from the dataset and then we saved the dataset by initializing it to itself so we don't lose any changes that we made ."
      ]
    },
    {
      "cell_type": "markdown",
      "metadata": {
        "id": "lD1sxdJ543RJ"
      },
      "source": [
        "**c) Display songs by J. Cole, Novo Amor and Anson Seabra**\n",
        "\n",
        "\n",
        "\n"
      ]
    },
    {
      "cell_type": "markdown",
      "metadata": {
        "id": "7SfGngmihca3"
      },
      "source": [
        "**To do that,** we have 2 options to display the result, either by diplaying it cell by cell, meaning that, kol artist name in a single cell, or displaying themm all together using OR function to display all the possible songs.  "
      ]
    },
    {
      "cell_type": "markdown",
      "metadata": {
        "id": "K8NwmSLCiNZW"
      },
      "source": [
        "We'll also use the filter function to display songs by initializing the artist name to the required one "
      ]
    },
    {
      "cell_type": "markdown",
      "metadata": {
        "id": "6zBBuHKdih4e"
      },
      "source": [
        "*Option 1 👇🏻*"
      ]
    },
    {
      "cell_type": "code",
      "execution_count": 46,
      "metadata": {
        "colab": {
          "base_uri": "https://localhost:8080/"
        },
        "id": "Hu8Zq4WfXQyr",
        "outputId": "76893b56-cf40-4471-83e0-5dce3cede09f"
      },
      "outputs": [
        {
          "output_type": "stream",
          "name": "stdout",
          "text": [
            "+-----------+----------+----------+------------+------+---+----------------+----+-----------+------------+----------------+--------+-------+-----------+---------------+-----+\n",
            "|Artist_Name|Track_Name|Popularity|danceability|energy|key|loudness_in_(dB)|mode|speechiness|acousticness|instrumentalness|liveness|valence|tempo_(BPM)|Duration_inMins|Genre|\n",
            "+-----------+----------+----------+------------+------+---+----------------+----+-----------+------------+----------------+--------+-------+-----------+---------------+-----+\n",
            "+-----------+----------+----------+------------+------+---+----------------+----+-----------+------------+----------------+--------+-------+-----------+---------------+-----+\n",
            "\n"
          ]
        }
      ],
      "source": [
        "spark_df1.filter(spark_df1['Artist_Name'] == 'J. Cole').show()"
      ]
    },
    {
      "cell_type": "markdown",
      "metadata": {
        "id": "yYgL8EPoiplC"
      },
      "source": [
        "👆🏻👆🏻👆🏻 We can notice that there's no data regarding the artist \"J. Cole\" because his song has exceeded the 5 min ( it was 196946 ms = 32.8243333 min ) fa that's why we cannot see any informations regarding this artist as he was being removed from our dataset  "
      ]
    },
    {
      "cell_type": "code",
      "execution_count": 47,
      "metadata": {
        "colab": {
          "base_uri": "https://localhost:8080/"
        },
        "id": "vozF6l5BXE5a",
        "outputId": "f9bb1404-1487-4340-dc2d-35c5d4b6f648"
      },
      "outputs": [
        {
          "output_type": "stream",
          "name": "stdout",
          "text": [
            "+-----------+----------+----------+------------+------+--------------+----------------+-----+-----------+------------+----------------+--------+-------+-----------+---------------+---------+\n",
            "|Artist_Name|Track_Name|Popularity|danceability|energy|           key|loudness_in_(dB)| mode|speechiness|acousticness|instrumentalness|liveness|valence|tempo_(BPM)|Duration_inMins|    Genre|\n",
            "+-----------+----------+----------+------------+------+--------------+----------------+-----+-----------+------------+----------------+--------+-------+-----------+---------------+---------+\n",
            "|  Novo Amor|  Birdcage|      54.0|       0.574| 0.407|pitch C# or Db|          -8.321|Major|     0.0243|       0.902|           0.637|  0.0927|  0.223|     82.047|        3.37045|Alt_Music|\n",
            "+-----------+----------+----------+------------+------+--------------+----------------+-----+-----------+------------+----------------+--------+-------+-----------+---------------+---------+\n",
            "\n"
          ]
        }
      ],
      "source": [
        "spark_df1.filter(spark_df1['Artist_Name'] == 'Novo Amor').show()"
      ]
    },
    {
      "cell_type": "code",
      "execution_count": 48,
      "metadata": {
        "colab": {
          "base_uri": "https://localhost:8080/"
        },
        "id": "R9Vg4F2AXhK2",
        "outputId": "4018b5cb-2d20-4b76-9872-57c89a21690a"
      },
      "outputs": [
        {
          "output_type": "stream",
          "name": "stdout",
          "text": [
            "+------------+--------------------+----------+------------+------+-------+----------------+-----+-----------+------------+----------------+--------+-------+-----------+---------------+------------+\n",
            "| Artist_Name|          Track_Name|Popularity|danceability|energy|    key|loudness_in_(dB)| mode|speechiness|acousticness|instrumentalness|liveness|valence|tempo_(BPM)|Duration_inMins|       Genre|\n",
            "+------------+--------------------+----------+------------+------+-------+----------------+-----+-----------+------------+----------------+--------+-------+-----------+---------------+------------+\n",
            "|Anson Seabra|It's Raining, It'...|      70.0|       0.598| 0.444|pitch D|          -8.683|Minor|     0.0327|        0.68|         1.94E-5|   0.142|  0.286|    113.919|         3.0515|Instrumental|\n",
            "+------------+--------------------+----------+------------+------+-------+----------------+-----+-----------+------------+----------------+--------+-------+-----------+---------------+------------+\n",
            "\n"
          ]
        }
      ],
      "source": [
        "spark_df1.filter(spark_df1['Artist_Name'] == 'Anson Seabra').show()"
      ]
    },
    {
      "cell_type": "markdown",
      "metadata": {
        "id": "v32efAwAXn_r"
      },
      "source": [
        "*Option 2 👇🏻*"
      ]
    },
    {
      "cell_type": "code",
      "execution_count": 49,
      "metadata": {
        "colab": {
          "base_uri": "https://localhost:8080/"
        },
        "id": "lr_d-mKP53jE",
        "outputId": "502cbbf7-ba09-4c8b-bd35-63cebba38428"
      },
      "outputs": [
        {
          "output_type": "stream",
          "name": "stdout",
          "text": [
            "+------------+--------------------+----------+------------+------+--------------+----------------+-----+-----------+------------+----------------+--------+-------+-----------+---------------+------------+\n",
            "| Artist_Name|          Track_Name|Popularity|danceability|energy|           key|loudness_in_(dB)| mode|speechiness|acousticness|instrumentalness|liveness|valence|tempo_(BPM)|Duration_inMins|       Genre|\n",
            "+------------+--------------------+----------+------------+------+--------------+----------------+-----+-----------+------------+----------------+--------+-------+-----------+---------------+------------+\n",
            "|   Novo Amor|            Birdcage|      54.0|       0.574| 0.407|pitch C# or Db|          -8.321|Major|     0.0243|       0.902|           0.637|  0.0927|  0.223|     82.047|        3.37045|   Alt_Music|\n",
            "|Anson Seabra|It's Raining, It'...|      70.0|       0.598| 0.444|       pitch D|          -8.683|Minor|     0.0327|        0.68|         1.94E-5|   0.142|  0.286|    113.919|         3.0515|Instrumental|\n",
            "+------------+--------------------+----------+------------+------+--------------+----------------+-----+-----------+------------+----------------+--------+-------+-----------+---------------+------------+\n",
            "\n"
          ]
        }
      ],
      "source": [
        "spark_df1.filter( (spark_df1['Artist_Name'] == 'Anson Seabra') | (spark_df1['Artist_Name'] == 'Novo Amor') | (spark_df1['Artist_Name'] == 'J. Cole')).show()\n"
      ]
    },
    {
      "cell_type": "markdown",
      "metadata": {
        "id": "XI4QKTe6Xpt6"
      },
      "source": [
        "**d) How many songs are included in every category?**"
      ]
    },
    {
      "cell_type": "markdown",
      "metadata": {
        "id": "YhmR6RIMlmZT"
      },
      "source": [
        "in this question, we want the number of songs in every common genre, to do that, we'll groupby the genre in order to calculate the count number of the songs in each genre , to do that, we'll use the agg function and naming the new column that will contain the result by song_count. As shown below:  "
      ]
    },
    {
      "cell_type": "code",
      "execution_count": 50,
      "metadata": {
        "colab": {
          "base_uri": "https://localhost:8080/"
        },
        "id": "hN3BrWp3-i--",
        "outputId": "94e1ba25-6ce1-43b6-9f85-c217a1a332ea"
      },
      "outputs": [
        {
          "output_type": "stream",
          "name": "stdout",
          "text": [
            "+-------------+----------+\n",
            "|        Genre|Song_Count|\n",
            "+-------------+----------+\n",
            "|          Alt|       714|\n",
            "| Instrumental|       800|\n",
            "|    Alt_Music|      1548|\n",
            "|        Metal|       137|\n",
            "|         Rock|       297|\n",
            "|        Blues|       275|\n",
            "|Acoustic/Folk|       985|\n",
            "|          Pop|       139|\n",
            "|      Country|      2405|\n",
            "|       HipHop|       373|\n",
            "|        Indie|       851|\n",
            "+-------------+----------+\n",
            "\n"
          ]
        }
      ],
      "source": [
        "# Group the DataFrame by the \"Genre\" column and count the number of songs in each category\n",
        "\n",
        "from pyspark.sql.functions import count\n",
        "spark_df1.groupBy(\"Genre\").agg(count(\"*\").alias(\"Song_Count\")).show()\n"
      ]
    },
    {
      "cell_type": "markdown",
      "metadata": {
        "id": "xjebu3GBlnE3"
      },
      "source": [
        "**e) Which artists dominated the charts?**\n"
      ]
    },
    {
      "cell_type": "markdown",
      "metadata": {
        "id": "XvzLV09Sz3yX"
      },
      "source": [
        "As we understood from the question, the required is that we want the highly ranked songs by each artist, to do that, we can analyze the dataset that contains information about various tracks, including the artist name and the popularity score. By finding the max popularity for each artist and sorting them in descending order, we can identify the artists who achieved the highest max popularity scores. These artists can be considered as the ones who dominated the charts."
      ]
    },
    {
      "cell_type": "code",
      "execution_count": 61,
      "metadata": {
        "id": "4nxOSTrWBT7u"
      },
      "outputs": [],
      "source": [
        "from pyspark.sql.functions import desc\n",
        "# Group the data by the \"Artist_Name\" column and calculate the max popularity for each artist\n",
        "popularity = spark_df1.groupBy(\"Artist_Name\").max(\"Popularity\")\n",
        "\n",
        "# Sort the data in descending order based on popularity\n",
        "sorted_artists = popularity.sort(desc(\"max(Popularity)\"))\n"
      ]
    },
    {
      "cell_type": "markdown",
      "source": [
        " **FYI :** *truncate = False* --> displays the full content of the attribute ( table values itself)"
      ],
      "metadata": {
        "id": "h6If-6ty6jTk"
      }
    },
    {
      "cell_type": "code",
      "execution_count": 62,
      "metadata": {
        "colab": {
          "base_uri": "https://localhost:8080/"
        },
        "id": "gQtY3STFB6oa",
        "outputId": "def00d94-c787-43d3-e1a7-c68a826c283c"
      },
      "outputs": [
        {
          "output_type": "stream",
          "name": "stdout",
          "text": [
            "+------------------------------------------------+---------------+\n",
            "|Artist_Name                                     |max(Popularity)|\n",
            "+------------------------------------------------+---------------+\n",
            "|Doja Cat                                        |98.0           |\n",
            "|Ed Sheeran                                      |97.0           |\n",
            "|Doja Cat, SZA                                   |95.0           |\n",
            "|Olivia Rodrigo                                  |95.0           |\n",
            "|Rauw Alejandro                                  |95.0           |\n",
            "|Riton                                           |94.0           |\n",
            "|Billie Eilish                                   |93.0           |\n",
            "|Nio Garcia                                      |93.0           |\n",
            "|Riton, Nightcrawlers, Mufasa & Hypeman, Dopamine|92.0           |\n",
            "|ATB                                             |91.0           |\n",
            "|Bella Poarch                                    |90.0           |\n",
            "|Joel Corry                                      |90.0           |\n",
            "|Post Malone                                     |90.0           |\n",
            "|Cardi B                                         |90.0           |\n",
            "|AURORA                                          |89.0           |\n",
            "|Lil Tjay                                        |89.0           |\n",
            "|Majestic, Boney M.                              |89.0           |\n",
            "|SZA                                             |89.0           |\n",
            "|Saweetie                                        |89.0           |\n",
            "|Majestic                                        |88.0           |\n",
            "+------------------------------------------------+---------------+\n",
            "only showing top 20 rows\n",
            "\n"
          ]
        }
      ],
      "source": [
        "sorted_artists.show(truncate=False)"
      ]
    },
    {
      "cell_type": "markdown",
      "metadata": {
        "id": "76qMSR4y95aR"
      },
      "source": [
        "Doja Cat a3la wahdaa 🤩 "
      ]
    },
    {
      "cell_type": "markdown",
      "metadata": {
        "id": "GzZ6h7ejmjK1"
      },
      "source": [
        "**f) What songs would be considered for the “Billboard Top 10 Songs of the Year”? (mention their artists as well)**"
      ]
    },
    {
      "cell_type": "markdown",
      "metadata": {
        "id": "kLLIYaHvCi4_"
      },
      "source": [
        "To find the top 10 songs, we'll order the songs in a descending order based on their popularity as the more popular the song is, the more top it will be . And we'll and the limit to display just the top 10 . "
      ]
    },
    {
      "cell_type": "code",
      "source": [
        "top_10_songs = spark_df1.select(\"Artist_Name\",\"Track_Name\", \"Popularity\").orderBy(spark_df1[\"Popularity\"].desc()).limit(10)\n",
        "top_10_songs.show(truncate=False) \n"
      ],
      "metadata": {
        "colab": {
          "base_uri": "https://localhost:8080/"
        },
        "id": "NWXMU04GLn1l",
        "outputId": "c00babc7-33ed-4226-af91-09a8c064698f"
      },
      "execution_count": 60,
      "outputs": [
        {
          "output_type": "stream",
          "name": "stdout",
          "text": [
            "+--------------+--------------------------------------------------+----------+\n",
            "|Artist_Name   |Track_Name                                        |Popularity|\n",
            "+--------------+--------------------------------------------------+----------+\n",
            "|Doja Cat      |Kiss Me More (feat. SZA)                          |98.0      |\n",
            "|Ed Sheeran    |Bad Habits                                        |97.0      |\n",
            "|Doja Cat, SZA |Kiss Me More (feat. SZA)                          |95.0      |\n",
            "|Rauw Alejandro|Todo De Ti                                        |95.0      |\n",
            "|Olivia Rodrigo|deja vu                                           |95.0      |\n",
            "|Olivia Rodrigo|drivers license                                   |95.0      |\n",
            "|Doja Cat, SZA |Kiss Me More (feat. SZA)                          |95.0      |\n",
            "|Riton         |Friday (feat. Mufasa & Hypeman) - Dopamine Re-Edit|94.0      |\n",
            "|Nio Garcia    |Am                                                |93.0      |\n",
            "|Billie Eilish |Your Power                                        |93.0      |\n",
            "+--------------+--------------------------------------------------+----------+\n",
            "\n"
          ]
        }
      ]
    },
    {
      "cell_type": "markdown",
      "metadata": {
        "id": "QMECipqzmoKH"
      },
      "source": [
        "**g) Recommend at least 5 songs that can be played at a party**"
      ]
    },
    {
      "cell_type": "markdown",
      "source": [
        "to recommend songs for a party, we can simply choose them based on their popularity (trending) so the party will be more fun , the same concept of the previous question could be applied here "
      ],
      "metadata": {
        "id": "7C6R_UID6nQK"
      }
    },
    {
      "cell_type": "code",
      "source": [
        "recommended_songs = spark_df1.select(\"Track_Name\", \"Artist_Name\", \"Popularity\").orderBy(spark_df1[\"Popularity\"].desc()).limit(5)\n",
        "recommended_songs.show(truncate=False)\n"
      ],
      "metadata": {
        "colab": {
          "base_uri": "https://localhost:8080/"
        },
        "id": "J6iAsQUBMzBs",
        "outputId": "df882b01-4611-4e28-9cd0-f43462590741"
      },
      "execution_count": 58,
      "outputs": [
        {
          "output_type": "stream",
          "name": "stdout",
          "text": [
            "+------------------------+--------------+----------+\n",
            "|Track_Name              |Artist_Name   |Popularity|\n",
            "+------------------------+--------------+----------+\n",
            "|Kiss Me More (feat. SZA)|Doja Cat      |98.0      |\n",
            "|Bad Habits              |Ed Sheeran    |97.0      |\n",
            "|deja vu                 |Olivia Rodrigo|95.0      |\n",
            "|drivers license         |Olivia Rodrigo|95.0      |\n",
            "|Kiss Me More (feat. SZA)|Doja Cat, SZA |95.0      |\n",
            "+------------------------+--------------+----------+\n",
            "\n"
          ]
        }
      ]
    },
    {
      "cell_type": "markdown",
      "source": [
        "Another solution,  we can actually use the danceability (as its could be powerful to know if the song really would be recommended in the party as it descripes how suitable a song is for dancing) , and energy as it descripes if the song feel fast, loud and noicy, and popularity as it descripes how popular the song is \n",
        "\n",
        "However, we can also use the Valence attribute as it descripes the musical positiveness for example ( happy, cheerful, sad, depressed) . \n",
        "\n",
        "In the below code, we'll use these 3 attributes: \n",
        "danceability, energy, and popularity . "
      ],
      "metadata": {
        "id": "dd8-3sCS-iNj"
      }
    },
    {
      "cell_type": "code",
      "source": [
        "# First, we'll filter the data to include songs suitable for a party based on danceability, energy, and popularity\n",
        "# we'll put a threshold to filter them based on the dataset\n",
        "songs = spark_df1.filter((spark_df1[\"danceability\"] >= 0.7) & (spark_df1[\"energy\"] >= 0.7) & (spark_df1[\"Popularity\"] >= 60))\n",
        "\n",
        "# Next, we'll make sure that there's no duplicates while displaying the songs based on both song name and artist name\n",
        "songs = songs.dropDuplicates([\"Track_Name\", \"Artist_Name\"])\n",
        "\n",
        "# And then, we'll sort the party songs data based on popularity in descending order\n",
        "sorted_songs = songs.sort(desc(\"Popularity\"))\n",
        "\n",
        "# finally, we'll select the columns \"Song_Name\" and \"Artist_Name\" to display the recommended party songs\n",
        "selected_columns = [\"Track_Name\", \"Artist_Name\"]\n",
        "recommended_songs2 = sorted_songs.select(selected_columns)"
      ],
      "metadata": {
        "id": "CYzxoPw__e8L"
      },
      "execution_count": 64,
      "outputs": []
    },
    {
      "cell_type": "code",
      "source": [
        "recommended_songs2.show(5, truncate=False)"
      ],
      "metadata": {
        "colab": {
          "base_uri": "https://localhost:8080/"
        },
        "id": "R46A3ZYP_l8L",
        "outputId": "0c799436-cd97-4a56-907b-194a7fdaaf3e"
      },
      "execution_count": 65,
      "outputs": [
        {
          "output_type": "stream",
          "name": "stdout",
          "text": [
            "+--------------------------------------------------+--------------+\n",
            "|Track_Name                                        |Artist_Name   |\n",
            "+--------------------------------------------------+--------------+\n",
            "|Kiss Me More (feat. SZA)                          |Doja Cat      |\n",
            "|Bad Habits                                        |Ed Sheeran    |\n",
            "|Kiss Me More (feat. SZA)                          |Doja Cat, SZA |\n",
            "|Todo De Ti                                        |Rauw Alejandro|\n",
            "|Friday (feat. Mufasa & Hypeman) - Dopamine Re-Edit|Riton         |\n",
            "+--------------------------------------------------+--------------+\n",
            "only showing top 5 rows\n",
            "\n"
          ]
        }
      ]
    }
  ],
  "metadata": {
    "colab": {
      "provenance": []
    },
    "kernelspec": {
      "display_name": "Python 3",
      "name": "python3"
    },
    "language_info": {
      "name": "python"
    }
  },
  "nbformat": 4,
  "nbformat_minor": 0
}